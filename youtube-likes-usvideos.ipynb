{
 "cells": [
  {
   "cell_type": "code",
   "execution_count": 1,
   "metadata": {
    "_cell_guid": "b1076dfc-b9ad-4769-8c92-a6c4dae69d19",
    "_uuid": "8f2839f25d086af736a60e9eeb907d3b93b6e0e5",
    "execution": {
     "iopub.execute_input": "2021-11-28T05:23:19.148630Z",
     "iopub.status.busy": "2021-11-28T05:23:19.147970Z",
     "iopub.status.idle": "2021-11-28T05:23:19.840288Z",
     "shell.execute_reply": "2021-11-28T05:23:19.839244Z",
     "shell.execute_reply.started": "2021-11-28T05:23:19.148554Z"
    }
   },
   "outputs": [],
   "source": [
    "# This Python 3 environment comes with many helpful analytics libraries installed\n",
    "# It is defined by the kaggle/python docker image: https://github.com/kaggle/docker-python\n",
    "# For example, here's several helpful packages to load in \n",
    "\n",
    "import numpy as np # linear algebra\n",
    "import pandas as pd # data processing, CSV file I/O (e.g. pd.read_csv)\n",
    "\n",
    "# Input data files are available in the \"../input/\" directory.\n",
    "# For example, running this (by clicking run or pressing Shift+Enter) will list all files under the input directory\n",
    "\n",
    "import os\n",
    "for dirname, _, filenames in os.walk('/kaggle/input'):\n",
    "    for filename in filenames:\n",
    "        print(os.path.join(dirname, filename))\n",
    "\n",
    "# Any results you write to the current directory are saved as output."
   ]
  },
  {
   "cell_type": "code",
   "execution_count": 2,
   "metadata": {
    "_cell_guid": "79c7e3d0-c299-4dcb-8224-4455121ee9b0",
    "_uuid": "d629ff2d2480ee46fbb7e2d37f6b5fab8052498a",
    "execution": {
     "iopub.execute_input": "2021-11-28T05:23:19.843926Z",
     "iopub.status.busy": "2021-11-28T05:23:19.843402Z",
     "iopub.status.idle": "2021-11-28T05:23:21.707276Z",
     "shell.execute_reply": "2021-11-28T05:23:21.705871Z",
     "shell.execute_reply.started": "2021-11-28T05:23:19.843851Z"
    }
   },
   "outputs": [],
   "source": [
    "import numpy as np\n",
    "import pandas as pd\n",
    "import seaborn as sns\n",
    "import matplotlib.pyplot as plt\n",
    "import json\n",
    "from sklearn.linear_model import LinearRegression\n",
    "from sklearn.model_selection import train_test_split\n",
    "from sklearn.metrics import r2_score,mean_squared_error\n",
    "import statsmodels.api as sm"
   ]
  },
  {
   "cell_type": "code",
   "execution_count": 3,
   "metadata": {
    "execution": {
     "iopub.execute_input": "2021-11-28T05:23:21.710525Z",
     "iopub.status.busy": "2021-11-28T05:23:21.709987Z",
     "iopub.status.idle": "2021-11-28T05:23:22.890046Z",
     "shell.execute_reply": "2021-11-28T05:23:22.888738Z",
     "shell.execute_reply.started": "2021-11-28T05:23:21.710449Z"
    }
   },
   "outputs": [],
   "source": [
    "US_video=pd.read_csv(\"USvideos.csv\")"
   ]
  },
  {
   "cell_type": "code",
   "execution_count": 4,
   "metadata": {
    "execution": {
     "iopub.execute_input": "2021-11-28T05:23:22.892008Z",
     "iopub.status.busy": "2021-11-28T05:23:22.891596Z",
     "iopub.status.idle": "2021-11-28T05:23:22.943102Z",
     "shell.execute_reply": "2021-11-28T05:23:22.941787Z",
     "shell.execute_reply.started": "2021-11-28T05:23:22.891953Z"
    }
   },
   "outputs": [
    {
     "data": {
      "text/plain": [
       "video_id                    0\n",
       "trending_date               0\n",
       "title                       0\n",
       "channel_title               0\n",
       "category_id                 0\n",
       "publish_time                0\n",
       "tags                        0\n",
       "views                       0\n",
       "likes                       0\n",
       "dislikes                    0\n",
       "comment_count               0\n",
       "thumbnail_link              0\n",
       "comments_disabled           0\n",
       "ratings_disabled            0\n",
       "video_error_or_removed      0\n",
       "description               570\n",
       "dtype: int64"
      ]
     },
     "execution_count": 4,
     "metadata": {},
     "output_type": "execute_result"
    }
   ],
   "source": [
    "US_video.isnull().sum()"
   ]
  },
  {
   "cell_type": "code",
   "execution_count": 5,
   "metadata": {
    "execution": {
     "iopub.execute_input": "2021-11-28T05:23:22.946637Z",
     "iopub.status.busy": "2021-11-28T05:23:22.946286Z",
     "iopub.status.idle": "2021-11-28T05:23:22.957571Z",
     "shell.execute_reply": "2021-11-28T05:23:22.955560Z",
     "shell.execute_reply.started": "2021-11-28T05:23:22.946587Z"
    }
   },
   "outputs": [
    {
     "name": "stdout",
     "output_type": "stream",
     "text": [
      "Index(['video_id', 'trending_date', 'title', 'channel_title', 'category_id',\n",
      "       'publish_time', 'tags', 'views', 'likes', 'dislikes', 'comment_count',\n",
      "       'thumbnail_link', 'comments_disabled', 'ratings_disabled',\n",
      "       'video_error_or_removed', 'description'],\n",
      "      dtype='object')\n",
      "video_id                  object\n",
      "trending_date             object\n",
      "title                     object\n",
      "channel_title             object\n",
      "category_id                int64\n",
      "publish_time              object\n",
      "tags                      object\n",
      "views                      int64\n",
      "likes                      int64\n",
      "dislikes                   int64\n",
      "comment_count              int64\n",
      "thumbnail_link            object\n",
      "comments_disabled           bool\n",
      "ratings_disabled            bool\n",
      "video_error_or_removed      bool\n",
      "description               object\n",
      "dtype: object\n"
     ]
    }
   ],
   "source": [
    "print(US_video.columns)\n",
    "print(US_video.dtypes)"
   ]
  },
  {
   "cell_type": "code",
   "execution_count": 6,
   "metadata": {
    "execution": {
     "iopub.execute_input": "2021-11-28T05:23:22.963697Z",
     "iopub.status.busy": "2021-11-28T05:23:22.963147Z",
     "iopub.status.idle": "2021-11-28T05:23:22.992545Z",
     "shell.execute_reply": "2021-11-28T05:23:22.990988Z",
     "shell.execute_reply.started": "2021-11-28T05:23:22.963618Z"
    }
   },
   "outputs": [
    {
     "name": "stdout",
     "output_type": "stream",
     "text": [
      "j4KvrAUjn6c    30\n",
      "r-3iathMo7o    29\n",
      "QBL8IRJ5yHU    29\n",
      "NBSAQenU2Bk    29\n",
      "8h--kFui1JA    29\n",
      "               ..\n",
      "FV4t5D0rwFs     1\n",
      "wnwF1FHybDQ     1\n",
      "1iGBHh1q0Kg     1\n",
      "2vQ_fnlvvr8     1\n",
      "Ho8Q_ebYgZc     1\n",
      "Name: video_id, Length: 6351, dtype: int64\n"
     ]
    }
   ],
   "source": [
    "print(US_video[\"video_id\"].value_counts())"
   ]
  },
  {
   "cell_type": "code",
   "execution_count": 7,
   "metadata": {
    "execution": {
     "iopub.execute_input": "2021-11-28T05:23:22.995059Z",
     "iopub.status.busy": "2021-11-28T05:23:22.994548Z",
     "iopub.status.idle": "2021-11-28T05:23:23.054493Z",
     "shell.execute_reply": "2021-11-28T05:23:23.053427Z",
     "shell.execute_reply.started": "2021-11-28T05:23:22.994984Z"
    }
   },
   "outputs": [
    {
     "name": "stdout",
     "output_type": "stream",
     "text": [
      "2018-05-18T14:00:04.000Z    50\n",
      "2018-05-06T13:00:05.000Z    32\n",
      "2018-05-13T18:03:56.000Z    30\n",
      "2018-05-14T13:00:01.000Z    29\n",
      "2018-05-14T15:59:47.000Z    29\n",
      "                            ..\n",
      "2017-11-27T14:00:02.000Z     1\n",
      "2017-11-12T18:00:03.000Z     1\n",
      "2018-03-27T07:35:00.000Z     1\n",
      "2017-11-30T14:00:07.000Z     1\n",
      "2018-03-02T05:10:46.000Z     1\n",
      "Name: publish_time, Length: 6269, dtype: int64\n"
     ]
    }
   ],
   "source": [
    "print(US_video[\"publish_time\"].value_counts())\n",
    "US_video[\"publish_time\"]=pd.to_datetime(US_video[\"publish_time\"])"
   ]
  },
  {
   "cell_type": "code",
   "execution_count": 8,
   "metadata": {
    "execution": {
     "iopub.execute_input": "2021-11-28T05:23:23.056248Z",
     "iopub.status.busy": "2021-11-28T05:23:23.055783Z",
     "iopub.status.idle": "2021-11-28T05:23:23.084978Z",
     "shell.execute_reply": "2021-11-28T05:23:23.083838Z",
     "shell.execute_reply.started": "2021-11-28T05:23:23.056032Z"
    }
   },
   "outputs": [],
   "source": [
    "US_video=US_video.assign(publish_day=US_video.publish_time.dt.day,publish_month=US_video.publish_time.dt.month,publish_year=US_video.publish_time.dt.year)"
   ]
  },
  {
   "cell_type": "code",
   "execution_count": 9,
   "metadata": {
    "execution": {
     "iopub.execute_input": "2021-11-28T05:23:23.086805Z",
     "iopub.status.busy": "2021-11-28T05:23:23.086455Z",
     "iopub.status.idle": "2021-11-28T05:23:23.430367Z",
     "shell.execute_reply": "2021-11-28T05:23:23.428846Z",
     "shell.execute_reply.started": "2021-11-28T05:23:23.086754Z"
    }
   },
   "outputs": [
    {
     "data": {
      "text/plain": [
       "<AxesSubplot:xlabel='publish_year', ylabel='count'>"
      ]
     },
     "execution_count": 9,
     "metadata": {},
     "output_type": "execute_result"
    },
    {
     "data": {
      "image/png": "[encoded data removed]",
      "text/plain": [
       "<Figure size 432x288 with 1 Axes>"
      ]
     },
     "metadata": {
      "needs_background": "light"
     },
     "output_type": "display_data"
    }
   ],
   "source": [
    "sns.countplot(x=US_video[\"publish_year\"],data=US_video)"
   ]
  },
  {
   "cell_type": "code",
   "execution_count": 10,
   "metadata": {
    "execution": {
     "iopub.execute_input": "2021-11-28T05:23:23.433325Z",
     "iopub.status.busy": "2021-11-28T05:23:23.432866Z",
     "iopub.status.idle": "2021-11-28T05:23:23.457648Z",
     "shell.execute_reply": "2021-11-28T05:23:23.456746Z",
     "shell.execute_reply.started": "2021-11-28T05:23:23.433267Z"
    }
   },
   "outputs": [],
   "source": [
    "US_video.drop(US_video[US_video[\"publish_year\"]<2017].index,inplace=True)"
   ]
  },
  {
   "cell_type": "code",
   "execution_count": 11,
   "metadata": {
    "execution": {
     "iopub.execute_input": "2021-11-28T05:23:23.460065Z",
     "iopub.status.busy": "2021-11-28T05:23:23.459372Z",
     "iopub.status.idle": "2021-11-28T05:23:24.082014Z",
     "shell.execute_reply": "2021-11-28T05:23:24.080919Z",
     "shell.execute_reply.started": "2021-11-28T05:23:23.460005Z"
    }
   },
   "outputs": [
    {
     "name": "stderr",
     "output_type": "stream",
     "text": [
      "<ipython-input-11-bcfb96a5d15d>:2: FutureWarning: Indexing with multiple keys (implicitly converted to a tuple of keys) will be deprecated, use a list instead.\n",
      "  US_video.groupby(\"publish_year\")[\"likes\",\"dislikes\",\"views\",\"comment_count\"].mean()\n"
     ]
    },
    {
     "data": {
      "text/html": [
       "<div>\n",
       "<style scoped>\n",
       "    .dataframe tbody tr th:only-of-type {\n",
       "        vertical-align: middle;\n",
       "    }\n",
       "\n",
       "    .dataframe tbody tr th {\n",
       "        vertical-align: top;\n",
       "    }\n",
       "\n",
       "    .dataframe thead th {\n",
       "        text-align: right;\n",
       "    }\n",
       "</style>\n",
       "<table border=\"1\" class=\"dataframe\">\n",
       "  <thead>\n",
       "    <tr style=\"text-align: right;\">\n",
       "      <th></th>\n",
       "      <th>likes</th>\n",
       "      <th>dislikes</th>\n",
       "      <th>views</th>\n",
       "      <th>comment_count</th>\n",
       "    </tr>\n",
       "    <tr>\n",
       "      <th>publish_year</th>\n",
       "      <th></th>\n",
       "      <th></th>\n",
       "      <th></th>\n",
       "      <th></th>\n",
       "    </tr>\n",
       "  </thead>\n",
       "  <tbody>\n",
       "    <tr>\n",
       "      <th>2017</th>\n",
       "      <td>47935.029824</td>\n",
       "      <td>2991.047277</td>\n",
       "      <td>1.313908e+06</td>\n",
       "      <td>5780.985232</td>\n",
       "    </tr>\n",
       "    <tr>\n",
       "      <th>2018</th>\n",
       "      <td>83925.168533</td>\n",
       "      <td>3988.920374</td>\n",
       "      <td>2.739773e+06</td>\n",
       "      <td>9431.740117</td>\n",
       "    </tr>\n",
       "  </tbody>\n",
       "</table>\n",
       "</div>"
      ],
      "text/plain": [
       "                     likes     dislikes         views  comment_count\n",
       "publish_year                                                        \n",
       "2017          47935.029824  2991.047277  1.313908e+06    5780.985232\n",
       "2018          83925.168533  3988.920374  2.739773e+06    9431.740117"
      ]
     },
     "execution_count": 11,
     "metadata": {},
     "output_type": "execute_result"
    },
    {
     "data": {
      "image/png": "[encoded data removed]",
      "text/plain": [
       "<Figure size 432x288 with 1 Axes>"
      ]
     },
     "metadata": {
      "needs_background": "light"
     },
     "output_type": "display_data"
    }
   ],
   "source": [
    "sns.barplot(x=US_video[\"publish_year\"],y=US_video[\"comment_count\"])\n",
    "US_video.groupby(\"publish_year\")[\"likes\",\"dislikes\",\"views\",\"comment_count\"].mean()"
   ]
  },
  {
   "cell_type": "code",
   "execution_count": 12,
   "metadata": {
    "execution": {
     "iopub.execute_input": "2021-11-28T05:23:24.085548Z",
     "iopub.status.busy": "2021-11-28T05:23:24.084906Z",
     "iopub.status.idle": "2021-11-28T05:23:24.692979Z",
     "shell.execute_reply": "2021-11-28T05:23:24.691368Z",
     "shell.execute_reply.started": "2021-11-28T05:23:24.085485Z"
    }
   },
   "outputs": [
    {
     "data": {
      "text/plain": [
       "<AxesSubplot:xlabel='publish_year', ylabel='views'>"
      ]
     },
     "execution_count": 12,
     "metadata": {},
     "output_type": "execute_result"
    },
    {
     "data": {
      "image/png": "[encoded data removed]",
      "text/plain": [
       "<Figure size 432x288 with 1 Axes>"
      ]
     },
     "metadata": {
      "needs_background": "light"
     },
     "output_type": "display_data"
    }
   ],
   "source": [
    "\n",
    "sns.barplot(x=US_video[\"publish_year\"],y=US_video[\"views\"])"
   ]
  },
  {
   "cell_type": "code",
   "execution_count": 13,
   "metadata": {
    "execution": {
     "iopub.execute_input": "2021-11-28T05:23:24.695896Z",
     "iopub.status.busy": "2021-11-28T05:23:24.695186Z",
     "iopub.status.idle": "2021-11-28T05:23:25.302279Z",
     "shell.execute_reply": "2021-11-28T05:23:25.301092Z",
     "shell.execute_reply.started": "2021-11-28T05:23:24.695605Z"
    }
   },
   "outputs": [
    {
     "data": {
      "text/plain": [
       "<AxesSubplot:xlabel='publish_year', ylabel='likes'>"
      ]
     },
     "execution_count": 13,
     "metadata": {},
     "output_type": "execute_result"
    },
    {
     "data": {
      "image/png": "[encoded data removed]",
      "text/plain": [
       "<Figure size 432x288 with 1 Axes>"
      ]
     },
     "metadata": {
      "needs_background": "light"
     },
     "output_type": "display_data"
    }
   ],
   "source": [
    "sns.barplot(x=US_video[\"publish_year\"],y=US_video[\"likes\"])\n"
   ]
  },
  {
   "cell_type": "code",
   "execution_count": 14,
   "metadata": {
    "execution": {
     "iopub.execute_input": "2021-11-28T05:23:25.306620Z",
     "iopub.status.busy": "2021-11-28T05:23:25.306285Z",
     "iopub.status.idle": "2021-11-28T05:23:25.926907Z",
     "shell.execute_reply": "2021-11-28T05:23:25.925758Z",
     "shell.execute_reply.started": "2021-11-28T05:23:25.306570Z"
    }
   },
   "outputs": [
    {
     "data": {
      "text/plain": [
       "<AxesSubplot:xlabel='publish_year', ylabel='dislikes'>"
      ]
     },
     "execution_count": 14,
     "metadata": {},
     "output_type": "execute_result"
    },
    {
     "data": {
      "image/png": "[encoded data removed]",
      "text/plain": [
       "<Figure size 432x288 with 1 Axes>"
      ]
     },
     "metadata": {
      "needs_background": "light"
     },
     "output_type": "display_data"
    }
   ],
   "source": [
    "sns.barplot(x=US_video[\"publish_year\"],y=US_video[\"dislikes\"])"
   ]
  },
  {
   "cell_type": "code",
   "execution_count": 15,
   "metadata": {
    "execution": {
     "iopub.execute_input": "2021-11-28T05:23:25.929473Z",
     "iopub.status.busy": "2021-11-28T05:23:25.928815Z",
     "iopub.status.idle": "2021-11-28T05:23:26.946319Z",
     "shell.execute_reply": "2021-11-28T05:23:26.944076Z",
     "shell.execute_reply.started": "2021-11-28T05:23:25.929246Z"
    }
   },
   "outputs": [
    {
     "data": {
      "text/plain": [
       "<AxesSubplot:xlabel='publish_month', ylabel='likes'>"
      ]
     },
     "execution_count": 15,
     "metadata": {},
     "output_type": "execute_result"
    },
    {
     "data": {
      "image/png": "[encoded data removed]",
      "text/plain": [
       "<Figure size 432x288 with 1 Axes>"
      ]
     },
     "metadata": {
      "needs_background": "light"
     },
     "output_type": "display_data"
    }
   ],
   "source": [
    "sns.countplot(x=US_video[\"publish_month\"],data=US_video)\n",
    "US_video.drop(US_video[(US_video[\"publish_month\"]<11) & (US_video[\"publish_month\"]>7)].index,inplace=True)\n",
    "sns.barplot(x=US_video[\"publish_month\"],y=US_video[\"likes\"])"
   ]
  },
  {
   "cell_type": "code",
   "execution_count": 16,
   "metadata": {
    "execution": {
     "iopub.execute_input": "2021-11-28T05:23:26.948418Z",
     "iopub.status.busy": "2021-11-28T05:23:26.947990Z",
     "iopub.status.idle": "2021-11-28T05:23:27.925712Z",
     "shell.execute_reply": "2021-11-28T05:23:27.924815Z",
     "shell.execute_reply.started": "2021-11-28T05:23:26.948361Z"
    }
   },
   "outputs": [
    {
     "data": {
      "text/plain": [
       "<AxesSubplot:xlabel='publish_month', ylabel='dislikes'>"
      ]
     },
     "execution_count": 16,
     "metadata": {},
     "output_type": "execute_result"
    },
    {
     "data": {
      "image/png": "[encoded data removed]",
      "text/plain": [
       "<Figure size 432x288 with 1 Axes>"
      ]
     },
     "metadata": {
      "needs_background": "light"
     },
     "output_type": "display_data"
    }
   ],
   "source": [
    "sns.barplot(x=US_video[\"publish_month\"],y=US_video[\"dislikes\"])"
   ]
  },
  {
   "cell_type": "code",
   "execution_count": 17,
   "metadata": {
    "execution": {
     "iopub.execute_input": "2021-11-28T05:23:27.930017Z",
     "iopub.status.busy": "2021-11-28T05:23:27.929585Z",
     "iopub.status.idle": "2021-11-28T05:23:28.878920Z",
     "shell.execute_reply": "2021-11-28T05:23:28.877919Z",
     "shell.execute_reply.started": "2021-11-28T05:23:27.929950Z"
    }
   },
   "outputs": [
    {
     "data": {
      "text/plain": [
       "<AxesSubplot:xlabel='publish_month', ylabel='views'>"
      ]
     },
     "execution_count": 17,
     "metadata": {},
     "output_type": "execute_result"
    },
    {
     "data": {
      "image/png": "[encoded data removed]",
      "text/plain": [
       "<Figure size 432x288 with 1 Axes>"
      ]
     },
     "metadata": {
      "needs_background": "light"
     },
     "output_type": "display_data"
    }
   ],
   "source": [
    "sns.barplot(x=US_video[\"publish_month\"],y=US_video[\"views\"])"
   ]
  },
  {
   "cell_type": "code",
   "execution_count": 18,
   "metadata": {
    "execution": {
     "iopub.execute_input": "2021-11-28T05:23:28.881332Z",
     "iopub.status.busy": "2021-11-28T05:23:28.880722Z",
     "iopub.status.idle": "2021-11-28T05:23:29.838273Z",
     "shell.execute_reply": "2021-11-28T05:23:29.835547Z",
     "shell.execute_reply.started": "2021-11-28T05:23:28.881127Z"
    }
   },
   "outputs": [
    {
     "name": "stderr",
     "output_type": "stream",
     "text": [
      "<ipython-input-18-43672d1a627b>:2: FutureWarning: Indexing with multiple keys (implicitly converted to a tuple of keys) will be deprecated, use a list instead.\n",
      "  US_video.groupby(\"publish_month\")[\"likes\",\"dislikes\",\"views\",\"comment_count\"].mean()\n"
     ]
    },
    {
     "data": {
      "text/html": [
       "<div>\n",
       "<style scoped>\n",
       "    .dataframe tbody tr th:only-of-type {\n",
       "        vertical-align: middle;\n",
       "    }\n",
       "\n",
       "    .dataframe tbody tr th {\n",
       "        vertical-align: top;\n",
       "    }\n",
       "\n",
       "    .dataframe thead th {\n",
       "        text-align: right;\n",
       "    }\n",
       "</style>\n",
       "<table border=\"1\" class=\"dataframe\">\n",
       "  <thead>\n",
       "    <tr style=\"text-align: right;\">\n",
       "      <th></th>\n",
       "      <th>likes</th>\n",
       "      <th>dislikes</th>\n",
       "      <th>views</th>\n",
       "      <th>comment_count</th>\n",
       "    </tr>\n",
       "    <tr>\n",
       "      <th>publish_month</th>\n",
       "      <th></th>\n",
       "      <th></th>\n",
       "      <th></th>\n",
       "      <th></th>\n",
       "    </tr>\n",
       "  </thead>\n",
       "  <tbody>\n",
       "    <tr>\n",
       "      <th>1</th>\n",
       "      <td>43058.747087</td>\n",
       "      <td>3973.271304</td>\n",
       "      <td>1.114892e+06</td>\n",
       "      <td>6737.001275</td>\n",
       "    </tr>\n",
       "    <tr>\n",
       "      <th>2</th>\n",
       "      <td>41465.552958</td>\n",
       "      <td>1764.652104</td>\n",
       "      <td>1.447916e+06</td>\n",
       "      <td>5067.605352</td>\n",
       "    </tr>\n",
       "    <tr>\n",
       "      <th>3</th>\n",
       "      <td>71427.723868</td>\n",
       "      <td>2463.214751</td>\n",
       "      <td>2.100250e+06</td>\n",
       "      <td>7653.214588</td>\n",
       "    </tr>\n",
       "    <tr>\n",
       "      <th>4</th>\n",
       "      <td>108474.880386</td>\n",
       "      <td>4542.152469</td>\n",
       "      <td>3.900867e+06</td>\n",
       "      <td>10670.030494</td>\n",
       "    </tr>\n",
       "    <tr>\n",
       "      <th>5</th>\n",
       "      <td>143137.735986</td>\n",
       "      <td>6766.430681</td>\n",
       "      <td>4.904549e+06</td>\n",
       "      <td>15477.199066</td>\n",
       "    </tr>\n",
       "    <tr>\n",
       "      <th>6</th>\n",
       "      <td>143984.910308</td>\n",
       "      <td>6553.883534</td>\n",
       "      <td>3.453943e+06</td>\n",
       "      <td>17677.775100</td>\n",
       "    </tr>\n",
       "    <tr>\n",
       "      <th>11</th>\n",
       "      <td>49151.855100</td>\n",
       "      <td>1616.097235</td>\n",
       "      <td>1.327496e+06</td>\n",
       "      <td>5657.602240</td>\n",
       "    </tr>\n",
       "    <tr>\n",
       "      <th>12</th>\n",
       "      <td>47743.088632</td>\n",
       "      <td>3969.174337</td>\n",
       "      <td>1.321756e+06</td>\n",
       "      <td>5941.969426</td>\n",
       "    </tr>\n",
       "  </tbody>\n",
       "</table>\n",
       "</div>"
      ],
      "text/plain": [
       "                       likes     dislikes         views  comment_count\n",
       "publish_month                                                         \n",
       "1               43058.747087  3973.271304  1.114892e+06    6737.001275\n",
       "2               41465.552958  1764.652104  1.447916e+06    5067.605352\n",
       "3               71427.723868  2463.214751  2.100250e+06    7653.214588\n",
       "4              108474.880386  4542.152469  3.900867e+06   10670.030494\n",
       "5              143137.735986  6766.430681  4.904549e+06   15477.199066\n",
       "6              143984.910308  6553.883534  3.453943e+06   17677.775100\n",
       "11              49151.855100  1616.097235  1.327496e+06    5657.602240\n",
       "12              47743.088632  3969.174337  1.321756e+06    5941.969426"
      ]
     },
     "execution_count": 18,
     "metadata": {},
     "output_type": "execute_result"
    },
    {
     "data": {
      "image/png": "[encoded data removed]",
      "text/plain": [
       "<Figure size 432x288 with 1 Axes>"
      ]
     },
     "metadata": {
      "needs_background": "light"
     },
     "output_type": "display_data"
    }
   ],
   "source": [
    "sns.barplot(x=US_video[\"publish_month\"],y=US_video[\"comment_count\"])\n",
    "US_video.groupby(\"publish_month\")[\"likes\",\"dislikes\",\"views\",\"comment_count\"].mean()"
   ]
  },
  {
   "cell_type": "code",
   "execution_count": 19,
   "metadata": {
    "execution": {
     "iopub.execute_input": "2021-11-28T05:23:29.841723Z",
     "iopub.status.busy": "2021-11-28T05:23:29.840915Z",
     "iopub.status.idle": "2021-11-28T05:23:29.935655Z",
     "shell.execute_reply": "2021-11-28T05:23:29.934902Z",
     "shell.execute_reply.started": "2021-11-28T05:23:29.841626Z"
    }
   },
   "outputs": [
    {
     "name": "stdout",
     "output_type": "stream",
     "text": [
      "18.28.04    200\n",
      "18.26.03    200\n",
      "18.03.06    200\n",
      "18.30.03    200\n",
      "17.13.12    200\n",
      "           ... \n",
      "18.01.01    191\n",
      "17.31.12    191\n",
      "18.02.01    191\n",
      "17.26.11    190\n",
      "17.27.11    188\n",
      "Name: trending_date, Length: 205, dtype: int64\n"
     ]
    }
   ],
   "source": [
    "print(US_video[\"trending_date\"].value_counts())\n",
    "US_video[\"trending_date\"]=pd.to_datetime(US_video[\"trending_date\"],format=\"%y.%d.%m\")\n",
    "US_video=US_video.assign(trending_day=US_video.trending_date.dt.day,trending_month=US_video.trending_date.dt.month,trending_year=US_video.trending_date.dt.year)\n"
   ]
  },
  {
   "cell_type": "code",
   "execution_count": 20,
   "metadata": {
    "execution": {
     "iopub.execute_input": "2021-11-28T05:23:29.938307Z",
     "iopub.status.busy": "2021-11-28T05:23:29.937941Z",
     "iopub.status.idle": "2021-11-28T05:23:30.182473Z",
     "shell.execute_reply": "2021-11-28T05:23:30.181230Z",
     "shell.execute_reply.started": "2021-11-28T05:23:29.938267Z"
    }
   },
   "outputs": [
    {
     "data": {
      "text/plain": [
       "<AxesSubplot:xlabel='trending_year', ylabel='count'>"
      ]
     },
     "execution_count": 20,
     "metadata": {},
     "output_type": "execute_result"
    },
    {
     "data": {
      "image/png": "[encoded data removed]",
      "text/plain": [
       "<Figure size 432x288 with 1 Axes>"
      ]
     },
     "metadata": {
      "needs_background": "light"
     },
     "output_type": "display_data"
    }
   ],
   "source": [
    "sns.countplot(x=US_video[\"trending_year\"],data=US_video)"
   ]
  },
  {
   "cell_type": "code",
   "execution_count": 21,
   "metadata": {
    "execution": {
     "iopub.execute_input": "2021-11-28T05:23:30.185663Z",
     "iopub.status.busy": "2021-11-28T05:23:30.184785Z",
     "iopub.status.idle": "2021-11-28T05:23:30.913538Z",
     "shell.execute_reply": "2021-11-28T05:23:30.912316Z",
     "shell.execute_reply.started": "2021-11-28T05:23:30.185590Z"
    }
   },
   "outputs": [
    {
     "data": {
      "text/plain": [
       "<AxesSubplot:xlabel='trending_year', ylabel='likes'>"
      ]
     },
     "execution_count": 21,
     "metadata": {},
     "output_type": "execute_result"
    },
    {
     "data": {
      "image/png": "[encoded data removed]",
      "text/plain": [
       "<Figure size 432x288 with 1 Axes>"
      ]
     },
     "metadata": {
      "needs_background": "light"
     },
     "output_type": "display_data"
    }
   ],
   "source": [
    "sns.barplot(x=US_video[\"trending_year\"],y=US_video[\"likes\"])"
   ]
  },
  {
   "cell_type": "code",
   "execution_count": 22,
   "metadata": {
    "execution": {
     "iopub.execute_input": "2021-11-28T05:23:30.916539Z",
     "iopub.status.busy": "2021-11-28T05:23:30.915742Z",
     "iopub.status.idle": "2021-11-28T05:23:31.628569Z",
     "shell.execute_reply": "2021-11-28T05:23:31.627341Z",
     "shell.execute_reply.started": "2021-11-28T05:23:30.916467Z"
    }
   },
   "outputs": [
    {
     "data": {
      "text/plain": [
       "<AxesSubplot:xlabel='trending_year', ylabel='dislikes'>"
      ]
     },
     "execution_count": 22,
     "metadata": {},
     "output_type": "execute_result"
    },
    {
     "data": {
      "image/png": "[encoded data removed]",
      "text/plain": [
       "<Figure size 432x288 with 1 Axes>"
      ]
     },
     "metadata": {
      "needs_background": "light"
     },
     "output_type": "display_data"
    }
   ],
   "source": [
    "sns.barplot(x=US_video[\"trending_year\"],y=US_video[\"dislikes\"])"
   ]
  },
  {
   "cell_type": "code",
   "execution_count": 23,
   "metadata": {
    "execution": {
     "iopub.execute_input": "2021-11-28T05:23:31.631612Z",
     "iopub.status.busy": "2021-11-28T05:23:31.630780Z",
     "iopub.status.idle": "2021-11-28T05:23:32.326096Z",
     "shell.execute_reply": "2021-11-28T05:23:32.324879Z",
     "shell.execute_reply.started": "2021-11-28T05:23:31.631529Z"
    }
   },
   "outputs": [
    {
     "data": {
      "text/plain": [
       "<AxesSubplot:xlabel='trending_year', ylabel='views'>"
      ]
     },
     "execution_count": 23,
     "metadata": {},
     "output_type": "execute_result"
    },
    {
     "data": {
      "image/png": "[encoded data removed]",
      "text/plain": [
       "<Figure size 432x288 with 1 Axes>"
      ]
     },
     "metadata": {
      "needs_background": "light"
     },
     "output_type": "display_data"
    }
   ],
   "source": [
    "sns.barplot(x=US_video[\"trending_year\"],y=US_video[\"views\"])"
   ]
  },
  {
   "cell_type": "code",
   "execution_count": 24,
   "metadata": {
    "execution": {
     "iopub.execute_input": "2021-11-28T05:23:32.329151Z",
     "iopub.status.busy": "2021-11-28T05:23:32.328325Z",
     "iopub.status.idle": "2021-11-28T05:23:33.157296Z",
     "shell.execute_reply": "2021-11-28T05:23:33.155512Z",
     "shell.execute_reply.started": "2021-11-28T05:23:32.329079Z"
    }
   },
   "outputs": [
    {
     "name": "stderr",
     "output_type": "stream",
     "text": [
      "<ipython-input-24-bcf33187e70c>:2: FutureWarning: Indexing with multiple keys (implicitly converted to a tuple of keys) will be deprecated, use a list instead.\n",
      "  US_video.groupby(\"trending_year\")[\"likes\",\"dislikes\",\"views\",\"comment_count\"].mean()\n"
     ]
    },
    {
     "data": {
      "text/html": [
       "<div>\n",
       "<style scoped>\n",
       "    .dataframe tbody tr th:only-of-type {\n",
       "        vertical-align: middle;\n",
       "    }\n",
       "\n",
       "    .dataframe tbody tr th {\n",
       "        vertical-align: top;\n",
       "    }\n",
       "\n",
       "    .dataframe thead th {\n",
       "        text-align: right;\n",
       "    }\n",
       "</style>\n",
       "<table border=\"1\" class=\"dataframe\">\n",
       "  <thead>\n",
       "    <tr style=\"text-align: right;\">\n",
       "      <th></th>\n",
       "      <th>likes</th>\n",
       "      <th>dislikes</th>\n",
       "      <th>views</th>\n",
       "      <th>comment_count</th>\n",
       "    </tr>\n",
       "    <tr>\n",
       "      <th>trending_year</th>\n",
       "      <th></th>\n",
       "      <th></th>\n",
       "      <th></th>\n",
       "      <th></th>\n",
       "    </tr>\n",
       "  </thead>\n",
       "  <tbody>\n",
       "    <tr>\n",
       "      <th>2017</th>\n",
       "      <td>48256.138536</td>\n",
       "      <td>3067.878490</td>\n",
       "      <td>1.315087e+06</td>\n",
       "      <td>5892.811760</td>\n",
       "    </tr>\n",
       "    <tr>\n",
       "      <th>2018</th>\n",
       "      <td>82864.147698</td>\n",
       "      <td>3942.026545</td>\n",
       "      <td>2.700087e+06</td>\n",
       "      <td>9301.802001</td>\n",
       "    </tr>\n",
       "  </tbody>\n",
       "</table>\n",
       "</div>"
      ],
      "text/plain": [
       "                      likes     dislikes         views  comment_count\n",
       "trending_year                                                        \n",
       "2017           48256.138536  3067.878490  1.315087e+06    5892.811760\n",
       "2018           82864.147698  3942.026545  2.700087e+06    9301.802001"
      ]
     },
     "execution_count": 24,
     "metadata": {},
     "output_type": "execute_result"
    },
    {
     "data": {
      "image/png": "[encoded data removed]",
      "text/plain": [
       "<Figure size 432x288 with 1 Axes>"
      ]
     },
     "metadata": {
      "needs_background": "light"
     },
     "output_type": "display_data"
    }
   ],
   "source": [
    "sns.barplot(x=US_video[\"trending_year\"],y=US_video[\"comment_count\"])\n",
    "US_video.groupby(\"trending_year\")[\"likes\",\"dislikes\",\"views\",\"comment_count\"].mean()"
   ]
  },
  {
   "cell_type": "code",
   "execution_count": 25,
   "metadata": {
    "execution": {
     "iopub.execute_input": "2021-11-28T05:23:33.160273Z",
     "iopub.status.busy": "2021-11-28T05:23:33.159719Z",
     "iopub.status.idle": "2021-11-28T05:23:33.479228Z",
     "shell.execute_reply": "2021-11-28T05:23:33.477909Z",
     "shell.execute_reply.started": "2021-11-28T05:23:33.160195Z"
    }
   },
   "outputs": [
    {
     "data": {
      "text/plain": [
       "<AxesSubplot:xlabel='trending_month', ylabel='count'>"
      ]
     },
     "execution_count": 25,
     "metadata": {},
     "output_type": "execute_result"
    },
    {
     "data": {
      "image/png": "[encoded data removed]",
      "text/plain": [
       "<Figure size 432x288 with 1 Axes>"
      ]
     },
     "metadata": {
      "needs_background": "light"
     },
     "output_type": "display_data"
    }
   ],
   "source": [
    "sns.countplot(x=US_video[\"trending_month\"],data=US_video)"
   ]
  },
  {
   "cell_type": "code",
   "execution_count": 26,
   "metadata": {
    "execution": {
     "iopub.execute_input": "2021-11-28T05:23:33.482014Z",
     "iopub.status.busy": "2021-11-28T05:23:33.481280Z",
     "iopub.status.idle": "2021-11-28T05:23:34.586122Z",
     "shell.execute_reply": "2021-11-28T05:23:34.584852Z",
     "shell.execute_reply.started": "2021-11-28T05:23:33.481944Z"
    }
   },
   "outputs": [
    {
     "data": {
      "text/plain": [
       "<AxesSubplot:xlabel='trending_month', ylabel='likes'>"
      ]
     },
     "execution_count": 26,
     "metadata": {},
     "output_type": "execute_result"
    },
    {
     "data": {
      "image/png": "[encoded data removed]",
      "text/plain": [
       "<Figure size 432x288 with 1 Axes>"
      ]
     },
     "metadata": {
      "needs_background": "light"
     },
     "output_type": "display_data"
    }
   ],
   "source": [
    "sns.barplot(x=US_video[\"trending_month\"],y=US_video[\"likes\"])"
   ]
  },
  {
   "cell_type": "code",
   "execution_count": 27,
   "metadata": {
    "execution": {
     "iopub.execute_input": "2021-11-28T05:23:34.595552Z",
     "iopub.status.busy": "2021-11-28T05:23:34.592327Z",
     "iopub.status.idle": "2021-11-28T05:23:35.612555Z",
     "shell.execute_reply": "2021-11-28T05:23:35.610785Z",
     "shell.execute_reply.started": "2021-11-28T05:23:34.595472Z"
    }
   },
   "outputs": [
    {
     "data": {
      "text/plain": [
       "<AxesSubplot:xlabel='trending_month', ylabel='dislikes'>"
      ]
     },
     "execution_count": 27,
     "metadata": {},
     "output_type": "execute_result"
    },
    {
     "data": {
      "image/png": "[encoded data removed]",
      "text/plain": [
       "<Figure size 432x288 with 1 Axes>"
      ]
     },
     "metadata": {
      "needs_background": "light"
     },
     "output_type": "display_data"
    }
   ],
   "source": [
    "sns.barplot(x=US_video[\"trending_month\"],y=US_video[\"dislikes\"])"
   ]
  },
  {
   "cell_type": "code",
   "execution_count": 28,
   "metadata": {
    "execution": {
     "iopub.execute_input": "2021-11-28T05:23:35.615373Z",
     "iopub.status.busy": "2021-11-28T05:23:35.614827Z",
     "iopub.status.idle": "2021-11-28T05:23:36.635329Z",
     "shell.execute_reply": "2021-11-28T05:23:36.633567Z",
     "shell.execute_reply.started": "2021-11-28T05:23:35.615295Z"
    }
   },
   "outputs": [
    {
     "data": {
      "text/plain": [
       "<AxesSubplot:xlabel='trending_month', ylabel='views'>"
      ]
     },
     "execution_count": 28,
     "metadata": {},
     "output_type": "execute_result"
    },
    {
     "data": {
      "image/png": "[encoded data removed]",
      "text/plain": [
       "<Figure size 432x288 with 1 Axes>"
      ]
     },
     "metadata": {
      "needs_background": "light"
     },
     "output_type": "display_data"
    }
   ],
   "source": [
    "sns.barplot(x=US_video[\"trending_month\"],y=US_video[\"views\"])"
   ]
  },
  {
   "cell_type": "code",
   "execution_count": 29,
   "metadata": {
    "execution": {
     "iopub.execute_input": "2021-11-28T05:23:36.638251Z",
     "iopub.status.busy": "2021-11-28T05:23:36.637734Z",
     "iopub.status.idle": "2021-11-28T05:23:37.676480Z",
     "shell.execute_reply": "2021-11-28T05:23:37.675215Z",
     "shell.execute_reply.started": "2021-11-28T05:23:36.638177Z"
    }
   },
   "outputs": [
    {
     "name": "stderr",
     "output_type": "stream",
     "text": [
      "<ipython-input-29-ab54c0147f4d>:2: FutureWarning: Indexing with multiple keys (implicitly converted to a tuple of keys) will be deprecated, use a list instead.\n",
      "  US_video.groupby(\"trending_month\")[\"likes\",\"dislikes\",\"views\",\"comment_count\"].mean()\n"
     ]
    },
    {
     "data": {
      "text/html": [
       "<div>\n",
       "<style scoped>\n",
       "    .dataframe tbody tr th:only-of-type {\n",
       "        vertical-align: middle;\n",
       "    }\n",
       "\n",
       "    .dataframe tbody tr th {\n",
       "        vertical-align: top;\n",
       "    }\n",
       "\n",
       "    .dataframe thead th {\n",
       "        text-align: right;\n",
       "    }\n",
       "</style>\n",
       "<table border=\"1\" class=\"dataframe\">\n",
       "  <thead>\n",
       "    <tr style=\"text-align: right;\">\n",
       "      <th></th>\n",
       "      <th>likes</th>\n",
       "      <th>dislikes</th>\n",
       "      <th>views</th>\n",
       "      <th>comment_count</th>\n",
       "    </tr>\n",
       "    <tr>\n",
       "      <th>trending_month</th>\n",
       "      <th></th>\n",
       "      <th></th>\n",
       "      <th></th>\n",
       "      <th></th>\n",
       "    </tr>\n",
       "  </thead>\n",
       "  <tbody>\n",
       "    <tr>\n",
       "      <th>1</th>\n",
       "      <td>44588.155276</td>\n",
       "      <td>3937.803824</td>\n",
       "      <td>1.139399e+06</td>\n",
       "      <td>6762.877479</td>\n",
       "    </tr>\n",
       "    <tr>\n",
       "      <th>2</th>\n",
       "      <td>39175.762675</td>\n",
       "      <td>1883.890687</td>\n",
       "      <td>1.446565e+06</td>\n",
       "      <td>4515.005214</td>\n",
       "    </tr>\n",
       "    <tr>\n",
       "      <th>3</th>\n",
       "      <td>65147.867055</td>\n",
       "      <td>2333.682031</td>\n",
       "      <td>1.867793e+06</td>\n",
       "      <td>7499.094614</td>\n",
       "    </tr>\n",
       "    <tr>\n",
       "      <th>4</th>\n",
       "      <td>92189.282500</td>\n",
       "      <td>3491.853542</td>\n",
       "      <td>3.039599e+06</td>\n",
       "      <td>9475.014167</td>\n",
       "    </tr>\n",
       "    <tr>\n",
       "      <th>5</th>\n",
       "      <td>133593.568801</td>\n",
       "      <td>5949.443781</td>\n",
       "      <td>4.707389e+06</td>\n",
       "      <td>14507.846427</td>\n",
       "    </tr>\n",
       "    <tr>\n",
       "      <th>6</th>\n",
       "      <td>157680.232500</td>\n",
       "      <td>7917.900357</td>\n",
       "      <td>5.150089e+06</td>\n",
       "      <td>16089.823929</td>\n",
       "    </tr>\n",
       "    <tr>\n",
       "      <th>11</th>\n",
       "      <td>48024.287009</td>\n",
       "      <td>1633.917523</td>\n",
       "      <td>1.269075e+06</td>\n",
       "      <td>5319.835952</td>\n",
       "    </tr>\n",
       "    <tr>\n",
       "      <th>12</th>\n",
       "      <td>48381.004881</td>\n",
       "      <td>3840.154897</td>\n",
       "      <td>1.339868e+06</td>\n",
       "      <td>6201.394566</td>\n",
       "    </tr>\n",
       "  </tbody>\n",
       "</table>\n",
       "</div>"
      ],
      "text/plain": [
       "                        likes     dislikes         views  comment_count\n",
       "trending_month                                                         \n",
       "1                44588.155276  3937.803824  1.139399e+06    6762.877479\n",
       "2                39175.762675  1883.890687  1.446565e+06    4515.005214\n",
       "3                65147.867055  2333.682031  1.867793e+06    7499.094614\n",
       "4                92189.282500  3491.853542  3.039599e+06    9475.014167\n",
       "5               133593.568801  5949.443781  4.707389e+06   14507.846427\n",
       "6               157680.232500  7917.900357  5.150089e+06   16089.823929\n",
       "11               48024.287009  1633.917523  1.269075e+06    5319.835952\n",
       "12               48381.004881  3840.154897  1.339868e+06    6201.394566"
      ]
     },
     "execution_count": 29,
     "metadata": {},
     "output_type": "execute_result"
    },
    {
     "data": {
      "image/png": "[encoded data removed]",
      "text/plain": [
       "<Figure size 432x288 with 1 Axes>"
      ]
     },
     "metadata": {
      "needs_background": "light"
     },
     "output_type": "display_data"
    }
   ],
   "source": [
    "sns.barplot(x=US_video[\"trending_month\"],y=US_video[\"comment_count\"])\n",
    "US_video.groupby(\"trending_month\")[\"likes\",\"dislikes\",\"views\",\"comment_count\"].mean()"
   ]
  },
  {
   "cell_type": "code",
   "execution_count": 30,
   "metadata": {
    "execution": {
     "iopub.execute_input": "2021-11-28T05:23:37.679122Z",
     "iopub.status.busy": "2021-11-28T05:23:37.678427Z",
     "iopub.status.idle": "2021-11-28T05:23:37.737373Z",
     "shell.execute_reply": "2021-11-28T05:23:37.736541Z",
     "shell.execute_reply.started": "2021-11-28T05:23:37.679059Z"
    }
   },
   "outputs": [
    {
     "name": "stdout",
     "output_type": "stream",
     "text": [
      "WE MADE OUR MOM CRY...HER DREAM CAME TRUE!                                      30\n",
      "Mission: Impossible - Fallout (2018) - Official Trailer - Paramount Pictures    29\n",
      "Why I'm So Scared (being myself and crying too much)                            29\n",
      "YoungBoy Never Broke Again Goes Sneaker Shopping With Complex                   29\n",
      "Rooster Teeth Animated Adventures - Millie So Serious                           29\n",
      "                                                                                ..\n",
      "Neil Patrick Harris' Guest Host Monologue on Jimmy Kimmel Live                   1\n",
      "Butter Tubes Make Spreading Butter Easy                                          1\n",
      "Footage of starving polar bear exposes climate change impact                     1\n",
      "Girls Who Love Cheese                                                            1\n",
      "CEOs Try to Predict the Future in 10 Years | Vanity Fair                         1\n",
      "Name: title, Length: 6368, dtype: int64\n",
      "ESPN                                      203\n",
      "The Tonight Show Starring Jimmy Fallon    197\n",
      "TheEllenShow                              193\n",
      "Netflix                                   193\n",
      "Vox                                       193\n",
      "                                         ... \n",
      "Caterham Cars                               1\n",
      "CNLohr                                      1\n",
      "Thomas Sebastian                            1\n",
      "Gondwana Collection Namibia                 1\n",
      "American Bridge 21st Century                1\n",
      "Name: channel_title, Length: 2123, dtype: int64\n"
     ]
    }
   ],
   "source": [
    "print(US_video[\"title\"].value_counts())\n",
    "print(US_video[\"channel_title\"].value_counts())"
   ]
  },
  {
   "cell_type": "code",
   "execution_count": 31,
   "metadata": {
    "execution": {
     "iopub.execute_input": "2021-11-28T05:23:37.739472Z",
     "iopub.status.busy": "2021-11-28T05:23:37.738982Z",
     "iopub.status.idle": "2021-11-28T05:23:37.764858Z",
     "shell.execute_reply": "2021-11-28T05:23:37.763857Z",
     "shell.execute_reply.started": "2021-11-28T05:23:37.739408Z"
    }
   },
   "outputs": [
    {
     "name": "stdout",
     "output_type": "stream",
     "text": [
      "24    9902\n",
      "10    6442\n",
      "26    4140\n",
      "23    3446\n",
      "22    3190\n",
      "25    2472\n",
      "28    2378\n",
      "1     2291\n",
      "17    2150\n",
      "27    1631\n",
      "15     918\n",
      "20     811\n",
      "19     400\n",
      "2      363\n",
      "29      57\n",
      "43      57\n",
      "Name: category_id, dtype: int64\n"
     ]
    }
   ],
   "source": [
    "US_video[\"category_id\"]=US_video[\"category_id\"].astype(\"object\")\n",
    "print(US_video[\"category_id\"].value_counts())"
   ]
  },
  {
   "cell_type": "code",
   "execution_count": 32,
   "metadata": {
    "execution": {
     "iopub.execute_input": "2021-11-28T05:23:37.773154Z",
     "iopub.status.busy": "2021-11-28T05:23:37.772786Z",
     "iopub.status.idle": "2021-11-28T05:23:40.248603Z",
     "shell.execute_reply": "2021-11-28T05:23:40.247822Z",
     "shell.execute_reply.started": "2021-11-28T05:23:37.773102Z"
    }
   },
   "outputs": [
    {
     "data": {
      "text/plain": [
       "<AxesSubplot:xlabel='category_id', ylabel='views'>"
      ]
     },
     "execution_count": 32,
     "metadata": {},
     "output_type": "execute_result"
    },
    {
     "data": {
      "image/png": "[encoded data removed]",
      "text/plain": [
       "<Figure size 432x288 with 1 Axes>"
      ]
     },
     "metadata": {
      "needs_background": "light"
     },
     "output_type": "display_data"
    }
   ],
   "source": [
    "sns.barplot(x=US_video[\"category_id\"],y=US_video[\"views\"],data=US_video,hue=\"publish_year\")\n"
   ]
  },
  {
   "cell_type": "code",
   "execution_count": 33,
   "metadata": {
    "execution": {
     "iopub.execute_input": "2021-11-28T05:23:40.250660Z",
     "iopub.status.busy": "2021-11-28T05:23:40.250162Z",
     "iopub.status.idle": "2021-11-28T05:23:42.722289Z",
     "shell.execute_reply": "2021-11-28T05:23:42.720961Z",
     "shell.execute_reply.started": "2021-11-28T05:23:40.250614Z"
    }
   },
   "outputs": [
    {
     "data": {
      "text/plain": [
       "<AxesSubplot:xlabel='category_id', ylabel='likes'>"
      ]
     },
     "execution_count": 33,
     "metadata": {},
     "output_type": "execute_result"
    },
    {
     "data": {
      "image/png": "[encoded data removed]",
      "text/plain": [
       "<Figure size 432x288 with 1 Axes>"
      ]
     },
     "metadata": {
      "needs_background": "light"
     },
     "output_type": "display_data"
    }
   ],
   "source": [
    "sns.barplot(x=US_video[\"category_id\"],y=US_video[\"likes\"],data=US_video,hue=\"publish_year\")\n",
    "\n"
   ]
  },
  {
   "cell_type": "code",
   "execution_count": 34,
   "metadata": {
    "execution": {
     "iopub.execute_input": "2021-11-28T05:23:42.725800Z",
     "iopub.status.busy": "2021-11-28T05:23:42.724812Z",
     "iopub.status.idle": "2021-11-28T05:23:45.171987Z",
     "shell.execute_reply": "2021-11-28T05:23:45.170741Z",
     "shell.execute_reply.started": "2021-11-28T05:23:42.725719Z"
    }
   },
   "outputs": [
    {
     "data": {
      "text/plain": [
       "<AxesSubplot:xlabel='category_id', ylabel='dislikes'>"
      ]
     },
     "execution_count": 34,
     "metadata": {},
     "output_type": "execute_result"
    },
    {
     "data": {
      "image/png": "[encoded data removed]",
      "text/plain": [
       "<Figure size 432x288 with 1 Axes>"
      ]
     },
     "metadata": {
      "needs_background": "light"
     },
     "output_type": "display_data"
    }
   ],
   "source": [
    "sns.barplot(x=US_video[\"category_id\"],y=US_video[\"dislikes\"],data=US_video, hue=\"publish_year\")\n",
    "\n"
   ]
  },
  {
   "cell_type": "code",
   "execution_count": 35,
   "metadata": {
    "execution": {
     "iopub.execute_input": "2021-11-28T05:23:45.175085Z",
     "iopub.status.busy": "2021-11-28T05:23:45.174244Z",
     "iopub.status.idle": "2021-11-28T05:23:47.611157Z",
     "shell.execute_reply": "2021-11-28T05:23:47.609589Z",
     "shell.execute_reply.started": "2021-11-28T05:23:45.175012Z"
    }
   },
   "outputs": [
    {
     "data": {
      "text/plain": [
       "<AxesSubplot:xlabel='category_id', ylabel='comment_count'>"
      ]
     },
     "execution_count": 35,
     "metadata": {},
     "output_type": "execute_result"
    },
    {
     "data": {
      "image/png": "[encoded data removed]",
      "text/plain": [
       "<Figure size 432x288 with 1 Axes>"
      ]
     },
     "metadata": {
      "needs_background": "light"
     },
     "output_type": "display_data"
    }
   ],
   "source": [
    "sns.barplot(x=US_video[\"category_id\"],y=US_video[\"comment_count\"],data=US_video,hue=\"publish_year\")\n"
   ]
  },
  {
   "cell_type": "code",
   "execution_count": 36,
   "metadata": {
    "execution": {
     "iopub.execute_input": "2021-11-28T05:23:47.613514Z",
     "iopub.status.busy": "2021-11-28T05:23:47.613052Z",
     "iopub.status.idle": "2021-11-28T05:23:47.653930Z",
     "shell.execute_reply": "2021-11-28T05:23:47.653082Z",
     "shell.execute_reply.started": "2021-11-28T05:23:47.613430Z"
    }
   },
   "outputs": [
    {
     "name": "stderr",
     "output_type": "stream",
     "text": [
      "<ipython-input-36-8a97d236624b>:1: FutureWarning: Indexing with multiple keys (implicitly converted to a tuple of keys) will be deprecated, use a list instead.\n",
      "  US_video.groupby(\"category_id\")[\"views\",\"likes\",\"dislikes\",\"comment_count\"].mean()\n"
     ]
    },
    {
     "data": {
      "text/html": [
       "<div>\n",
       "<style scoped>\n",
       "    .dataframe tbody tr th:only-of-type {\n",
       "        vertical-align: middle;\n",
       "    }\n",
       "\n",
       "    .dataframe tbody tr th {\n",
       "        vertical-align: top;\n",
       "    }\n",
       "\n",
       "    .dataframe thead th {\n",
       "        text-align: right;\n",
       "    }\n",
       "</style>\n",
       "<table border=\"1\" class=\"dataframe\">\n",
       "  <thead>\n",
       "    <tr style=\"text-align: right;\">\n",
       "      <th></th>\n",
       "      <th>views</th>\n",
       "      <th>likes</th>\n",
       "      <th>dislikes</th>\n",
       "      <th>comment_count</th>\n",
       "    </tr>\n",
       "    <tr>\n",
       "      <th>category_id</th>\n",
       "      <th></th>\n",
       "      <th></th>\n",
       "      <th></th>\n",
       "      <th></th>\n",
       "    </tr>\n",
       "  </thead>\n",
       "  <tbody>\n",
       "    <tr>\n",
       "      <th>1</th>\n",
       "      <td>3.177545e+06</td>\n",
       "      <td>72429.220864</td>\n",
       "      <td>2650.817110</td>\n",
       "      <td>7803.734177</td>\n",
       "    </tr>\n",
       "    <tr>\n",
       "      <th>2</th>\n",
       "      <td>1.433328e+06</td>\n",
       "      <td>11680.798898</td>\n",
       "      <td>667.504132</td>\n",
       "      <td>2158.316804</td>\n",
       "    </tr>\n",
       "    <tr>\n",
       "      <th>10</th>\n",
       "      <td>6.229605e+06</td>\n",
       "      <td>219935.847563</td>\n",
       "      <td>7944.531046</td>\n",
       "      <td>19449.638777</td>\n",
       "    </tr>\n",
       "    <tr>\n",
       "      <th>15</th>\n",
       "      <td>8.329431e+05</td>\n",
       "      <td>21100.943355</td>\n",
       "      <td>574.486928</td>\n",
       "      <td>2898.369281</td>\n",
       "    </tr>\n",
       "    <tr>\n",
       "      <th>17</th>\n",
       "      <td>2.048421e+06</td>\n",
       "      <td>45869.900465</td>\n",
       "      <td>2387.667907</td>\n",
       "      <td>5205.570233</td>\n",
       "    </tr>\n",
       "    <tr>\n",
       "      <th>19</th>\n",
       "      <td>8.588869e+05</td>\n",
       "      <td>12090.582500</td>\n",
       "      <td>851.067500</td>\n",
       "      <td>2278.767500</td>\n",
       "    </tr>\n",
       "    <tr>\n",
       "      <th>20</th>\n",
       "      <td>2.639886e+06</td>\n",
       "      <td>85125.573366</td>\n",
       "      <td>11324.737361</td>\n",
       "      <td>18175.377312</td>\n",
       "    </tr>\n",
       "    <tr>\n",
       "      <th>22</th>\n",
       "      <td>1.541038e+06</td>\n",
       "      <td>58498.268966</td>\n",
       "      <td>3193.493103</td>\n",
       "      <td>7767.160815</td>\n",
       "    </tr>\n",
       "    <tr>\n",
       "      <th>23</th>\n",
       "      <td>1.484667e+06</td>\n",
       "      <td>62781.291352</td>\n",
       "      <td>2098.130006</td>\n",
       "      <td>6542.336332</td>\n",
       "    </tr>\n",
       "    <tr>\n",
       "      <th>24</th>\n",
       "      <td>2.080529e+06</td>\n",
       "      <td>53574.299737</td>\n",
       "      <td>4341.151081</td>\n",
       "      <td>7428.889921</td>\n",
       "    </tr>\n",
       "    <tr>\n",
       "      <th>25</th>\n",
       "      <td>5.960044e+05</td>\n",
       "      <td>7340.996764</td>\n",
       "      <td>1690.714806</td>\n",
       "      <td>2442.429612</td>\n",
       "    </tr>\n",
       "    <tr>\n",
       "      <th>26</th>\n",
       "      <td>9.849915e+05</td>\n",
       "      <td>39342.971981</td>\n",
       "      <td>1322.190338</td>\n",
       "      <td>5591.666184</td>\n",
       "    </tr>\n",
       "    <tr>\n",
       "      <th>27</th>\n",
       "      <td>7.235471e+05</td>\n",
       "      <td>30200.072348</td>\n",
       "      <td>827.960147</td>\n",
       "      <td>3335.990190</td>\n",
       "    </tr>\n",
       "    <tr>\n",
       "      <th>28</th>\n",
       "      <td>1.466343e+06</td>\n",
       "      <td>34699.047939</td>\n",
       "      <td>1912.455004</td>\n",
       "      <td>5041.346510</td>\n",
       "    </tr>\n",
       "    <tr>\n",
       "      <th>29</th>\n",
       "      <td>2.963884e+06</td>\n",
       "      <td>259923.614035</td>\n",
       "      <td>58076.859649</td>\n",
       "      <td>84364.859649</td>\n",
       "    </tr>\n",
       "    <tr>\n",
       "      <th>43</th>\n",
       "      <td>9.035273e+05</td>\n",
       "      <td>18993.666667</td>\n",
       "      <td>429.964912</td>\n",
       "      <td>1668.719298</td>\n",
       "    </tr>\n",
       "  </tbody>\n",
       "</table>\n",
       "</div>"
      ],
      "text/plain": [
       "                    views          likes      dislikes  comment_count\n",
       "category_id                                                          \n",
       "1            3.177545e+06   72429.220864   2650.817110    7803.734177\n",
       "2            1.433328e+06   11680.798898    667.504132    2158.316804\n",
       "10           6.229605e+06  219935.847563   7944.531046   19449.638777\n",
       "15           8.329431e+05   21100.943355    574.486928    2898.369281\n",
       "17           2.048421e+06   45869.900465   2387.667907    5205.570233\n",
       "19           8.588869e+05   12090.582500    851.067500    2278.767500\n",
       "20           2.639886e+06   85125.573366  11324.737361   18175.377312\n",
       "22           1.541038e+06   58498.268966   3193.493103    7767.160815\n",
       "23           1.484667e+06   62781.291352   2098.130006    6542.336332\n",
       "24           2.080529e+06   53574.299737   4341.151081    7428.889921\n",
       "25           5.960044e+05    7340.996764   1690.714806    2442.429612\n",
       "26           9.849915e+05   39342.971981   1322.190338    5591.666184\n",
       "27           7.235471e+05   30200.072348    827.960147    3335.990190\n",
       "28           1.466343e+06   34699.047939   1912.455004    5041.346510\n",
       "29           2.963884e+06  259923.614035  58076.859649   84364.859649\n",
       "43           9.035273e+05   18993.666667    429.964912    1668.719298"
      ]
     },
     "execution_count": 36,
     "metadata": {},
     "output_type": "execute_result"
    }
   ],
   "source": [
    "US_video.groupby(\"category_id\")[\"views\",\"likes\",\"dislikes\",\"comment_count\"].mean()"
   ]
  },
  {
   "cell_type": "code",
   "execution_count": 37,
   "metadata": {
    "execution": {
     "iopub.execute_input": "2021-11-28T05:23:47.656245Z",
     "iopub.status.busy": "2021-11-28T05:23:47.655812Z",
     "iopub.status.idle": "2021-11-28T05:23:47.669816Z",
     "shell.execute_reply": "2021-11-28T05:23:47.668515Z",
     "shell.execute_reply.started": "2021-11-28T05:23:47.656192Z"
    }
   },
   "outputs": [
    {
     "name": "stdout",
     "output_type": "stream",
     "text": [
      "count    4.064800e+04\n",
      "mean     2.377893e+06\n",
      "std      7.418755e+06\n",
      "min      5.490000e+02\n",
      "25%      2.490940e+05\n",
      "50%      6.911940e+05\n",
      "75%      1.837612e+06\n",
      "max      2.252119e+08\n",
      "Name: views, dtype: float64\n"
     ]
    }
   ],
   "source": [
    "print(US_video[\"views\"].describe())\n"
   ]
  },
  {
   "cell_type": "code",
   "execution_count": 38,
   "metadata": {
    "execution": {
     "iopub.execute_input": "2021-11-28T05:23:47.671859Z",
     "iopub.status.busy": "2021-11-28T05:23:47.671427Z",
     "iopub.status.idle": "2021-11-28T05:23:47.683898Z",
     "shell.execute_reply": "2021-11-28T05:23:47.682713Z",
     "shell.execute_reply.started": "2021-11-28T05:23:47.671809Z"
    }
   },
   "outputs": [
    {
     "name": "stdout",
     "output_type": "stream",
     "text": [
      "count    4.064800e+04\n",
      "mean     7.481324e+04\n",
      "std      2.296428e+05\n",
      "min      0.000000e+00\n",
      "25%      5.613750e+03\n",
      "50%      1.838700e+04\n",
      "75%      5.592300e+04\n",
      "max      5.613827e+06\n",
      "Name: likes, dtype: float64\n"
     ]
    }
   ],
   "source": [
    "print(US_video[\"likes\"].describe())\n"
   ]
  },
  {
   "cell_type": "code",
   "execution_count": 39,
   "metadata": {
    "execution": {
     "iopub.execute_input": "2021-11-28T05:23:47.685948Z",
     "iopub.status.busy": "2021-11-28T05:23:47.685591Z",
     "iopub.status.idle": "2021-11-28T05:23:47.698656Z",
     "shell.execute_reply": "2021-11-28T05:23:47.697303Z",
     "shell.execute_reply.started": "2021-11-28T05:23:47.685900Z"
    }
   },
   "outputs": [
    {
     "name": "stdout",
     "output_type": "stream",
     "text": [
      "count    4.064800e+04\n",
      "mean     3.738672e+03\n",
      "std      2.913526e+04\n",
      "min      0.000000e+00\n",
      "25%      2.090000e+02\n",
      "50%      6.410000e+02\n",
      "75%      1.958250e+03\n",
      "max      1.674420e+06\n",
      "Name: dislikes, dtype: float64\n"
     ]
    }
   ],
   "source": [
    "print(US_video[\"dislikes\"].describe())\n"
   ]
  },
  {
   "cell_type": "code",
   "execution_count": 40,
   "metadata": {
    "execution": {
     "iopub.execute_input": "2021-11-28T05:23:47.701231Z",
     "iopub.status.busy": "2021-11-28T05:23:47.700842Z",
     "iopub.status.idle": "2021-11-28T05:23:47.713066Z",
     "shell.execute_reply": "2021-11-28T05:23:47.712066Z",
     "shell.execute_reply.started": "2021-11-28T05:23:47.701174Z"
    }
   },
   "outputs": [
    {
     "name": "stdout",
     "output_type": "stream",
     "text": [
      "count    4.064800e+04\n",
      "mean     8.508764e+03\n",
      "std      3.756187e+04\n",
      "min      0.000000e+00\n",
      "25%      6.290000e+02\n",
      "50%      1.881000e+03\n",
      "75%      5.815000e+03\n",
      "max      1.361580e+06\n",
      "Name: comment_count, dtype: float64\n"
     ]
    }
   ],
   "source": [
    "print(US_video[\"comment_count\"].describe())"
   ]
  },
  {
   "cell_type": "code",
   "execution_count": 41,
   "metadata": {
    "execution": {
     "iopub.execute_input": "2021-11-28T05:23:47.715199Z",
     "iopub.status.busy": "2021-11-28T05:23:47.714865Z",
     "iopub.status.idle": "2021-11-28T05:23:47.731524Z",
     "shell.execute_reply": "2021-11-28T05:23:47.730347Z",
     "shell.execute_reply.started": "2021-11-28T05:23:47.715148Z"
    }
   },
   "outputs": [
    {
     "name": "stderr",
     "output_type": "stream",
     "text": [
      "/opt/anaconda3/lib/python3.8/site-packages/pandas/core/arraylike.py:358: RuntimeWarning: divide by zero encountered in log\n",
      "  result = getattr(ufunc, method)(*inputs, **kwargs)\n"
     ]
    }
   ],
   "source": [
    "x1=np.log(US_video[\"views\"])\n",
    "y1=np.log(US_video[\"likes\"])\n",
    "y2=np.log(US_video[\"dislikes\"])\n",
    "y3=np.log(US_video[\"comment_count\"])\n"
   ]
  },
  {
   "cell_type": "code",
   "execution_count": 42,
   "metadata": {
    "execution": {
     "iopub.execute_input": "2021-11-28T05:23:47.733822Z",
     "iopub.status.busy": "2021-11-28T05:23:47.733351Z",
     "iopub.status.idle": "2021-11-28T05:23:48.727721Z",
     "shell.execute_reply": "2021-11-28T05:23:48.726499Z",
     "shell.execute_reply.started": "2021-11-28T05:23:47.733745Z"
    }
   },
   "outputs": [
    {
     "data": {
      "text/plain": [
       "<AxesSubplot:xlabel='views', ylabel='likes'>"
      ]
     },
     "execution_count": 42,
     "metadata": {},
     "output_type": "execute_result"
    },
    {
     "data": {
      "image/png": "[encoded data removed]",
      "text/plain": [
       "<Figure size 432x288 with 1 Axes>"
      ]
     },
     "metadata": {
      "needs_background": "light"
     },
     "output_type": "display_data"
    }
   ],
   "source": [
    "sns.regplot(x=x1,y=y1,fit_reg=False)"
   ]
  },
  {
   "cell_type": "code",
   "execution_count": 43,
   "metadata": {
    "execution": {
     "iopub.execute_input": "2021-11-28T05:23:48.730389Z",
     "iopub.status.busy": "2021-11-28T05:23:48.729682Z",
     "iopub.status.idle": "2021-11-28T05:23:49.611519Z",
     "shell.execute_reply": "2021-11-28T05:23:49.610274Z",
     "shell.execute_reply.started": "2021-11-28T05:23:48.730324Z"
    }
   },
   "outputs": [
    {
     "data": {
      "text/plain": [
       "<AxesSubplot:xlabel='views', ylabel='dislikes'>"
      ]
     },
     "execution_count": 43,
     "metadata": {},
     "output_type": "execute_result"
    },
    {
     "data": {
      "image/png": "[encoded data removed]",
      "text/plain": [
       "<Figure size 432x288 with 1 Axes>"
      ]
     },
     "metadata": {
      "needs_background": "light"
     },
     "output_type": "display_data"
    }
   ],
   "source": [
    "sns.regplot(x=x1,y=y2,fit_reg=False)"
   ]
  },
  {
   "cell_type": "code",
   "execution_count": 44,
   "metadata": {
    "execution": {
     "iopub.execute_input": "2021-11-28T05:23:49.614275Z",
     "iopub.status.busy": "2021-11-28T05:23:49.613549Z",
     "iopub.status.idle": "2021-11-28T05:23:50.492420Z",
     "shell.execute_reply": "2021-11-28T05:23:50.491108Z",
     "shell.execute_reply.started": "2021-11-28T05:23:49.614208Z"
    }
   },
   "outputs": [
    {
     "data": {
      "text/plain": [
       "<AxesSubplot:xlabel='views', ylabel='comment_count'>"
      ]
     },
     "execution_count": 44,
     "metadata": {},
     "output_type": "execute_result"
    },
    {
     "data": {
      "image/png": "[encoded data removed]",
      "text/plain": [
       "<Figure size 432x288 with 1 Axes>"
      ]
     },
     "metadata": {
      "needs_background": "light"
     },
     "output_type": "display_data"
    }
   ],
   "source": [
    "sns.regplot(x=x1,y=y3,fit_reg=False)"
   ]
  },
  {
   "cell_type": "code",
   "execution_count": 45,
   "metadata": {
    "execution": {
     "iopub.execute_input": "2021-11-28T05:23:50.495525Z",
     "iopub.status.busy": "2021-11-28T05:23:50.494959Z",
     "iopub.status.idle": "2021-11-28T05:23:50.563932Z",
     "shell.execute_reply": "2021-11-28T05:23:50.562584Z",
     "shell.execute_reply.started": "2021-11-28T05:23:50.495447Z"
    }
   },
   "outputs": [
    {
     "data": {
      "text/html": [
       "<div>\n",
       "<style scoped>\n",
       "    .dataframe tbody tr th:only-of-type {\n",
       "        vertical-align: middle;\n",
       "    }\n",
       "\n",
       "    .dataframe tbody tr th {\n",
       "        vertical-align: top;\n",
       "    }\n",
       "\n",
       "    .dataframe thead th {\n",
       "        text-align: right;\n",
       "    }\n",
       "</style>\n",
       "<table border=\"1\" class=\"dataframe\">\n",
       "  <thead>\n",
       "    <tr style=\"text-align: right;\">\n",
       "      <th></th>\n",
       "      <th>views</th>\n",
       "      <th>likes</th>\n",
       "      <th>dislikes</th>\n",
       "      <th>comment_count</th>\n",
       "      <th>publish_day</th>\n",
       "      <th>publish_month</th>\n",
       "      <th>publish_year</th>\n",
       "      <th>trending_day</th>\n",
       "      <th>trending_month</th>\n",
       "      <th>trending_year</th>\n",
       "    </tr>\n",
       "  </thead>\n",
       "  <tbody>\n",
       "    <tr>\n",
       "      <th>views</th>\n",
       "      <td>1.000000</td>\n",
       "      <td>0.849064</td>\n",
       "      <td>0.472119</td>\n",
       "      <td>0.617442</td>\n",
       "      <td>-0.036457</td>\n",
       "      <td>-0.025723</td>\n",
       "      <td>0.083357</td>\n",
       "      <td>-0.000720</td>\n",
       "      <td>-0.010667</td>\n",
       "      <td>0.078879</td>\n",
       "    </tr>\n",
       "    <tr>\n",
       "      <th>likes</th>\n",
       "      <td>0.849064</td>\n",
       "      <td>1.000000</td>\n",
       "      <td>0.447082</td>\n",
       "      <td>0.802981</td>\n",
       "      <td>-0.021299</td>\n",
       "      <td>-0.015617</td>\n",
       "      <td>0.067806</td>\n",
       "      <td>-0.000054</td>\n",
       "      <td>-0.003472</td>\n",
       "      <td>0.063674</td>\n",
       "    </tr>\n",
       "    <tr>\n",
       "      <th>dislikes</th>\n",
       "      <td>0.472119</td>\n",
       "      <td>0.447082</td>\n",
       "      <td>1.000000</td>\n",
       "      <td>0.700145</td>\n",
       "      <td>-0.028048</td>\n",
       "      <td>0.000378</td>\n",
       "      <td>0.014678</td>\n",
       "      <td>-0.007428</td>\n",
       "      <td>0.004269</td>\n",
       "      <td>0.012677</td>\n",
       "    </tr>\n",
       "    <tr>\n",
       "      <th>comment_count</th>\n",
       "      <td>0.617442</td>\n",
       "      <td>0.802981</td>\n",
       "      <td>0.700145</td>\n",
       "      <td>1.000000</td>\n",
       "      <td>-0.020298</td>\n",
       "      <td>-0.012197</td>\n",
       "      <td>0.041990</td>\n",
       "      <td>0.000718</td>\n",
       "      <td>-0.004714</td>\n",
       "      <td>0.038346</td>\n",
       "    </tr>\n",
       "    <tr>\n",
       "      <th>publish_day</th>\n",
       "      <td>-0.036457</td>\n",
       "      <td>-0.021299</td>\n",
       "      <td>-0.028048</td>\n",
       "      <td>-0.020298</td>\n",
       "      <td>1.000000</td>\n",
       "      <td>0.058011</td>\n",
       "      <td>-0.101952</td>\n",
       "      <td>0.113836</td>\n",
       "      <td>0.044293</td>\n",
       "      <td>-0.045246</td>\n",
       "    </tr>\n",
       "    <tr>\n",
       "      <th>publish_month</th>\n",
       "      <td>-0.025723</td>\n",
       "      <td>-0.015617</td>\n",
       "      <td>0.000378</td>\n",
       "      <td>-0.012197</td>\n",
       "      <td>0.058011</td>\n",
       "      <td>1.000000</td>\n",
       "      <td>-0.941995</td>\n",
       "      <td>0.048824</td>\n",
       "      <td>0.903854</td>\n",
       "      <td>-0.882504</td>\n",
       "    </tr>\n",
       "    <tr>\n",
       "      <th>publish_year</th>\n",
       "      <td>0.083357</td>\n",
       "      <td>0.067806</td>\n",
       "      <td>0.014678</td>\n",
       "      <td>0.041990</td>\n",
       "      <td>-0.101952</td>\n",
       "      <td>-0.941995</td>\n",
       "      <td>1.000000</td>\n",
       "      <td>-0.063504</td>\n",
       "      <td>-0.841869</td>\n",
       "      <td>0.940880</td>\n",
       "    </tr>\n",
       "    <tr>\n",
       "      <th>trending_day</th>\n",
       "      <td>-0.000720</td>\n",
       "      <td>-0.000054</td>\n",
       "      <td>-0.007428</td>\n",
       "      <td>0.000718</td>\n",
       "      <td>0.113836</td>\n",
       "      <td>0.048824</td>\n",
       "      <td>-0.063504</td>\n",
       "      <td>1.000000</td>\n",
       "      <td>0.077332</td>\n",
       "      <td>-0.138492</td>\n",
       "    </tr>\n",
       "    <tr>\n",
       "      <th>trending_month</th>\n",
       "      <td>-0.010667</td>\n",
       "      <td>-0.003472</td>\n",
       "      <td>0.004269</td>\n",
       "      <td>-0.004714</td>\n",
       "      <td>0.044293</td>\n",
       "      <td>0.903854</td>\n",
       "      <td>-0.841869</td>\n",
       "      <td>0.077332</td>\n",
       "      <td>1.000000</td>\n",
       "      <td>-0.927438</td>\n",
       "    </tr>\n",
       "    <tr>\n",
       "      <th>trending_year</th>\n",
       "      <td>0.078879</td>\n",
       "      <td>0.063674</td>\n",
       "      <td>0.012677</td>\n",
       "      <td>0.038346</td>\n",
       "      <td>-0.045246</td>\n",
       "      <td>-0.882504</td>\n",
       "      <td>0.940880</td>\n",
       "      <td>-0.138492</td>\n",
       "      <td>-0.927438</td>\n",
       "      <td>1.000000</td>\n",
       "    </tr>\n",
       "  </tbody>\n",
       "</table>\n",
       "</div>"
      ],
      "text/plain": [
       "                   views     likes  dislikes  comment_count  publish_day  \\\n",
       "views           1.000000  0.849064  0.472119       0.617442    -0.036457   \n",
       "likes           0.849064  1.000000  0.447082       0.802981    -0.021299   \n",
       "dislikes        0.472119  0.447082  1.000000       0.700145    -0.028048   \n",
       "comment_count   0.617442  0.802981  0.700145       1.000000    -0.020298   \n",
       "publish_day    -0.036457 -0.021299 -0.028048      -0.020298     1.000000   \n",
       "publish_month  -0.025723 -0.015617  0.000378      -0.012197     0.058011   \n",
       "publish_year    0.083357  0.067806  0.014678       0.041990    -0.101952   \n",
       "trending_day   -0.000720 -0.000054 -0.007428       0.000718     0.113836   \n",
       "trending_month -0.010667 -0.003472  0.004269      -0.004714     0.044293   \n",
       "trending_year   0.078879  0.063674  0.012677       0.038346    -0.045246   \n",
       "\n",
       "                publish_month  publish_year  trending_day  trending_month  \\\n",
       "views               -0.025723      0.083357     -0.000720       -0.010667   \n",
       "likes               -0.015617      0.067806     -0.000054       -0.003472   \n",
       "dislikes             0.000378      0.014678     -0.007428        0.004269   \n",
       "comment_count       -0.012197      0.041990      0.000718       -0.004714   \n",
       "publish_day          0.058011     -0.101952      0.113836        0.044293   \n",
       "publish_month        1.000000     -0.941995      0.048824        0.903854   \n",
       "publish_year        -0.941995      1.000000     -0.063504       -0.841869   \n",
       "trending_day         0.048824     -0.063504      1.000000        0.077332   \n",
       "trending_month       0.903854     -0.841869      0.077332        1.000000   \n",
       "trending_year       -0.882504      0.940880     -0.138492       -0.927438   \n",
       "\n",
       "                trending_year  \n",
       "views                0.078879  \n",
       "likes                0.063674  \n",
       "dislikes             0.012677  \n",
       "comment_count        0.038346  \n",
       "publish_day         -0.045246  \n",
       "publish_month       -0.882504  \n",
       "publish_year         0.940880  \n",
       "trending_day        -0.138492  \n",
       "trending_month      -0.927438  \n",
       "trending_year        1.000000  "
      ]
     },
     "execution_count": 45,
     "metadata": {},
     "output_type": "execute_result"
    }
   ],
   "source": [
    "num_data=US_video.select_dtypes(exclude=[\"object\",\"bool\"])\n",
    "num_data.corr()"
   ]
  },
  {
   "cell_type": "code",
   "execution_count": 46,
   "metadata": {
    "execution": {
     "iopub.execute_input": "2021-11-28T05:23:50.565892Z",
     "iopub.status.busy": "2021-11-28T05:23:50.565414Z",
     "iopub.status.idle": "2021-11-28T05:23:51.440541Z",
     "shell.execute_reply": "2021-11-28T05:23:51.439232Z",
     "shell.execute_reply.started": "2021-11-28T05:23:50.565811Z"
    }
   },
   "outputs": [
    {
     "data": {
      "text/plain": [
       "<AxesSubplot:xlabel='likes', ylabel='comment_count'>"
      ]
     },
     "execution_count": 46,
     "metadata": {},
     "output_type": "execute_result"
    },
    {
     "data": {
      "image/png": "[encoded data removed]",
      "text/plain": [
       "<Figure size 432x288 with 1 Axes>"
      ]
     },
     "metadata": {
      "needs_background": "light"
     },
     "output_type": "display_data"
    }
   ],
   "source": [
    "sns.regplot(x=y1,y=y3,fit_reg=False)"
   ]
  },
  {
   "cell_type": "code",
   "execution_count": 47,
   "metadata": {
    "execution": {
     "iopub.execute_input": "2021-11-28T05:23:51.443212Z",
     "iopub.status.busy": "2021-11-28T05:23:51.442490Z",
     "iopub.status.idle": "2021-11-28T05:23:52.342498Z",
     "shell.execute_reply": "2021-11-28T05:23:52.341292Z",
     "shell.execute_reply.started": "2021-11-28T05:23:51.443144Z"
    }
   },
   "outputs": [
    {
     "data": {
      "text/plain": [
       "<AxesSubplot:xlabel='dislikes', ylabel='comment_count'>"
      ]
     },
     "execution_count": 47,
     "metadata": {},
     "output_type": "execute_result"
    },
    {
     "data": {
      "image/png": "[encoded data removed]",
      "text/plain": [
       "<Figure size 432x288 with 1 Axes>"
      ]
     },
     "metadata": {
      "needs_background": "light"
     },
     "output_type": "display_data"
    }
   ],
   "source": [
    "sns.regplot(x=y2,y=y3,fit_reg=False)"
   ]
  },
  {
   "cell_type": "code",
   "execution_count": 48,
   "metadata": {
    "execution": {
     "iopub.execute_input": "2021-11-28T05:23:52.345178Z",
     "iopub.status.busy": "2021-11-28T05:23:52.344451Z",
     "iopub.status.idle": "2021-11-28T05:23:52.588092Z",
     "shell.execute_reply": "2021-11-28T05:23:52.586840Z",
     "shell.execute_reply.started": "2021-11-28T05:23:52.345112Z"
    }
   },
   "outputs": [
    {
     "name": "stdout",
     "output_type": "stream",
     "text": [
      "False    40025\n",
      "True       623\n",
      "Name: comments_disabled, dtype: int64\n"
     ]
    },
    {
     "data": {
      "text/plain": [
       "<AxesSubplot:xlabel='comments_disabled', ylabel='count'>"
      ]
     },
     "execution_count": 48,
     "metadata": {},
     "output_type": "execute_result"
    },
    {
     "data": {
      "image/png": "[encoded data removed]",
      "text/plain": [
       "<Figure size 432x288 with 1 Axes>"
      ]
     },
     "metadata": {
      "needs_background": "light"
     },
     "output_type": "display_data"
    }
   ],
   "source": [
    "print(US_video[\"comments_disabled\"].value_counts())\n",
    "sns.countplot(x=\"comments_disabled\",data=US_video)"
   ]
  },
  {
   "cell_type": "code",
   "execution_count": 49,
   "metadata": {
    "execution": {
     "iopub.execute_input": "2021-11-28T05:23:52.590731Z",
     "iopub.status.busy": "2021-11-28T05:23:52.590033Z",
     "iopub.status.idle": "2021-11-28T05:23:53.421908Z",
     "shell.execute_reply": "2021-11-28T05:23:53.419868Z",
     "shell.execute_reply.started": "2021-11-28T05:23:52.590650Z"
    }
   },
   "outputs": [
    {
     "data": {
      "text/plain": [
       "<AxesSubplot:xlabel='comments_disabled', ylabel='likes'>"
      ]
     },
     "execution_count": 49,
     "metadata": {},
     "output_type": "execute_result"
    },
    {
     "data": {
      "image/png": "[encoded data removed]",
      "text/plain": [
       "<Figure size 432x288 with 1 Axes>"
      ]
     },
     "metadata": {
      "needs_background": "light"
     },
     "output_type": "display_data"
    }
   ],
   "source": [
    "sns.barplot(x=\"comments_disabled\",y=\"likes\",data=US_video,hue=\"publish_year\")\n",
    "\n"
   ]
  },
  {
   "cell_type": "code",
   "execution_count": 50,
   "metadata": {
    "execution": {
     "iopub.execute_input": "2021-11-28T05:23:53.424657Z",
     "iopub.status.busy": "2021-11-28T05:23:53.424145Z",
     "iopub.status.idle": "2021-11-28T05:23:54.259927Z",
     "shell.execute_reply": "2021-11-28T05:23:54.258559Z",
     "shell.execute_reply.started": "2021-11-28T05:23:53.424586Z"
    }
   },
   "outputs": [
    {
     "data": {
      "text/plain": [
       "<AxesSubplot:xlabel='comments_disabled', ylabel='dislikes'>"
      ]
     },
     "execution_count": 50,
     "metadata": {},
     "output_type": "execute_result"
    },
    {
     "data": {
      "image/png": "[encoded data removed]",
      "text/plain": [
       "<Figure size 432x288 with 1 Axes>"
      ]
     },
     "metadata": {
      "needs_background": "light"
     },
     "output_type": "display_data"
    }
   ],
   "source": [
    "sns.barplot(x=\"comments_disabled\",y=\"dislikes\",data=US_video,hue=\"publish_year\")\n",
    "\n"
   ]
  },
  {
   "cell_type": "code",
   "execution_count": 51,
   "metadata": {
    "execution": {
     "iopub.execute_input": "2021-11-28T05:23:54.262648Z",
     "iopub.status.busy": "2021-11-28T05:23:54.261938Z",
     "iopub.status.idle": "2021-11-28T05:23:55.125778Z",
     "shell.execute_reply": "2021-11-28T05:23:55.124418Z",
     "shell.execute_reply.started": "2021-11-28T05:23:54.262583Z"
    }
   },
   "outputs": [
    {
     "data": {
      "text/plain": [
       "<AxesSubplot:xlabel='comments_disabled', ylabel='views'>"
      ]
     },
     "execution_count": 51,
     "metadata": {},
     "output_type": "execute_result"
    },
    {
     "data": {
      "image/png": "[encoded data removed]",
      "text/plain": [
       "<Figure size 432x288 with 1 Axes>"
      ]
     },
     "metadata": {
      "needs_background": "light"
     },
     "output_type": "display_data"
    }
   ],
   "source": [
    "sns.barplot(x=\"comments_disabled\",y=\"views\",data=US_video,hue=\"publish_year\")\n",
    "\n",
    "\n"
   ]
  },
  {
   "cell_type": "code",
   "execution_count": 52,
   "metadata": {
    "execution": {
     "iopub.execute_input": "2021-11-28T05:23:55.128652Z",
     "iopub.status.busy": "2021-11-28T05:23:55.127887Z",
     "iopub.status.idle": "2021-11-28T05:23:55.160964Z",
     "shell.execute_reply": "2021-11-28T05:23:55.159580Z",
     "shell.execute_reply.started": "2021-11-28T05:23:55.128584Z"
    }
   },
   "outputs": [
    {
     "name": "stderr",
     "output_type": "stream",
     "text": [
      "<ipython-input-52-213ee72b5c0c>:1: FutureWarning: Indexing with multiple keys (implicitly converted to a tuple of keys) will be deprecated, use a list instead.\n",
      "  US_video.groupby(\"comments_disabled\")[\"views\",\"likes\",\"dislikes\"].mean()\n"
     ]
    },
    {
     "data": {
      "text/html": [
       "<div>\n",
       "<style scoped>\n",
       "    .dataframe tbody tr th:only-of-type {\n",
       "        vertical-align: middle;\n",
       "    }\n",
       "\n",
       "    .dataframe tbody tr th {\n",
       "        vertical-align: top;\n",
       "    }\n",
       "\n",
       "    .dataframe thead th {\n",
       "        text-align: right;\n",
       "    }\n",
       "</style>\n",
       "<table border=\"1\" class=\"dataframe\">\n",
       "  <thead>\n",
       "    <tr style=\"text-align: right;\">\n",
       "      <th></th>\n",
       "      <th>views</th>\n",
       "      <th>likes</th>\n",
       "      <th>dislikes</th>\n",
       "    </tr>\n",
       "    <tr>\n",
       "      <th>comments_disabled</th>\n",
       "      <th></th>\n",
       "      <th></th>\n",
       "      <th></th>\n",
       "    </tr>\n",
       "  </thead>\n",
       "  <tbody>\n",
       "    <tr>\n",
       "      <th>False</th>\n",
       "      <td>2.375077e+06</td>\n",
       "      <td>75638.569044</td>\n",
       "      <td>3754.405022</td>\n",
       "    </tr>\n",
       "    <tr>\n",
       "      <th>True</th>\n",
       "      <td>2.558786e+06</td>\n",
       "      <td>21789.430177</td>\n",
       "      <td>2727.913323</td>\n",
       "    </tr>\n",
       "  </tbody>\n",
       "</table>\n",
       "</div>"
      ],
      "text/plain": [
       "                          views         likes     dislikes\n",
       "comments_disabled                                         \n",
       "False              2.375077e+06  75638.569044  3754.405022\n",
       "True               2.558786e+06  21789.430177  2727.913323"
      ]
     },
     "execution_count": 52,
     "metadata": {},
     "output_type": "execute_result"
    }
   ],
   "source": [
    "US_video.groupby(\"comments_disabled\")[\"views\",\"likes\",\"dislikes\"].mean()"
   ]
  },
  {
   "cell_type": "code",
   "execution_count": 53,
   "metadata": {
    "execution": {
     "iopub.execute_input": "2021-11-28T05:23:55.167126Z",
     "iopub.status.busy": "2021-11-28T05:23:55.163314Z",
     "iopub.status.idle": "2021-11-28T05:23:55.392240Z",
     "shell.execute_reply": "2021-11-28T05:23:55.390786Z",
     "shell.execute_reply.started": "2021-11-28T05:23:55.166969Z"
    }
   },
   "outputs": [
    {
     "name": "stdout",
     "output_type": "stream",
     "text": [
      "False    40486\n",
      "True       162\n",
      "Name: ratings_disabled, dtype: int64\n"
     ]
    },
    {
     "data": {
      "text/plain": [
       "<AxesSubplot:xlabel='ratings_disabled', ylabel='count'>"
      ]
     },
     "execution_count": 53,
     "metadata": {},
     "output_type": "execute_result"
    },
    {
     "data": {
      "image/png": "[encoded data removed]",
      "text/plain": [
       "<Figure size 432x288 with 1 Axes>"
      ]
     },
     "metadata": {
      "needs_background": "light"
     },
     "output_type": "display_data"
    }
   ],
   "source": [
    "print(US_video[\"ratings_disabled\"].value_counts())\n",
    "sns.countplot(x=\"ratings_disabled\",data=US_video)"
   ]
  },
  {
   "cell_type": "code",
   "execution_count": 54,
   "metadata": {
    "execution": {
     "iopub.execute_input": "2021-11-28T05:23:55.394816Z",
     "iopub.status.busy": "2021-11-28T05:23:55.394309Z",
     "iopub.status.idle": "2021-11-28T05:23:56.134779Z",
     "shell.execute_reply": "2021-11-28T05:23:56.133611Z",
     "shell.execute_reply.started": "2021-11-28T05:23:55.394739Z"
    }
   },
   "outputs": [
    {
     "data": {
      "text/plain": [
       "<AxesSubplot:xlabel='ratings_disabled', ylabel='likes'>"
      ]
     },
     "execution_count": 54,
     "metadata": {},
     "output_type": "execute_result"
    },
    {
     "data": {
      "image/png": "[encoded data removed]",
      "text/plain": [
       "<Figure size 432x288 with 1 Axes>"
      ]
     },
     "metadata": {
      "needs_background": "light"
     },
     "output_type": "display_data"
    }
   ],
   "source": [
    "sns.barplot(x=\"ratings_disabled\",y=\"likes\",data=US_video)"
   ]
  },
  {
   "cell_type": "code",
   "execution_count": 55,
   "metadata": {
    "execution": {
     "iopub.execute_input": "2021-11-28T05:23:56.137266Z",
     "iopub.status.busy": "2021-11-28T05:23:56.136568Z",
     "iopub.status.idle": "2021-11-28T05:23:56.852707Z",
     "shell.execute_reply": "2021-11-28T05:23:56.851453Z",
     "shell.execute_reply.started": "2021-11-28T05:23:56.137205Z"
    }
   },
   "outputs": [
    {
     "data": {
      "text/plain": [
       "<AxesSubplot:xlabel='ratings_disabled', ylabel='dislikes'>"
      ]
     },
     "execution_count": 55,
     "metadata": {},
     "output_type": "execute_result"
    },
    {
     "data": {
      "image/png": "[encoded data removed]",
      "text/plain": [
       "<Figure size 432x288 with 1 Axes>"
      ]
     },
     "metadata": {
      "needs_background": "light"
     },
     "output_type": "display_data"
    }
   ],
   "source": [
    "sns.barplot(x=\"ratings_disabled\",y=\"dislikes\",data=US_video)"
   ]
  },
  {
   "cell_type": "code",
   "execution_count": 56,
   "metadata": {
    "execution": {
     "iopub.execute_input": "2021-11-28T05:23:56.855390Z",
     "iopub.status.busy": "2021-11-28T05:23:56.854697Z",
     "iopub.status.idle": "2021-11-28T05:23:57.716856Z",
     "shell.execute_reply": "2021-11-28T05:23:57.715484Z",
     "shell.execute_reply.started": "2021-11-28T05:23:56.855323Z"
    }
   },
   "outputs": [
    {
     "data": {
      "text/plain": [
       "<AxesSubplot:xlabel='ratings_disabled', ylabel='views'>"
      ]
     },
     "execution_count": 56,
     "metadata": {},
     "output_type": "execute_result"
    },
    {
     "data": {
      "image/png": "[encoded data removed]",
      "text/plain": [
       "<Figure size 432x288 with 1 Axes>"
      ]
     },
     "metadata": {
      "needs_background": "light"
     },
     "output_type": "display_data"
    }
   ],
   "source": [
    "sns.barplot(x=\"ratings_disabled\",y=\"views\",data=US_video,hue=\"publish_year\")"
   ]
  },
  {
   "cell_type": "code",
   "execution_count": 57,
   "metadata": {
    "execution": {
     "iopub.execute_input": "2021-11-28T05:23:57.719449Z",
     "iopub.status.busy": "2021-11-28T05:23:57.718782Z",
     "iopub.status.idle": "2021-11-28T05:23:58.579772Z",
     "shell.execute_reply": "2021-11-28T05:23:58.578443Z",
     "shell.execute_reply.started": "2021-11-28T05:23:57.719385Z"
    }
   },
   "outputs": [
    {
     "data": {
      "text/plain": [
       "<AxesSubplot:xlabel='ratings_disabled', ylabel='comment_count'>"
      ]
     },
     "execution_count": 57,
     "metadata": {},
     "output_type": "execute_result"
    },
    {
     "data": {
      "image/png": "[encoded data removed]",
      "text/plain": [
       "<Figure size 432x288 with 1 Axes>"
      ]
     },
     "metadata": {
      "needs_background": "light"
     },
     "output_type": "display_data"
    }
   ],
   "source": [
    "sns.barplot(x=\"ratings_disabled\",y=\"comment_count\",data=US_video,hue=\"publish_year\")\n"
   ]
  },
  {
   "cell_type": "code",
   "execution_count": 58,
   "metadata": {
    "execution": {
     "iopub.execute_input": "2021-11-28T05:23:58.582481Z",
     "iopub.status.busy": "2021-11-28T05:23:58.581783Z",
     "iopub.status.idle": "2021-11-28T05:23:58.617236Z",
     "shell.execute_reply": "2021-11-28T05:23:58.615415Z",
     "shell.execute_reply.started": "2021-11-28T05:23:58.582416Z"
    }
   },
   "outputs": [
    {
     "name": "stderr",
     "output_type": "stream",
     "text": [
      "<ipython-input-58-2cdbeb3bbddd>:1: FutureWarning: Indexing with multiple keys (implicitly converted to a tuple of keys) will be deprecated, use a list instead.\n",
      "  US_video.groupby(\"ratings_disabled\")[\"views\",\"likes\",\"dislikes\",\"comment_count\"].mean()\n"
     ]
    },
    {
     "data": {
      "text/html": [
       "<div>\n",
       "<style scoped>\n",
       "    .dataframe tbody tr th:only-of-type {\n",
       "        vertical-align: middle;\n",
       "    }\n",
       "\n",
       "    .dataframe tbody tr th {\n",
       "        vertical-align: top;\n",
       "    }\n",
       "\n",
       "    .dataframe thead th {\n",
       "        text-align: right;\n",
       "    }\n",
       "</style>\n",
       "<table border=\"1\" class=\"dataframe\">\n",
       "  <thead>\n",
       "    <tr style=\"text-align: right;\">\n",
       "      <th></th>\n",
       "      <th>views</th>\n",
       "      <th>likes</th>\n",
       "      <th>dislikes</th>\n",
       "      <th>comment_count</th>\n",
       "    </tr>\n",
       "    <tr>\n",
       "      <th>ratings_disabled</th>\n",
       "      <th></th>\n",
       "      <th></th>\n",
       "      <th></th>\n",
       "      <th></th>\n",
       "    </tr>\n",
       "  </thead>\n",
       "  <tbody>\n",
       "    <tr>\n",
       "      <th>False</th>\n",
       "      <td>2.370197e+06</td>\n",
       "      <td>75112.59549</td>\n",
       "      <td>3753.632144</td>\n",
       "      <td>8541.09050</td>\n",
       "    </tr>\n",
       "    <tr>\n",
       "      <th>True</th>\n",
       "      <td>4.301190e+06</td>\n",
       "      <td>0.00000</td>\n",
       "      <td>0.000000</td>\n",
       "      <td>429.91358</td>\n",
       "    </tr>\n",
       "  </tbody>\n",
       "</table>\n",
       "</div>"
      ],
      "text/plain": [
       "                         views        likes     dislikes  comment_count\n",
       "ratings_disabled                                                       \n",
       "False             2.370197e+06  75112.59549  3753.632144     8541.09050\n",
       "True              4.301190e+06      0.00000     0.000000      429.91358"
      ]
     },
     "execution_count": 58,
     "metadata": {},
     "output_type": "execute_result"
    }
   ],
   "source": [
    "US_video.groupby(\"ratings_disabled\")[\"views\",\"likes\",\"dislikes\",\"comment_count\"].mean()"
   ]
  },
  {
   "cell_type": "code",
   "execution_count": 59,
   "metadata": {
    "execution": {
     "iopub.execute_input": "2021-11-28T05:23:58.620367Z",
     "iopub.status.busy": "2021-11-28T05:23:58.619616Z",
     "iopub.status.idle": "2021-11-28T05:23:58.843253Z",
     "shell.execute_reply": "2021-11-28T05:23:58.841486Z",
     "shell.execute_reply.started": "2021-11-28T05:23:58.620073Z"
    }
   },
   "outputs": [
    {
     "name": "stdout",
     "output_type": "stream",
     "text": [
      "False    40625\n",
      "True        23\n",
      "Name: video_error_or_removed, dtype: int64\n"
     ]
    },
    {
     "data": {
      "image/png": "[encoded data removed]",
      "text/plain": [
       "<Figure size 432x288 with 1 Axes>"
      ]
     },
     "metadata": {
      "needs_background": "light"
     },
     "output_type": "display_data"
    }
   ],
   "source": [
    "sns.countplot(x=\"video_error_or_removed\",data=US_video)\n",
    "print(US_video[\"video_error_or_removed\"].value_counts())"
   ]
  },
  {
   "cell_type": "code",
   "execution_count": 60,
   "metadata": {
    "execution": {
     "iopub.execute_input": "2021-11-28T05:23:58.846215Z",
     "iopub.status.busy": "2021-11-28T05:23:58.845490Z",
     "iopub.status.idle": "2021-11-28T05:23:59.692685Z",
     "shell.execute_reply": "2021-11-28T05:23:59.690872Z",
     "shell.execute_reply.started": "2021-11-28T05:23:58.845968Z"
    }
   },
   "outputs": [
    {
     "name": "stderr",
     "output_type": "stream",
     "text": [
      "<ipython-input-60-330a62c5ca71>:2: FutureWarning: Indexing with multiple keys (implicitly converted to a tuple of keys) will be deprecated, use a list instead.\n",
      "  US_video.groupby(\"video_error_or_removed\")[\"views\",\"likes\",\"dislikes\",\"comment_count\"].mean()\n"
     ]
    },
    {
     "data": {
      "text/html": [
       "<div>\n",
       "<style scoped>\n",
       "    .dataframe tbody tr th:only-of-type {\n",
       "        vertical-align: middle;\n",
       "    }\n",
       "\n",
       "    .dataframe tbody tr th {\n",
       "        vertical-align: top;\n",
       "    }\n",
       "\n",
       "    .dataframe thead th {\n",
       "        text-align: right;\n",
       "    }\n",
       "</style>\n",
       "<table border=\"1\" class=\"dataframe\">\n",
       "  <thead>\n",
       "    <tr style=\"text-align: right;\">\n",
       "      <th></th>\n",
       "      <th>views</th>\n",
       "      <th>likes</th>\n",
       "      <th>dislikes</th>\n",
       "      <th>comment_count</th>\n",
       "    </tr>\n",
       "    <tr>\n",
       "      <th>video_error_or_removed</th>\n",
       "      <th></th>\n",
       "      <th></th>\n",
       "      <th></th>\n",
       "      <th></th>\n",
       "    </tr>\n",
       "  </thead>\n",
       "  <tbody>\n",
       "    <tr>\n",
       "      <th>False</th>\n",
       "      <td>2.378301e+06</td>\n",
       "      <td>74827.983286</td>\n",
       "      <td>3739.972209</td>\n",
       "      <td>8512.128788</td>\n",
       "    </tr>\n",
       "    <tr>\n",
       "      <th>True</th>\n",
       "      <td>1.657090e+06</td>\n",
       "      <td>48770.434783</td>\n",
       "      <td>1442.608696</td>\n",
       "      <td>2565.391304</td>\n",
       "    </tr>\n",
       "  </tbody>\n",
       "</table>\n",
       "</div>"
      ],
      "text/plain": [
       "                               views         likes     dislikes  comment_count\n",
       "video_error_or_removed                                                        \n",
       "False                   2.378301e+06  74827.983286  3739.972209    8512.128788\n",
       "True                    1.657090e+06  48770.434783  1442.608696    2565.391304"
      ]
     },
     "execution_count": 60,
     "metadata": {},
     "output_type": "execute_result"
    },
    {
     "data": {
      "image/png": "[encoded data removed]",
      "text/plain": [
       "<Figure size 432x288 with 1 Axes>"
      ]
     },
     "metadata": {
      "needs_background": "light"
     },
     "output_type": "display_data"
    }
   ],
   "source": [
    "\n",
    "sns.barplot(x=\"video_error_or_removed\",y=\"comment_count\",data=US_video,hue=\"publish_year\")\n",
    "US_video.groupby(\"video_error_or_removed\")[\"views\",\"likes\",\"dislikes\",\"comment_count\"].mean()"
   ]
  },
  {
   "cell_type": "code",
   "execution_count": 61,
   "metadata": {
    "execution": {
     "iopub.execute_input": "2021-11-28T05:23:59.696153Z",
     "iopub.status.busy": "2021-11-28T05:23:59.695314Z",
     "iopub.status.idle": "2021-11-28T05:24:00.538554Z",
     "shell.execute_reply": "2021-11-28T05:24:00.536613Z",
     "shell.execute_reply.started": "2021-11-28T05:23:59.695788Z"
    }
   },
   "outputs": [
    {
     "data": {
      "text/plain": [
       "<AxesSubplot:xlabel='video_error_or_removed', ylabel='likes'>"
      ]
     },
     "execution_count": 61,
     "metadata": {},
     "output_type": "execute_result"
    },
    {
     "data": {
      "image/png": "[encoded data removed]",
      "text/plain": [
       "<Figure size 432x288 with 1 Axes>"
      ]
     },
     "metadata": {
      "needs_background": "light"
     },
     "output_type": "display_data"
    }
   ],
   "source": [
    "sns.barplot(x=\"video_error_or_removed\",y=\"likes\",data=US_video,hue=\"publish_year\")"
   ]
  },
  {
   "cell_type": "code",
   "execution_count": 62,
   "metadata": {
    "execution": {
     "iopub.execute_input": "2021-11-28T05:24:00.541383Z",
     "iopub.status.busy": "2021-11-28T05:24:00.540842Z",
     "iopub.status.idle": "2021-11-28T05:24:01.367294Z",
     "shell.execute_reply": "2021-11-28T05:24:01.365991Z",
     "shell.execute_reply.started": "2021-11-28T05:24:00.541308Z"
    }
   },
   "outputs": [
    {
     "data": {
      "text/plain": [
       "<AxesSubplot:xlabel='video_error_or_removed', ylabel='dislikes'>"
      ]
     },
     "execution_count": 62,
     "metadata": {},
     "output_type": "execute_result"
    },
    {
     "data": {
      "image/png": "[encoded data removed]",
      "text/plain": [
       "<Figure size 432x288 with 1 Axes>"
      ]
     },
     "metadata": {
      "needs_background": "light"
     },
     "output_type": "display_data"
    }
   ],
   "source": [
    "sns.barplot(x=\"video_error_or_removed\",y=\"dislikes\",data=US_video,hue=\"publish_year\")"
   ]
  },
  {
   "cell_type": "code",
   "execution_count": 63,
   "metadata": {
    "execution": {
     "iopub.execute_input": "2021-11-28T05:24:01.369915Z",
     "iopub.status.busy": "2021-11-28T05:24:01.369223Z",
     "iopub.status.idle": "2021-11-28T05:24:02.226031Z",
     "shell.execute_reply": "2021-11-28T05:24:02.223987Z",
     "shell.execute_reply.started": "2021-11-28T05:24:01.369851Z"
    }
   },
   "outputs": [
    {
     "data": {
      "text/plain": [
       "<AxesSubplot:xlabel='video_error_or_removed', ylabel='views'>"
      ]
     },
     "execution_count": 63,
     "metadata": {},
     "output_type": "execute_result"
    },
    {
     "data": {
      "image/png": "[encoded data removed]",
      "text/plain": [
       "<Figure size 432x288 with 1 Axes>"
      ]
     },
     "metadata": {
      "needs_background": "light"
     },
     "output_type": "display_data"
    }
   ],
   "source": [
    "sns.barplot(x=\"video_error_or_removed\",y=\"views\",data=US_video,hue=\"publish_year\")"
   ]
  },
  {
   "cell_type": "code",
   "execution_count": 64,
   "metadata": {
    "execution": {
     "iopub.execute_input": "2021-11-28T05:24:02.228820Z",
     "iopub.status.busy": "2021-11-28T05:24:02.228288Z",
     "iopub.status.idle": "2021-11-28T05:24:02.269144Z",
     "shell.execute_reply": "2021-11-28T05:24:02.267832Z",
     "shell.execute_reply.started": "2021-11-28T05:24:02.228744Z"
    }
   },
   "outputs": [
    {
     "name": "stdout",
     "output_type": "stream",
     "text": [
      "[none]                                                                                                                                                                                                                                                                                                                                                                                                                                                       1485\n",
      "ABC|\"americanidol\"|\"idol\"|\"american idol\"|\"ryan\"|\"seacrest\"|\"ryan seacrest\"|\"katy\"|\"perry\"|\"katy perry\"|\"luke\"|\"bryan\"|\"luke bryan\"|\"lionel\"|\"richie\"|\"lionel richie\"|\"season 16\"|\"american idol XVI\"|\"television\"|\"ad\"|\"spring\"|\"2018\"|\"music\"|\"reality\"|\"competition\"|\"song\"|\"sing\"|\"audition\"|\"auditions\"|\"performance\"|\"live\"|\"fox\"|\"AI\"|\"hollywood\"|\"contestant\"|\"official\"|\"american\"|\"official american idol\"|\"hollywood week\"|\"hometown audition\"      87\n",
      "Jacksfilms|\"Jack Douglass\"|\"YGS\"|\"YGS 100\"|\"YGS 50\"|\"The Best of Your Grammar Sucks\"|\"Your Grammar Sucks\"|\"YIAY\"|\"Yesterday I Asked You\"|\"Fidget Spinners\"|\"Emoji Movie\"|\"Kermit Sings\"|\"JackAsk\"|\"Jack Ask\"|\"Dubstep Solves Everything\"|\"Frozen 2\"|\"iPhone Parody\"|\"Apple Parody\"                                                                                                                                                                             80\n",
      "James Corden|\"The Late Late Show\"|\"Colbert\"|\"late night\"|\"late night show\"|\"Stephen Colbert\"|\"Comedy\"|\"monologue\"|\"comedian\"|\"impressions\"|\"celebrities\"|\"carpool\"|\"karaoke\"|\"CBS\"|\"Late Late Show\"|\"Corden\"|\"joke\"|\"jokes\"|\"funny\"|\"funny video\"|\"funny videos\"|\"humor\"|\"celebrity\"|\"celeb\"|\"hollywood\"|\"famous\"                                                                                                                                              71\n",
      "The Late Show|\"Stephen Colbert\"|\"Colbert\"|\"Late Show\"|\"celebrities\"|\"late night\"|\"talk show\"|\"skits\"|\"bit\"|\"monologue\"|\"The Late Late Show\"|\"Late Late Show\"|\"letterman\"|\"david letterman\"|\"comedian\"|\"impressions\"|\"CBS\"|\"joke\"|\"jokes\"|\"funny\"|\"funny video\"|\"funny videos\"|\"humor\"|\"celebrity\"|\"celeb\"|\"hollywood\"|\"famous\"|\"James Corden\"|\"Corden\"|\"Comedy\"                                                                                                66\n",
      "                                                                                                                                                                                                                                                                                                                                                                                                                                                             ... \n",
      "tasty|\"tasty 101\"|\"potatoes\"|\"food\"|\"roasted\"|\"mashed\"|\"baked\"|\"twice baked\"|\"loaded\"|\"fries\"|\"sweet potato\"|\"baked fries\"|\"creamy\"|\"best\"|\"ultimate\"|\"recipe\"|\"cooking\"|\"basics\"|\"how to\"|\"BuzzFeed\"|\"Tasty\"|\"BuzzFeed Tasty\"                                                                                                                                                                                                                                  1\n",
      "BuzzFeed|\"BuzzFeedVideo\"|\"cheese\"|\"quinta brunson\"|\"kelsey darragh\"|\"zach kornfeld\"|\"love\"|\"food\"|\"foodies\"|\"funny\"|\"laugh\"|\"nightmare\"|\"dream sequence\"|\"lactose\"|\"lactose intolerant\"|\"milk\"|\"pizza\"|\"brie\"|\"manchego\"|\"smelly cheese\"|\"charcuterie\"|\"lol\"                                                                                                                                                                                                    1\n",
      "First we feast|\"fwf\"|\"firstwefeast\"|\"food\"|\"food porn\"|\"cook\"|\"cooking\"|\"chef\"|\"kitchen\"|\"recipe\"|\"cocktail\"|\"bartender\"|\"craft beer\"|\"complex\"|\"complex media\"|\"Cook (Profession)sean evans\"|\"Food Skills\"|\"Mark Iacono\"|\"Lucali\"|\"margherita pie\"|\"margherita\"|\"Dom DeMarco\"|\"beyonce and jay z lucali\"|\"pizza\"|\"brooklyn\"|\"ugly delicious mark Iacono\"|\"how to make pizza\"|\"how to make tomato sauce\"                                                        1\n",
      "jennifer|\"hudson\"|\"jennifer hudson\"|\"the voice\"|\"singer\"|\"dream girls\"|\"american idol\"|\"christmas\"|\"Ellen\"|\"degeneres\"|\"ellen degeneres\"|\"the ellen show\"|\"ellen fans\"|\"ellen tickets\"|\"ellentube\"|\"ellen audience\"|\"halloween\"|\"christmas lights\"|\"holidays\"|\"interview\"|\"dreamgirls\"|\"adam levine\"|\"blake shelton\"|\"gwen stefani\"                                                                                                                             1\n",
      "storms|\"timelapse\"|\"8k\"|\"4k\"|\"resolution\"|\"texas\"|\"weather\"|\"supercells\"|\"haboobs\"|\"dust storms\"|\"hail\"|\"rain\"|\"black and white\"|\"arizona\"|\"new mexico\"|\"kansas\"|\"colorado\"|\"wyoming\"                                                                                                                                                                                                                                                                           1\n",
      "Name: tags, Length: 5983, dtype: int64\n"
     ]
    }
   ],
   "source": [
    "print(US_video[\"tags\"].value_counts())"
   ]
  },
  {
   "cell_type": "code",
   "execution_count": 65,
   "metadata": {
    "execution": {
     "iopub.execute_input": "2021-11-28T05:24:02.271638Z",
     "iopub.status.busy": "2021-11-28T05:24:02.271054Z",
     "iopub.status.idle": "2021-11-28T05:24:02.306326Z",
     "shell.execute_reply": "2021-11-28T05:24:02.304885Z",
     "shell.execute_reply.started": "2021-11-28T05:24:02.271594Z"
    }
   },
   "outputs": [
    {
     "name": "stdout",
     "output_type": "stream",
     "text": [
      "► Listen LIVE: http://power1051fm.com/\\n► Facebook: https://www.facebook.com/Power1051NY/\\n► Twitter: https://twitter.com/power1051/\\n► Instagram: https://www.instagram.com/power1051/                                                                                                                                                                                                                                                                                                                                                                                                                                                                                                                                                                                                                                                                                                                                                                                                                                                                                                                                                                                                                                                                                                                                                                                                                                                                                                                                                                                                                                                                                                                                                                                                                                                                                                                                                                                                                                                                                                                                                                                                                                                                                                                                                                                                                                                                                                                                                                                                                                                                                                                                                                                                                                                                                                                                                                                                                                                                                                                                                                                                                                                                                                                                                                                                                                                                                                                                                                                                                                                                                                                                                                                                                                                                                                                                                                                                                                                                                                                                                                                                                                                                                                                                                                                                                                                                                                                                                                                                                                                                                                                                                                                                                                                                                                                                                                                                                                           58\n",
      "Jukin Media Verified (Original) * For licensing / permission to use: Contact - licensing(at)jukinmediadotcom\\nSubmit your videos here: http://bit.ly/2iFnUya                                                                                                                                                                                                                                                                                                                                                                                                                                                                                                                                                                                                                                                                                                                                                                                                                                                                                                                                                                                                                                                                                                                                                                                                                                                                                                                                                                                                                                                                                                                                                                                                                                                                                                                                                                                                                                                                                                                                                                                                                                                                                                                                                                                                                                                                                                                                                                                                                                                                                                                                                                                                                                                                                                                                                                                                                                                                                                                                                                                                                                                                                                                                                                                                                                                                                                                                                                                                                                                                                                                                                                                                                                                                                                                                                                                                                                                                                                                                                                                                                                                                                                                                                                                                                                                                                                                                                                                                                                                                                                                                                                                                                                                                                                                                                                                                                                                                      46\n",
      "My Twitter: https://twitter.com/prozdkp\\nMy Let's Play channel, Press Buttons n Talk:\\nhttps://www.youtube.com/channel/UCSHsNH4FZXFeSQMJ56AdrBA\\nMy Merch/T-Shirt Store: http://www.theyetee.com/prozd\\nMy Tumblr: http://prozdvoices.tumblr.com/\\nMy Twitch: https://www.twitch.tv/prozd\\nMy Instagram: https://instagram.com/prozd\\nMy Patreon: http://www.patreon.com/prozd\\nUse the link below and the coupon code PROZDSNACKS to get $3 off your first Japan Crate Premium or Original:\\nhttp://japancrate.com/?tap_a=13976-19476b&tap_s=76467-12d24b\\nUse the link below and the coupon code PROZDRAMEN to get $3 off your first Umai Crate:\\nhttp://japancrate.com/umai?tap_a=18655-b8af8b&tap_s=76467-12d24b\\nUse the link below to get a free 14-day trial of Funimation anime streaming:\\nhttps://www.funimation.com/prozd\\nUse the link below and coupon code PROZD10 to get $10 off any Classic Bokksu subscription:\\nhttp://www.bokksu.com?rfsn=498614.9d328&utm_source=refersion&utm_medium=influencers&utm_campaign=498614.9d328\\nUse the link below and the coupon code ProZDCrate to get 10% off any Loot Crate:\\nhttps://lootcrate.com/ProZD                                                                                                                                                                                                                                                                                                                                                                                                                                                                                                                                                                                                                                                                                                                                                                                                                                                                                                                                                                                                                                                                                                                                                                                                                                                                                                                                                                                                                                                                                                                                                                                                                                                                                                                                                                                                                                                                                                                                                                                                                                                                                                                                                                                                                                                                                                                                                                                                                                                                                                                                                                                                                                                                                                                                                                                                                                                                                                                                                                                                                                                                                                                                                                                                                                                                                                                                                                                                                                                                                                                                                                                                                                                                                                                                                                                                                                                                    38\n",
      "Fortnite, PUBG, Far Cry 5? Which game would you play on this gaming PC setup?Visit SteelSeries.com and use discount code “Unbox15”(letters in discount code ARE case sensitive) to get an Unbox 24hr exclusive of 15% off Arctis Pro + GameDAC: http://steelseries.com/arctisproThe Chair - https://amzn.to/2Km7gC6The Monitor - https://amzn.to/2jWuQdkThe Gaming PC - https://www.xidax.com/(More info on gaming PC specs etc. in this video - https://youtu.be/Pvakr7s7qc0)Is this the ultimate gaming PC setup?_________________________________________WATCH SOME MORE VIDEOS...Get The OnePlus 6 EARLY!https://youtu.be/yCxwmH3psxg?list=PL7u4lWXQ3wfI_7PgX0C-VTiwLeu0S4v34Should You Buy The Samsung Galaxy S9?https://youtu.be/SIR67et5tcs?list=PL7u4lWXQ3wfI_7PgX0C-VTiwLeu0S4v34The True All-Screen Smartphone is Here...https://youtu.be/sYvH7Y16iUM?list=PL7u4lWXQ3wfI_7PgX0C-VTiwLeu0S4v34The TRUTH About Smartphones in 2018https://youtu.be/1kllbOrLfoo?list=PL7u4lWXQ3wfI_7PgX0C-VTiwLeu0S4v34World's Biggest Fortnite Gaming Setup!https://youtu.be/8x7UtZKwfHA?list=PL7u4lWXQ3wfI_7PgX0C-VTiwLeu0S4v34The Weirdest Phones In The World...https://youtu.be/o6T9mUq9Vgo?list=PL7u4lWXQ3wfI_7PgX0C-VTiwLeu0S4v34The Coolest Smartphone You'll Never Touch...https://youtu.be/5M3mKgLTn3Q?list=PL7u4lWXQ3wfI_7PgX0C-VTiwLeu0S4v34I'm Switching To The Samsung Galaxy S9https://youtu.be/8g-VjqONplA?list=PL7u4lWXQ3wfI_7PgX0C-VTiwLeu0S4v34The Most Expensive iPhone I've Ever Seen...https://youtu.be/JUi3psxB3QA?list=PL7u4lWXQ3wfI_7PgX0C-VTiwLeu0S4v34The Limited Smartphone You Never Knew Existed...https://youtu.be/SMLgNZYW3XE?list=PL7u4lWXQ3wfI_7PgX0C-VTiwLeu0S4v34The Almost All-Screen Smartphone...https://youtu.be/jAq9RV3k9Qc?list=PL7u4lWXQ3wfI_7PgX0C-VTiwLeu0S4v34TOP SECRET SMARTPHONE DELIVERYhttps://youtu.be/BNnFgT_CAEE?list=PL7u4lWXQ3wfI_7PgX0C-VTiwLeu0S4v34The iPhone X Home Button... Is This Real Life?https://youtu.be/Vz_EE5Ta9ZA?list=PL7u4lWXQ3wfI_7PgX0C-VTiwLeu0S4v34Fortnite on an INSANE $20,000 Gaming PChttps://youtu.be/Pvakr7s7qc0?list=PL7u4lWXQ3wfI_7PgX0C-VTiwLeu0S4v34The $200 Smartphone You NEED To Know About...https://youtu.be/uxLOfjaWRvw?list=PL7u4lWXQ3wfI_7PgX0C-VTiwLeu0S4v34This New Smartphone Is NOT What It Looks Like...https://youtu.be/r8vFZ0HAaz0?list=PL7u4lWXQ3wfI_7PgX0C-VTiwLeu0S4v34Is The Samsung Galaxy S9 Worth The Hype?https://youtu.be/g30Rhk82rmg?list=PL7u4lWXQ3wfI_7PgX0C-VTiwLeu0S4v343 Unique Gadgets You Wouldn't Expect To Existhttps://youtu.be/z5ydE6qQqZU?list=PL7u4lWXQ3wfI_7PgX0C-VTiwLeu0S4v34The Worst Gadget EVER On Unbox Therapy...https://youtu.be/ZOFoPTAqZlQ?list=PL7u4lWXQ3wfI_7PgX0C-VTiwLeu0S4v34The Worst Text You Could Ever Receive...https://youtu.be/HUE9mCN7sek?list=PL7u4lWXQ3wfI_7PgX0C-VTiwLeu0S4v34The Essential Phone Is Back!https://youtu.be/ZxOmJfCEgoc?list=PL7u4lWXQ3wfI_7PgX0C-VTiwLeu0S4v34What If You Could Get AirPods For Only $40? https://youtu.be/6N5V_7_n1uI?list=PL7u4lWXQ3wfI_7PgX0C-VTiwLeu0S4v34I Bought The Cheapest Smartphone on Amazon...https://youtu.be/YkGAg9WmYBs?list=PL7u4lWXQ3wfI_7PgX0C-VTiwLeu0S4v343 Unique Gadgets You Can Buy Right Nowhttps://youtu.be/Yzsf9SECcEo?list=PL7u4lWXQ3wfI_7PgX0C-VTiwLeu0S4v34DON'T Buy The Google Pixel Budshttps://youtu.be/lGkrhR2mfl8?list=PL7u4lWXQ3wfI_7PgX0C-VTiwLeu0S4v34How To Turn Any Android Phone Into An iPhone...https://youtu.be/14pYNywLqDs?list=PL7u4lWXQ3wfI_7PgX0C-VTiwLeu0S4v34Is The LG V30 The Most Underrated Smartphone?https://youtu.be/YsWIHhKmmvY?list=PL7u4lWXQ3wfI_7PgX0C-VTiwLeu0S4v34The Best Wireless Headphones You Can Buy Right Nowhttps://youtu.be/SXyObZahu-o?list=PL7u4lWXQ3wfI_7PgX0C-VTiwLeu0S4v34Unboxing The Samsung Galaxy S9 Clonehttps://youtu.be/1xgbmrsgrq4?list=PL7u4lWXQ3wfI_7PgX0C-VTiwLeu0S4v34It Has Double The Battery of iPhone Xhttps://youtu.be/8Np9Kk82-zA?list=PL7u4lWXQ3wfI_7PgX0C-VTiwLeu0S4v34The Mind Blowing 33 Million Pixel Display...https://youtu.be/OKAU1Xx59ho?list=PL7u4lWXQ3wfI_7PgX0C-VTiwLeu0S4v345 Cool Gadgets Under $10https://youtu.be/hNrSNrEVpkQ?list=PL7u4lWXQ3wfI_7PgX0C-VTiwLeu0S4v34Which Smartphone Do They ACTUALLY Use? --- MKBHD, Austin Evans, Linus + Morehttps://youtu.be/Hi2tjMLVpdQ?list=PL7u4lWXQ3wfI_7PgX0C-VTiwLeu0S4v34Unboxing The World's Smallest Phonehttps://youtu.be/SSzyGCjH88o?list=PL7u4lWXQ3wfI_7PgX0C-VTiwLeu0S4v34The Most RIDICULOUS MacBook Prohttps://youtu.be/46qTg3swoEo?list=PL7u4lWXQ3wfI_7PgX0C-VTiwLeu0S4v34A Message from Apple...https://youtu.be/UiaqBdzCcBA?list=PL7u4lWXQ3wfI_7PgX0C-VTiwLeu0S4v344 Unique iPhone Accessorieshttps://youtu.be/uZgnXJz_9DM?list=PL7u4lWXQ3wfI_7PgX0C-VTiwLeu0S4v34DON'T Buy The iPhone Xhttps://youtu.be/2fGXDFiFBhg?list=PL7u4lWXQ3wfI_7PgX0C-VTiwLeu0S4v34FOLLOW ME IN THESE PLACES FOR UPDATESTwitter - http://twitter.com/unboxtherapyFacebook - http://facebook.com/lewis.hilsentegerInstagram - http://instagram.com/unboxtherapyGoogle Plus - http://bit.ly/1auEeak    29\n",
      "thank you for watching this video please like and subscribe~!\\n \\n*  (Big Marvel Youtube) : https://www.youtube.com/channel/UCgI8VzlDGsHCp0-9Een1eKw\\n*  (Big Marvel Instagram) :https://www.instagram.com/lilmarvel0/\\n*  (Big Marvel facebook) : https://www.facebook.com/Big-Marvel-114466695895697/\\n\\ncontact,business → steamercyep@gmail.com                                                                                                                                                                                                                                                                                                                                                                                                                                                                                                                                                                                                                                                                                                                                                                                                                                                                                                                                                                                                                                                                                                                                                                                                                                                                                                                                                                                                                                                                                                                                                                                                                                                                                                                                                                                                                                                                                                                                                                                                                                                                                                                                                                                                                                                                                                                                                                                                                                                                                                                                                                                                                                                                                                                                                                                                                                                                                                                                                                                                                                                                                                                                                                                                                                                                                                                                                                                                                                                                                                                                                                                                                                                                                                                                                                                                                                                                                                                                                                                                                                                                                                                                                                                                                                                                                                                                                                                                                                                                                                                                                                                                                                                                               29\n",
      "                                                                                                                                                                                                                                                                                                                                                                                                                                                                                                                                                                                                                                                                                                                                                                                                                                                                                                                                                                                                                                                                                                                                                                                                                                                                                                                                                                                                                                                                                                                                                                                                                                                                                                                                                                                                                                                                                                                                                                                                                                                                                                                                                                                                                                                                                                                                                                                                                                                                                                                                                                                                                                                                                                                                                                                                                                                                                                                                                                                                                                                                                                                                                                                                                                                                                                                                                                                                                                                                                                                                                                                                                                                                                                                                                                                                                                                                                                                                                                                                                                                                                                                                                                                                                                                                                                                                                                                                                                                                                                                                                                                                                                                                                                                                                                                                                                                                                                                                                                                                                                  ..\n",
      "Subscribe to Explosm!  ► http://bit.ly/13xgq7a\\nWatch VRV with a free trial!  ► http://bit.ly/2wqtZVX\\n\\nJonathan! I asked you to clean up this pigsty of a room!\\n\\nCyanide and Happiness delivers daily comics to your face-hole on www.explosm.net since 2005!\\n\\nCredits:\\nCreated By: Rob DenBleyker, Kris Wilson, Dave McElfatrick\\nDirected By: Joel Watson\\nWritten By: Joel Watson\\nAnimation Director/Animation / Character Design / Backgrounds: Mike Salcedo\\nFX Animation/Mech Design: Geoff Galt\\nEditor: Taylor Ransom\\nTheme Song: I Like Your Hat - Dan Paladin\\nSound Mixer: Ben Governale, Cymatic Studios\\nVoice Actors:\\nRob DenBleyker - Dad\\nDave McElfatrick - Shintaro \\nJoel Watson - Jonathan\\nLorraine Bett - Mom\\nSupervising Producer: Derek Miller\\nProduced By: Kris Wilson\\nProduction Manager: Adam Nusrallah\\nProduction Assistants: Lorraine Bett                                                                                                                                                                                                                                                                                                                                                                                                                                                                                                                                                                                                                                                                                                                                                                                                                                                                                                                                                                                                                                                                                                                                                                                                                                                                                                                                                                                                                                                                                                                                                                                                                                                                                                                                                                                                                                                                                                                                                                                                                                                                                                                                                                                                                                                                                                                                                                                                                                                                                                                                                                                                                                                                                                                                                                                                                                                                                                                                                                                                                                                                                                                                                                                                                                                                                                                                                                                                                                                                                                                                                                                                                                                                                                                                                                                                                                                                                                                                                                                                                                                                                                                                              1\n",
      "Thanks to 24-5 trading at TD Ameritrade, you can now continue trading after the market closes, all evening long. \\n\\nThe Trader Green Room is a place traders come to soak up knowledge and strategy acquired from years of hands-on experience; a place for learning and exchanging information to attempt to take their trading to the next level. For a more informed perspective on all-things trading, visit us in the Green Room today.\\n\\nSubscribe to the TD Ameritrade YouTube Channel: http://bit.ly/1XxyDMf \\n\\nConnect: \\nFacebook: http://bit.ly/1Oyegai \\nTwitter: http://bit.ly/1R6VtT4 \\nLinkedIn: http://bit.ly/1WD8bkJ                                                                                                                                                                                                                                                                                                                                                                                                                                                                                                                                                                                                                                                                                                                                                                                                                                                                                                                                                                                                                                                                                                                                                                                                                                                                                                                                                                                                                                                                                                                                                                                                                                                                                                                                                                                                                                                                                                                                                                                                                                                                                                                                                                                                                                                                                                                                                                                                                                                                                                                                                                                                                                                                                                                                                                                                                                                                                                                                                                                                                                                                                                                                                                                                                                                                                                                                                                                                                                                                                                                                                                                                                                                                                                                                                                                                                                                                                                                                                                                                                                                                                                                                                                                                                                                                                                                                                                                           1\n",
      "The Kardashians have some big surprises coming on the special two night event. Watch Keeping Up With The Kardashians this Sunday and Monday at 9|8c on E!\\n\\nSUBSCRIBE: http://bit.ly/Eentsub\\n\\nAbout Keeping Up With the Kardashians:\\nThings change, but this famous family stays the same. Can you keep up with the drama?\\n\\nConnect with the Kardashians:\\nVisit the KUWTK WEBSITE: http://bit.ly/KUWTKweb\\nLike KUWTK on FACEBOOK: http://bit.ly/KUWTKfb \\nFollow KUWTK on TWITTER: http://bit.ly/KUWTKtwtr \\n\\nAbout E! Entertainment:\\nE! is on the Pulse of Pop Culture, bringing fans the very best original content including reality series, scripted programming, exclusive specials, breaking entertainment news, streaming events and more. Passionate viewers can’t get enough of our Pop Culture hits including Keeping Up with the Kardashians,” “Fashion Police,” “The Royals,” Total Divas” and “Botched.” And with new original programming on the way, fans have even more to love.\\n\\nConnect with E! Entertainment:\\nVisit the E! WEBSITE: http://eonli.ne/1iX6d8n\\nLike E! on FACEBOOK: http://on.fb.me/1fzeamg\\nCheck out E! on INSTAGRAM: http://bit.ly/EInsta\\nFollow E! on TWITTER: http://bit.ly/EEntTwitter\\n\\nKUWTK | Katch the Two Night Kardashian Event this Sunday and Monday | E!\\nhttp://www.youtube.com/user/Eentertainment                                                                                                                                                                                                                                                                                                                                                                                                                                                                                                                                                                                                                                                                                                                                                                                                                                                                                                                                                                                                                                                                                                                                                                                                                                                                                                                                                                                                                                                                                                                                                                                                                                                                                                                                                                                                                                                                                                                                                                                                                                                                                                                                                                                                                                                                                                                                                                                                                                                                                                                                                                                                                                                                                                                                                                                                                                                                                                                                                                                                                                                                                                                                                                                                                                                                                                                                                                                                                                                                                                                                                                                                                                                                1\n",
      "Director James Cameron uses the power of Twitter to answer some common questions about the science fiction genre. \\r\\n\\r\\nJames Cameron's Story of Science Fiction premieres on AMC on 4/30\\n\\nStill haven’t subscribed to WIRED on YouTube? ►► http://wrd.cm/15fP7B7 \\r\\n\\r\\n\\r\\nABOUT WIRED\\r\\nWIRED is where tomorrow is realized. Through thought-provoking stories and videos, WIRED explores the future of business, innovation, and culture.\\n\\nJames Cameron Answers Sci-Fi Questions From Twitter | WIRED                                                                                                                                                                                                                                                                                                                                                                                                                                                                                                                                                                                                                                                                                                                                                                                                                                                                                                                                                                                                                                                                                                                                                                                                                                                                                                                                                                                                                                                                                                                                                                                                                                                                                                                                                                                                                                                                                                                                                                                                                                                                                                                                                                                                                                                                                                                                                                                                                                                                                                                                                                                                                                                                                                                                                                                                                                                                                                                                                                                                                                                                                                                                                                                                                                                                                                                                                                                                                                                                                                                                                                                                                                                                                                                                                                                                                                                                                                                                                                                                                                                                                                                                                                                                                                                                                                                                                                                                                                                                                                                 1\n",
      "In her first television interview since leaving NBC, Ann Curry is speaking out about the #MeToo movement. Curry, who's making a much-anticipated return to TV with her new PBS show, We'll Meet Again, was with NBC's Today show for 15 years. She co-anchored alongside Matt Lauer from 2011 to 2012 before a highly publicized break with the broadcast. Curry left NBC in 2015 and created her own production company. Curry joins CBS This Morning to discuss why she's not surprised by the sexual misconduct allegations against Lauer and how she's moved on from a period in her life that hurt like hell.\\n\\nSubscribe to the CBS This Morning Channel HERE: http://bit.ly/1Q0v2hE\\nWatch CBS This Morning HERE: http://bit.ly/1T88yAR\\nWatch the latest installment of Note to Self, only on CBS This Morning, HERE: http://cbsn.ws/1Sh8XlB\\nFollow CBS This Morning on Instagram HERE: http://bit.ly/1Q7NGnY\\nLike CBS This Morning on Facebook HERE: http://on.fb.me/1LhtdvI\\nFollow CBS This Morning on Twitter HERE: http://bit.ly/1Xj5W3p\\nFollow CBS This Morning on Google+ HERE: http://bit.ly/1SIM4I8\\n\\nGet the latest news and best in original reporting from CBS News delivered to your inbox. Subscribe to newsletters HERE: http://cbsn.ws/1RqHw7T\\n\\nGet your news on the go! Download CBS News mobile apps HERE: http://cbsn.ws/1Xb1WC8\\n\\nGet new episodes of shows you love across devices the next day, stream local news live, and watch full seasons of CBS fan favorites anytime, anywhere with CBS All Access. Try it free! http://bit.ly/1OQA29B\\n\\n\\nDelivered by Norah O’Donnell and Gayle King, CBS This Morning offers a thoughtful, substantive and insightful source of news and information to a daily audience of 3 million viewers. The Emmy Award-winning broadcast presents a mix of daily news, coverage of developing stories of national and global significance, and interviews with leading figures in politics, business and entertainment. Check local listings for CBS This Morning broadcast times.                                                                                                                                                                                                                                                                                                                                                                                                                                                                                                                                                                                                                                                                                                                                                                                                                                                                                                                                                                                                                                                                                                                                                                                                                                                                                                                                                                                                                                                                                                                                                                                                                                                                                                                                                                                                                                                                                                                                                                                                                                                                                                                                                                                                                                                                                                                                                                                                                                                                                                                                                                                                                                                                                                                                                                                                                                                                                                                                                                         1\n",
      "Name: description, Length: 6828, dtype: int64\n"
     ]
    }
   ],
   "source": [
    "print(US_video[\"description\"].value_counts())"
   ]
  },
  {
   "cell_type": "code",
   "execution_count": 66,
   "metadata": {
    "execution": {
     "iopub.execute_input": "2021-11-28T05:24:02.311562Z",
     "iopub.status.busy": "2021-11-28T05:24:02.310926Z",
     "iopub.status.idle": "2021-11-28T05:24:02.326330Z",
     "shell.execute_reply": "2021-11-28T05:24:02.324662Z",
     "shell.execute_reply.started": "2021-11-28T05:24:02.311502Z"
    }
   },
   "outputs": [],
   "source": [
    "US_video.drop([\"tags\",\"description\",\"title\",\"channel_title\",\"publish_time\",\"video_id\",\"thumbnail_link\",\"trending_date\"],axis=1,inplace=True)"
   ]
  },
  {
   "cell_type": "code",
   "execution_count": 67,
   "metadata": {
    "execution": {
     "iopub.execute_input": "2021-11-28T05:24:02.329395Z",
     "iopub.status.busy": "2021-11-28T05:24:02.328510Z",
     "iopub.status.idle": "2021-11-28T05:24:02.339591Z",
     "shell.execute_reply": "2021-11-28T05:24:02.338463Z",
     "shell.execute_reply.started": "2021-11-28T05:24:02.329251Z"
    }
   },
   "outputs": [],
   "source": [
    "data1=US_video.copy(deep=True)"
   ]
  },
  {
   "cell_type": "code",
   "execution_count": 68,
   "metadata": {
    "execution": {
     "iopub.execute_input": "2021-11-28T05:24:02.342074Z",
     "iopub.status.busy": "2021-11-28T05:24:02.341350Z",
     "iopub.status.idle": "2021-11-28T05:24:02.353057Z",
     "shell.execute_reply": "2021-11-28T05:24:02.352125Z",
     "shell.execute_reply.started": "2021-11-28T05:24:02.342011Z"
    }
   },
   "outputs": [],
   "source": [
    "data1[\"comments_disabled\"]=(data1[\"comments_disabled\"]==\"True\").astype(int)"
   ]
  },
  {
   "cell_type": "code",
   "execution_count": 69,
   "metadata": {
    "execution": {
     "iopub.execute_input": "2021-11-28T05:24:02.355078Z",
     "iopub.status.busy": "2021-11-28T05:24:02.354526Z",
     "iopub.status.idle": "2021-11-28T05:24:02.361385Z",
     "shell.execute_reply": "2021-11-28T05:24:02.360311Z",
     "shell.execute_reply.started": "2021-11-28T05:24:02.355034Z"
    }
   },
   "outputs": [],
   "source": [
    "data1[\"ratings_disabled\"]=(data1[\"ratings_disabled\"]==\"True\").astype(int)"
   ]
  },
  {
   "cell_type": "code",
   "execution_count": 70,
   "metadata": {
    "execution": {
     "iopub.execute_input": "2021-11-28T05:24:02.364850Z",
     "iopub.status.busy": "2021-11-28T05:24:02.364256Z",
     "iopub.status.idle": "2021-11-28T05:24:02.372820Z",
     "shell.execute_reply": "2021-11-28T05:24:02.371702Z",
     "shell.execute_reply.started": "2021-11-28T05:24:02.364800Z"
    }
   },
   "outputs": [],
   "source": [
    "data1[\"video_error_or_removed\"]=(data1[\"video_error_or_removed\"]==\"True\").astype(int)"
   ]
  },
  {
   "cell_type": "code",
   "execution_count": 71,
   "metadata": {
    "execution": {
     "iopub.execute_input": "2021-11-28T05:24:02.374651Z",
     "iopub.status.busy": "2021-11-28T05:24:02.374105Z",
     "iopub.status.idle": "2021-11-28T05:24:02.387410Z",
     "shell.execute_reply": "2021-11-28T05:24:02.386692Z",
     "shell.execute_reply.started": "2021-11-28T05:24:02.374611Z"
    }
   },
   "outputs": [
    {
     "name": "stderr",
     "output_type": "stream",
     "text": [
      "/opt/anaconda3/lib/python3.8/site-packages/pandas/core/arraylike.py:358: RuntimeWarning: divide by zero encountered in log\n",
      "  result = getattr(ufunc, method)(*inputs, **kwargs)\n"
     ]
    }
   ],
   "source": [
    "data1[\"likes\"]=np.log(data1[\"likes\"])"
   ]
  },
  {
   "cell_type": "code",
   "execution_count": 72,
   "metadata": {
    "execution": {
     "iopub.execute_input": "2021-11-28T05:24:02.389030Z",
     "iopub.status.busy": "2021-11-28T05:24:02.388555Z",
     "iopub.status.idle": "2021-11-28T05:24:02.395693Z",
     "shell.execute_reply": "2021-11-28T05:24:02.394952Z",
     "shell.execute_reply.started": "2021-11-28T05:24:02.388991Z"
    }
   },
   "outputs": [],
   "source": [
    "data1[\"dislikes\"]=np.log(data1[\"dislikes\"])"
   ]
  },
  {
   "cell_type": "code",
   "execution_count": 73,
   "metadata": {
    "execution": {
     "iopub.execute_input": "2021-11-28T05:24:02.397330Z",
     "iopub.status.busy": "2021-11-28T05:24:02.396922Z",
     "iopub.status.idle": "2021-11-28T05:24:02.406269Z",
     "shell.execute_reply": "2021-11-28T05:24:02.405258Z",
     "shell.execute_reply.started": "2021-11-28T05:24:02.397292Z"
    }
   },
   "outputs": [],
   "source": [
    "data1[\"views\"]=np.log(data1[\"views\"])"
   ]
  },
  {
   "cell_type": "code",
   "execution_count": 74,
   "metadata": {
    "execution": {
     "iopub.execute_input": "2021-11-28T05:24:02.408156Z",
     "iopub.status.busy": "2021-11-28T05:24:02.407357Z",
     "iopub.status.idle": "2021-11-28T05:24:02.416731Z",
     "shell.execute_reply": "2021-11-28T05:24:02.416017Z",
     "shell.execute_reply.started": "2021-11-28T05:24:02.408103Z"
    }
   },
   "outputs": [],
   "source": [
    "data1[\"comment_count\"]=np.log(data1[\"comment_count\"])"
   ]
  },
  {
   "cell_type": "code",
   "execution_count": 75,
   "metadata": {
    "execution": {
     "iopub.execute_input": "2021-11-28T05:24:02.418125Z",
     "iopub.status.busy": "2021-11-28T05:24:02.417696Z",
     "iopub.status.idle": "2021-11-28T05:24:02.428807Z",
     "shell.execute_reply": "2021-11-28T05:24:02.427985Z",
     "shell.execute_reply.started": "2021-11-28T05:24:02.418088Z"
    }
   },
   "outputs": [],
   "source": [
    "data1[\"views\"]=data1[\"views\"].replace([np.inf,-np.inf],np.nan)"
   ]
  },
  {
   "cell_type": "code",
   "execution_count": 76,
   "metadata": {
    "execution": {
     "iopub.execute_input": "2021-11-28T05:24:02.431700Z",
     "iopub.status.busy": "2021-11-28T05:24:02.431068Z",
     "iopub.status.idle": "2021-11-28T05:24:02.441105Z",
     "shell.execute_reply": "2021-11-28T05:24:02.440146Z",
     "shell.execute_reply.started": "2021-11-28T05:24:02.431598Z"
    }
   },
   "outputs": [],
   "source": [
    "data1[\"dislikes\"]=data1[\"dislikes\"].replace([np.inf,-np.inf],np.nan)"
   ]
  },
  {
   "cell_type": "code",
   "execution_count": 77,
   "metadata": {
    "execution": {
     "iopub.execute_input": "2021-11-28T05:24:02.444244Z",
     "iopub.status.busy": "2021-11-28T05:24:02.443263Z",
     "iopub.status.idle": "2021-11-28T05:24:02.483012Z",
     "shell.execute_reply": "2021-11-28T05:24:02.481980Z",
     "shell.execute_reply.started": "2021-11-28T05:24:02.444183Z"
    }
   },
   "outputs": [],
   "source": [
    "data1[\"likes\"]=data1[\"likes\"].replace([np.inf,-np.inf],np.nan)\n",
    "data1[\"comment_count\"]=data1[\"comment_count\"].replace([np.inf,-np.inf],np.nan)\n",
    "data1.isnull().sum()\n",
    "data1.dropna(axis=0,how='any',inplace=True)"
   ]
  },
  {
   "cell_type": "code",
   "execution_count": 78,
   "metadata": {
    "execution": {
     "iopub.execute_input": "2021-11-28T05:24:02.486477Z",
     "iopub.status.busy": "2021-11-28T05:24:02.486042Z",
     "iopub.status.idle": "2021-11-28T05:24:02.586769Z",
     "shell.execute_reply": "2021-11-28T05:24:02.585620Z",
     "shell.execute_reply.started": "2021-11-28T05:24:02.486422Z"
    }
   },
   "outputs": [
    {
     "name": "stdout",
     "output_type": "stream",
     "text": [
      "0.9071937297912798\n",
      "0.9071937297912798\n"
     ]
    }
   ],
   "source": [
    "data1=pd.get_dummies(data1,drop_first=True)\n",
    "x=data1.drop(\"likes\",axis=1,inplace=False)\n",
    "x=x.values\n",
    "y=data1[\"likes\"].values\n",
    "x_train,x_test,y_train,y_test=train_test_split(x,y,test_size=0.3,random_state=0)\n",
    "\n",
    "\n",
    "lgr=LinearRegression(fit_intercept=True)\n",
    "fit_model=lgr.fit(x_train,y_train)\n",
    "prediction=lgr.predict(x_test)\n",
    "\n",
    "print(fit_model.score(x_test,y_test))\n",
    "print(r2_score(y_test,prediction))"
   ]
  },
  {
   "cell_type": "code",
   "execution_count": 79,
   "metadata": {
    "execution": {
     "iopub.execute_input": "2021-11-28T05:24:02.589623Z",
     "iopub.status.busy": "2021-11-28T05:24:02.588827Z",
     "iopub.status.idle": "2021-11-28T05:24:03.103056Z",
     "shell.execute_reply": "2021-11-28T05:24:03.101821Z",
     "shell.execute_reply.started": "2021-11-28T05:24:02.589556Z"
    }
   },
   "outputs": [
    {
     "name": "stdout",
     "output_type": "stream",
     "text": [
      "0.0038550257562513035\n"
     ]
    },
    {
     "name": "stderr",
     "output_type": "stream",
     "text": [
      "/opt/anaconda3/lib/python3.8/site-packages/seaborn/_decorators.py:36: FutureWarning: Pass the following variables as keyword args: x, y. From version 0.12, the only valid positional argument will be `data`, and passing other arguments without an explicit keyword will result in an error or misinterpretation.\n",
      "  warnings.warn(\n"
     ]
    },
    {
     "data": {
      "text/plain": [
       "<AxesSubplot:>"
      ]
     },
     "execution_count": 79,
     "metadata": {},
     "output_type": "execute_result"
    },
    {
     "data": {
      "image/png": "[encoded data removed]",
      "text/plain": [
       "<Figure size 432x288 with 1 Axes>"
      ]
     },
     "metadata": {
      "needs_background": "light"
     },
     "output_type": "display_data"
    }
   ],
   "source": [
    "residual=y_test-prediction\n",
    "print(residual.mean())\n",
    "sns.regplot(prediction,residual,fit_reg=False)"
   ]
  },
  {
   "cell_type": "code",
   "execution_count": 80,
   "metadata": {
    "execution": {
     "iopub.execute_input": "2021-11-28T05:24:03.105685Z",
     "iopub.status.busy": "2021-11-28T05:24:03.105031Z",
     "iopub.status.idle": "2021-11-28T05:24:03.120085Z",
     "shell.execute_reply": "2021-11-28T05:24:03.117941Z",
     "shell.execute_reply.started": "2021-11-28T05:24:03.105609Z"
    }
   },
   "outputs": [
    {
     "name": "stdout",
     "output_type": "stream",
     "text": [
      "1.928061562596312\n",
      "0.5873670180748854\n"
     ]
    }
   ],
   "source": [
    "base_pred=np.repeat(np.mean(y_test),len(y_test))\n",
    "base_rms=np.sqrt(mean_squared_error(y_test,base_pred))\n",
    "rms=np.sqrt(mean_squared_error(y_test,prediction))\n",
    "print(base_rms)\n",
    "print(rms)"
   ]
  },
  {
   "cell_type": "code",
   "execution_count": 81,
   "metadata": {
    "execution": {
     "iopub.execute_input": "2021-11-28T05:24:03.126200Z",
     "iopub.status.busy": "2021-11-28T05:24:03.123888Z",
     "iopub.status.idle": "2021-11-28T05:24:03.387946Z",
     "shell.execute_reply": "2021-11-28T05:24:03.386836Z",
     "shell.execute_reply.started": "2021-11-28T05:24:03.124870Z"
    }
   },
   "outputs": [
    {
     "name": "stdout",
     "output_type": "stream",
     "text": [
      "                                 OLS Regression Results                                \n",
      "=======================================================================================\n",
      "Dep. Variable:                      y   R-squared (uncentered):                   0.997\n",
      "Model:                            OLS   Adj. R-squared (uncentered):              0.997\n",
      "Method:                 Least Squares   F-statistic:                          4.726e+05\n",
      "Date:                Sat, 27 Nov 2021   Prob (F-statistic):                        0.00\n",
      "Time:                        23:26:23   Log-Likelihood:                         -35165.\n",
      "No. Observations:               39781   AIC:                                  7.038e+04\n",
      "Df Residuals:                   39757   BIC:                                  7.058e+04\n",
      "Df Model:                          24                                                  \n",
      "Covariance Type:            nonrobust                                                  \n",
      "==============================================================================\n",
      "                 coef    std err          t      P>|t|      [0.025      0.975]\n",
      "------------------------------------------------------------------------------\n",
      "x1             0.5490      0.004    133.339      0.000       0.541       0.557\n",
      "x2            -0.1485      0.004    -38.249      0.000      -0.156      -0.141\n",
      "x3             0.6401      0.004    173.808      0.000       0.633       0.647\n",
      "const       2.426e-13   2.78e-13      0.872      0.383   -3.03e-13    7.88e-13\n",
      "x4          9.011e-14   1.02e-13      0.884      0.377    -1.1e-13     2.9e-13\n",
      "x5          -1.21e-13   1.38e-13     -0.876      0.381   -3.92e-13     1.5e-13\n",
      "x6             0.0020      0.001      3.717      0.000       0.001       0.003\n",
      "x7             0.0668      0.012      5.717      0.000       0.044       0.090\n",
      "x8             0.7807      0.140      5.596      0.000       0.507       1.054\n",
      "x9            -0.0021      0.001     -4.012      0.000      -0.003      -0.001\n",
      "x10           -0.0638      0.012     -5.440      0.000      -0.087      -0.041\n",
      "x11           -0.7815      0.140     -5.601      0.000      -1.055      -0.508\n",
      "x12           -0.4775      0.034    -14.122      0.000      -0.544      -0.411\n",
      "x13            0.5667      0.014     39.417      0.000       0.539       0.595\n",
      "x14            0.1913      0.023      8.266      0.000       0.146       0.237\n",
      "x15           -0.4911      0.018    -27.562      0.000      -0.526      -0.456\n",
      "x16           -0.2564      0.032     -8.035      0.000      -0.319      -0.194\n",
      "x17            0.0368      0.024      1.512      0.131      -0.011       0.084\n",
      "x18            0.3134      0.016     19.199      0.000       0.281       0.345\n",
      "x19            0.3932      0.016     24.690      0.000       0.362       0.424\n",
      "x20            0.0177      0.014      1.290      0.197      -0.009       0.045\n",
      "x21           -0.9975      0.018    -55.874      0.000      -1.032      -0.962\n",
      "x22            0.4266      0.016     27.517      0.000       0.396       0.457\n",
      "x23            0.2731      0.019     14.202      0.000       0.235       0.311\n",
      "x24            0.0597      0.018      3.410      0.001       0.025       0.094\n",
      "x25            0.1903      0.083      2.291      0.022       0.027       0.353\n",
      "x26            0.0247      0.079      0.314      0.753      -0.129       0.179\n",
      "==============================================================================\n",
      "Omnibus:                     5151.631   Durbin-Watson:                   1.981\n",
      "Prob(Omnibus):                  0.000   Jarque-Bera (JB):            34821.082\n",
      "Skew:                          -0.432   Prob(JB):                         0.00\n",
      "Kurtosis:                       7.501   Cond. No.                     1.01e+16\n",
      "==============================================================================\n",
      "\n",
      "Notes:\n",
      "[1] R² is computed without centering (uncentered) since the model does not contain a constant.\n",
      "[2] Standard Errors assume that the covariance matrix of the errors is correctly specified.\n",
      "[3] The smallest eigenvalue is 3.19e-21. This might indicate that there are\n",
      "strong multicollinearity problems or that the design matrix is singular.\n"
     ]
    }
   ],
   "source": [
    "x1=data1.drop(\"likes\",axis=1,inplace=False)\n",
    "x1=sm.add_constant(x1)\n",
    "y1=data1[\"likes\"]\n",
    "\n",
    "model=sm.OLS(y,x).fit()\n",
    "print(model.summary())"
   ]
  },
  {
   "cell_type": "code",
   "execution_count": 82,
   "metadata": {
    "scrolled": true
   },
   "outputs": [
    {
     "data": {
      "text/html": [
       "<div>\n",
       "<style scoped>\n",
       "    .dataframe tbody tr th:only-of-type {\n",
       "        vertical-align: middle;\n",
       "    }\n",
       "\n",
       "    .dataframe tbody tr th {\n",
       "        vertical-align: top;\n",
       "    }\n",
       "\n",
       "    .dataframe thead th {\n",
       "        text-align: right;\n",
       "    }\n",
       "</style>\n",
       "<table border=\"1\" class=\"dataframe\">\n",
       "  <thead>\n",
       "    <tr style=\"text-align: right;\">\n",
       "      <th></th>\n",
       "      <th>const</th>\n",
       "      <th>views</th>\n",
       "      <th>dislikes</th>\n",
       "      <th>comment_count</th>\n",
       "      <th>comments_disabled</th>\n",
       "      <th>ratings_disabled</th>\n",
       "      <th>video_error_or_removed</th>\n",
       "      <th>publish_day</th>\n",
       "      <th>publish_month</th>\n",
       "      <th>publish_year</th>\n",
       "      <th>...</th>\n",
       "      <th>category_id_20</th>\n",
       "      <th>category_id_22</th>\n",
       "      <th>category_id_23</th>\n",
       "      <th>category_id_24</th>\n",
       "      <th>category_id_25</th>\n",
       "      <th>category_id_26</th>\n",
       "      <th>category_id_27</th>\n",
       "      <th>category_id_28</th>\n",
       "      <th>category_id_29</th>\n",
       "      <th>category_id_43</th>\n",
       "    </tr>\n",
       "  </thead>\n",
       "  <tbody>\n",
       "    <tr>\n",
       "      <th>0</th>\n",
       "      <td>1.0</td>\n",
       "      <td>13.525658</td>\n",
       "      <td>7.994970</td>\n",
       "      <td>9.677465</td>\n",
       "      <td>0</td>\n",
       "      <td>0</td>\n",
       "      <td>0</td>\n",
       "      <td>13</td>\n",
       "      <td>11</td>\n",
       "      <td>2017</td>\n",
       "      <td>...</td>\n",
       "      <td>0</td>\n",
       "      <td>1</td>\n",
       "      <td>0</td>\n",
       "      <td>0</td>\n",
       "      <td>0</td>\n",
       "      <td>0</td>\n",
       "      <td>0</td>\n",
       "      <td>0</td>\n",
       "      <td>0</td>\n",
       "      <td>0</td>\n",
       "    </tr>\n",
       "    <tr>\n",
       "      <th>1</th>\n",
       "      <td>1.0</td>\n",
       "      <td>14.698775</td>\n",
       "      <td>8.723557</td>\n",
       "      <td>9.449593</td>\n",
       "      <td>0</td>\n",
       "      <td>0</td>\n",
       "      <td>0</td>\n",
       "      <td>13</td>\n",
       "      <td>11</td>\n",
       "      <td>2017</td>\n",
       "      <td>...</td>\n",
       "      <td>0</td>\n",
       "      <td>0</td>\n",
       "      <td>0</td>\n",
       "      <td>1</td>\n",
       "      <td>0</td>\n",
       "      <td>0</td>\n",
       "      <td>0</td>\n",
       "      <td>0</td>\n",
       "      <td>0</td>\n",
       "      <td>0</td>\n",
       "    </tr>\n",
       "    <tr>\n",
       "      <th>2</th>\n",
       "      <td>1.0</td>\n",
       "      <td>14.975981</td>\n",
       "      <td>8.582794</td>\n",
       "      <td>9.009570</td>\n",
       "      <td>0</td>\n",
       "      <td>0</td>\n",
       "      <td>0</td>\n",
       "      <td>12</td>\n",
       "      <td>11</td>\n",
       "      <td>2017</td>\n",
       "      <td>...</td>\n",
       "      <td>0</td>\n",
       "      <td>0</td>\n",
       "      <td>1</td>\n",
       "      <td>0</td>\n",
       "      <td>0</td>\n",
       "      <td>0</td>\n",
       "      <td>0</td>\n",
       "      <td>0</td>\n",
       "      <td>0</td>\n",
       "      <td>0</td>\n",
       "    </tr>\n",
       "    <tr>\n",
       "      <th>3</th>\n",
       "      <td>1.0</td>\n",
       "      <td>12.745975</td>\n",
       "      <td>6.501290</td>\n",
       "      <td>7.671361</td>\n",
       "      <td>0</td>\n",
       "      <td>0</td>\n",
       "      <td>0</td>\n",
       "      <td>13</td>\n",
       "      <td>11</td>\n",
       "      <td>2017</td>\n",
       "      <td>...</td>\n",
       "      <td>0</td>\n",
       "      <td>0</td>\n",
       "      <td>0</td>\n",
       "      <td>1</td>\n",
       "      <td>0</td>\n",
       "      <td>0</td>\n",
       "      <td>0</td>\n",
       "      <td>0</td>\n",
       "      <td>0</td>\n",
       "      <td>0</td>\n",
       "    </tr>\n",
       "    <tr>\n",
       "      <th>4</th>\n",
       "      <td>1.0</td>\n",
       "      <td>14.555413</td>\n",
       "      <td>7.595387</td>\n",
       "      <td>9.770984</td>\n",
       "      <td>0</td>\n",
       "      <td>0</td>\n",
       "      <td>0</td>\n",
       "      <td>12</td>\n",
       "      <td>11</td>\n",
       "      <td>2017</td>\n",
       "      <td>...</td>\n",
       "      <td>0</td>\n",
       "      <td>0</td>\n",
       "      <td>0</td>\n",
       "      <td>1</td>\n",
       "      <td>0</td>\n",
       "      <td>0</td>\n",
       "      <td>0</td>\n",
       "      <td>0</td>\n",
       "      <td>0</td>\n",
       "      <td>0</td>\n",
       "    </tr>\n",
       "    <tr>\n",
       "      <th>...</th>\n",
       "      <td>...</td>\n",
       "      <td>...</td>\n",
       "      <td>...</td>\n",
       "      <td>...</td>\n",
       "      <td>...</td>\n",
       "      <td>...</td>\n",
       "      <td>...</td>\n",
       "      <td>...</td>\n",
       "      <td>...</td>\n",
       "      <td>...</td>\n",
       "      <td>...</td>\n",
       "      <td>...</td>\n",
       "      <td>...</td>\n",
       "      <td>...</td>\n",
       "      <td>...</td>\n",
       "      <td>...</td>\n",
       "      <td>...</td>\n",
       "      <td>...</td>\n",
       "      <td>...</td>\n",
       "      <td>...</td>\n",
       "      <td>...</td>\n",
       "    </tr>\n",
       "    <tr>\n",
       "      <th>40944</th>\n",
       "      <td>1.0</td>\n",
       "      <td>14.337637</td>\n",
       "      <td>7.233455</td>\n",
       "      <td>7.884953</td>\n",
       "      <td>0</td>\n",
       "      <td>0</td>\n",
       "      <td>0</td>\n",
       "      <td>18</td>\n",
       "      <td>5</td>\n",
       "      <td>2018</td>\n",
       "      <td>...</td>\n",
       "      <td>0</td>\n",
       "      <td>0</td>\n",
       "      <td>0</td>\n",
       "      <td>0</td>\n",
       "      <td>0</td>\n",
       "      <td>0</td>\n",
       "      <td>0</td>\n",
       "      <td>0</td>\n",
       "      <td>0</td>\n",
       "      <td>0</td>\n",
       "    </tr>\n",
       "    <tr>\n",
       "      <th>40945</th>\n",
       "      <td>1.0</td>\n",
       "      <td>13.878296</td>\n",
       "      <td>5.945421</td>\n",
       "      <td>8.277920</td>\n",
       "      <td>0</td>\n",
       "      <td>0</td>\n",
       "      <td>0</td>\n",
       "      <td>18</td>\n",
       "      <td>5</td>\n",
       "      <td>2018</td>\n",
       "      <td>...</td>\n",
       "      <td>0</td>\n",
       "      <td>1</td>\n",
       "      <td>0</td>\n",
       "      <td>0</td>\n",
       "      <td>0</td>\n",
       "      <td>0</td>\n",
       "      <td>0</td>\n",
       "      <td>0</td>\n",
       "      <td>0</td>\n",
       "      <td>0</td>\n",
       "    </tr>\n",
       "    <tr>\n",
       "      <th>40946</th>\n",
       "      <td>1.0</td>\n",
       "      <td>13.879847</td>\n",
       "      <td>6.939254</td>\n",
       "      <td>8.292048</td>\n",
       "      <td>0</td>\n",
       "      <td>0</td>\n",
       "      <td>0</td>\n",
       "      <td>18</td>\n",
       "      <td>5</td>\n",
       "      <td>2018</td>\n",
       "      <td>...</td>\n",
       "      <td>0</td>\n",
       "      <td>0</td>\n",
       "      <td>0</td>\n",
       "      <td>1</td>\n",
       "      <td>0</td>\n",
       "      <td>0</td>\n",
       "      <td>0</td>\n",
       "      <td>0</td>\n",
       "      <td>0</td>\n",
       "      <td>0</td>\n",
       "    </tr>\n",
       "    <tr>\n",
       "      <th>40947</th>\n",
       "      <td>1.0</td>\n",
       "      <td>15.549078</td>\n",
       "      <td>7.953670</td>\n",
       "      <td>9.479451</td>\n",
       "      <td>0</td>\n",
       "      <td>0</td>\n",
       "      <td>0</td>\n",
       "      <td>17</td>\n",
       "      <td>5</td>\n",
       "      <td>2018</td>\n",
       "      <td>...</td>\n",
       "      <td>0</td>\n",
       "      <td>0</td>\n",
       "      <td>0</td>\n",
       "      <td>0</td>\n",
       "      <td>0</td>\n",
       "      <td>0</td>\n",
       "      <td>0</td>\n",
       "      <td>0</td>\n",
       "      <td>0</td>\n",
       "      <td>0</td>\n",
       "    </tr>\n",
       "    <tr>\n",
       "      <th>40948</th>\n",
       "      <td>1.0</td>\n",
       "      <td>16.148248</td>\n",
       "      <td>12.268935</td>\n",
       "      <td>11.883074</td>\n",
       "      <td>0</td>\n",
       "      <td>0</td>\n",
       "      <td>0</td>\n",
       "      <td>17</td>\n",
       "      <td>5</td>\n",
       "      <td>2018</td>\n",
       "      <td>...</td>\n",
       "      <td>1</td>\n",
       "      <td>0</td>\n",
       "      <td>0</td>\n",
       "      <td>0</td>\n",
       "      <td>0</td>\n",
       "      <td>0</td>\n",
       "      <td>0</td>\n",
       "      <td>0</td>\n",
       "      <td>0</td>\n",
       "      <td>0</td>\n",
       "    </tr>\n",
       "  </tbody>\n",
       "</table>\n",
       "<p>39781 rows × 28 columns</p>\n",
       "</div>"
      ],
      "text/plain": [
       "       const      views   dislikes  comment_count  comments_disabled  \\\n",
       "0        1.0  13.525658   7.994970       9.677465                  0   \n",
       "1        1.0  14.698775   8.723557       9.449593                  0   \n",
       "2        1.0  14.975981   8.582794       9.009570                  0   \n",
       "3        1.0  12.745975   6.501290       7.671361                  0   \n",
       "4        1.0  14.555413   7.595387       9.770984                  0   \n",
       "...      ...        ...        ...            ...                ...   \n",
       "40944    1.0  14.337637   7.233455       7.884953                  0   \n",
       "40945    1.0  13.878296   5.945421       8.277920                  0   \n",
       "40946    1.0  13.879847   6.939254       8.292048                  0   \n",
       "40947    1.0  15.549078   7.953670       9.479451                  0   \n",
       "40948    1.0  16.148248  12.268935      11.883074                  0   \n",
       "\n",
       "       ratings_disabled  video_error_or_removed  publish_day  publish_month  \\\n",
       "0                     0                       0           13             11   \n",
       "1                     0                       0           13             11   \n",
       "2                     0                       0           12             11   \n",
       "3                     0                       0           13             11   \n",
       "4                     0                       0           12             11   \n",
       "...                 ...                     ...          ...            ...   \n",
       "40944                 0                       0           18              5   \n",
       "40945                 0                       0           18              5   \n",
       "40946                 0                       0           18              5   \n",
       "40947                 0                       0           17              5   \n",
       "40948                 0                       0           17              5   \n",
       "\n",
       "       publish_year  ...  category_id_20  category_id_22  category_id_23  \\\n",
       "0              2017  ...               0               1               0   \n",
       "1              2017  ...               0               0               0   \n",
       "2              2017  ...               0               0               1   \n",
       "3              2017  ...               0               0               0   \n",
       "4              2017  ...               0               0               0   \n",
       "...             ...  ...             ...             ...             ...   \n",
       "40944          2018  ...               0               0               0   \n",
       "40945          2018  ...               0               1               0   \n",
       "40946          2018  ...               0               0               0   \n",
       "40947          2018  ...               0               0               0   \n",
       "40948          2018  ...               1               0               0   \n",
       "\n",
       "       category_id_24  category_id_25  category_id_26  category_id_27  \\\n",
       "0                   0               0               0               0   \n",
       "1                   1               0               0               0   \n",
       "2                   0               0               0               0   \n",
       "3                   1               0               0               0   \n",
       "4                   1               0               0               0   \n",
       "...               ...             ...             ...             ...   \n",
       "40944               0               0               0               0   \n",
       "40945               0               0               0               0   \n",
       "40946               1               0               0               0   \n",
       "40947               0               0               0               0   \n",
       "40948               0               0               0               0   \n",
       "\n",
       "       category_id_28  category_id_29  category_id_43  \n",
       "0                   0               0               0  \n",
       "1                   0               0               0  \n",
       "2                   0               0               0  \n",
       "3                   0               0               0  \n",
       "4                   0               0               0  \n",
       "...               ...             ...             ...  \n",
       "40944               0               0               0  \n",
       "40945               0               0               0  \n",
       "40946               0               0               0  \n",
       "40947               0               0               0  \n",
       "40948               0               0               0  \n",
       "\n",
       "[39781 rows x 28 columns]"
      ]
     },
     "execution_count": 82,
     "metadata": {},
     "output_type": "execute_result"
    }
   ],
   "source": [
    "x1"
   ]
  },
  {
   "cell_type": "code",
   "execution_count": null,
   "metadata": {},
   "outputs": [],
   "source": []
  }
 ],
 "metadata": {
  "kernelspec": {
   "display_name": "Python 3",
   "language": "python",
   "name": "python3"
  },
  "language_info": {
   "codemirror_mode": {
    "name": "ipython",
    "version": 3
   },
   "file_extension": ".py",
   "mimetype": "text/x-python",
   "name": "python",
   "nbconvert_exporter": "python",
   "pygments_lexer": "ipython3",
   "version": "3.8.8"
  }
 },
 "nbformat": 4,
 "nbformat_minor": 4
}
