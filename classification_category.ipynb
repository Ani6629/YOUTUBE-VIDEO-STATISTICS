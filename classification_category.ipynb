{
 "cells": [
  {
   "cell_type": "code",
   "execution_count": 1,
   "id": "8b73c3c6",
   "metadata": {},
   "outputs": [],
   "source": [
    "import numpy as np\n",
    "import pandas as pd\n",
    "import collections\n",
    "from sklearn.feature_extraction.text import CountVectorizer\n",
    "from sklearn.model_selection import train_test_split\n",
    "from sklearn.metrics import accuracy_score"
   ]
  },
  {
   "cell_type": "code",
   "execution_count": 2,
   "id": "9b491ba3",
   "metadata": {},
   "outputs": [],
   "source": [
    "from sklearn.naive_bayes import MultinomialNB\n",
    "from sklearn.ensemble import RandomForestClassifier\n",
    "from sklearn.svm import SVC\n",
    "from sklearn.neighbors import KNeighborsClassifier\n",
    "from sklearn.tree import DecisionTreeClassifier"
   ]
  },
  {
   "cell_type": "code",
   "execution_count": 3,
   "id": "f444caa1",
   "metadata": {},
   "outputs": [
    {
     "data": {
      "text/html": [
       "<div>\n",
       "<style scoped>\n",
       "    .dataframe tbody tr th:only-of-type {\n",
       "        vertical-align: middle;\n",
       "    }\n",
       "\n",
       "    .dataframe tbody tr th {\n",
       "        vertical-align: top;\n",
       "    }\n",
       "\n",
       "    .dataframe thead th {\n",
       "        text-align: right;\n",
       "    }\n",
       "</style>\n",
       "<table border=\"1\" class=\"dataframe\">\n",
       "  <thead>\n",
       "    <tr style=\"text-align: right;\">\n",
       "      <th></th>\n",
       "      <th>video_id</th>\n",
       "      <th>trending_date</th>\n",
       "      <th>title</th>\n",
       "      <th>channel_title</th>\n",
       "      <th>category_id</th>\n",
       "      <th>publish_time</th>\n",
       "      <th>tags</th>\n",
       "      <th>views</th>\n",
       "      <th>likes</th>\n",
       "      <th>dislikes</th>\n",
       "      <th>comment_count</th>\n",
       "      <th>thumbnail_link</th>\n",
       "      <th>comments_disabled</th>\n",
       "      <th>ratings_disabled</th>\n",
       "      <th>video_error_or_removed</th>\n",
       "      <th>description</th>\n",
       "    </tr>\n",
       "  </thead>\n",
       "  <tbody>\n",
       "    <tr>\n",
       "      <th>0</th>\n",
       "      <td>2kyS6SvSYSE</td>\n",
       "      <td>17.14.11</td>\n",
       "      <td>WE WANT TO TALK ABOUT OUR MARRIAGE</td>\n",
       "      <td>CaseyNeistat</td>\n",
       "      <td>22</td>\n",
       "      <td>2017-11-13T17:13:01.000Z</td>\n",
       "      <td>SHANtell martin</td>\n",
       "      <td>748374</td>\n",
       "      <td>57527</td>\n",
       "      <td>2966</td>\n",
       "      <td>15954</td>\n",
       "      <td>https://i.ytimg.com/vi/2kyS6SvSYSE/default.jpg</td>\n",
       "      <td>False</td>\n",
       "      <td>False</td>\n",
       "      <td>False</td>\n",
       "      <td>SHANTELL'S CHANNEL - https://www.youtube.com/s...</td>\n",
       "    </tr>\n",
       "    <tr>\n",
       "      <th>1</th>\n",
       "      <td>1ZAPwfrtAFY</td>\n",
       "      <td>17.14.11</td>\n",
       "      <td>The Trump Presidency: Last Week Tonight with J...</td>\n",
       "      <td>LastWeekTonight</td>\n",
       "      <td>24</td>\n",
       "      <td>2017-11-13T07:30:00.000Z</td>\n",
       "      <td>last week tonight trump presidency|\"last week ...</td>\n",
       "      <td>2418783</td>\n",
       "      <td>97185</td>\n",
       "      <td>6146</td>\n",
       "      <td>12703</td>\n",
       "      <td>https://i.ytimg.com/vi/1ZAPwfrtAFY/default.jpg</td>\n",
       "      <td>False</td>\n",
       "      <td>False</td>\n",
       "      <td>False</td>\n",
       "      <td>One year after the presidential election, John...</td>\n",
       "    </tr>\n",
       "    <tr>\n",
       "      <th>2</th>\n",
       "      <td>5qpjK5DgCt4</td>\n",
       "      <td>17.14.11</td>\n",
       "      <td>Racist Superman | Rudy Mancuso, King Bach &amp; Le...</td>\n",
       "      <td>Rudy Mancuso</td>\n",
       "      <td>23</td>\n",
       "      <td>2017-11-12T19:05:24.000Z</td>\n",
       "      <td>racist superman|\"rudy\"|\"mancuso\"|\"king\"|\"bach\"...</td>\n",
       "      <td>3191434</td>\n",
       "      <td>146033</td>\n",
       "      <td>5339</td>\n",
       "      <td>8181</td>\n",
       "      <td>https://i.ytimg.com/vi/5qpjK5DgCt4/default.jpg</td>\n",
       "      <td>False</td>\n",
       "      <td>False</td>\n",
       "      <td>False</td>\n",
       "      <td>WATCH MY PREVIOUS VIDEO ▶ \\n\\nSUBSCRIBE ► http...</td>\n",
       "    </tr>\n",
       "    <tr>\n",
       "      <th>3</th>\n",
       "      <td>puqaWrEC7tY</td>\n",
       "      <td>17.14.11</td>\n",
       "      <td>Nickelback Lyrics: Real or Fake?</td>\n",
       "      <td>Good Mythical Morning</td>\n",
       "      <td>24</td>\n",
       "      <td>2017-11-13T11:00:04.000Z</td>\n",
       "      <td>rhett and link|\"gmm\"|\"good mythical morning\"|\"...</td>\n",
       "      <td>343168</td>\n",
       "      <td>10172</td>\n",
       "      <td>666</td>\n",
       "      <td>2146</td>\n",
       "      <td>https://i.ytimg.com/vi/puqaWrEC7tY/default.jpg</td>\n",
       "      <td>False</td>\n",
       "      <td>False</td>\n",
       "      <td>False</td>\n",
       "      <td>Today we find out if Link is a Nickelback amat...</td>\n",
       "    </tr>\n",
       "    <tr>\n",
       "      <th>4</th>\n",
       "      <td>d380meD0W0M</td>\n",
       "      <td>17.14.11</td>\n",
       "      <td>I Dare You: GOING BALD!?</td>\n",
       "      <td>nigahiga</td>\n",
       "      <td>24</td>\n",
       "      <td>2017-11-12T18:01:41.000Z</td>\n",
       "      <td>ryan|\"higa\"|\"higatv\"|\"nigahiga\"|\"i dare you\"|\"...</td>\n",
       "      <td>2095731</td>\n",
       "      <td>132235</td>\n",
       "      <td>1989</td>\n",
       "      <td>17518</td>\n",
       "      <td>https://i.ytimg.com/vi/d380meD0W0M/default.jpg</td>\n",
       "      <td>False</td>\n",
       "      <td>False</td>\n",
       "      <td>False</td>\n",
       "      <td>I know it's been a while since we did this sho...</td>\n",
       "    </tr>\n",
       "  </tbody>\n",
       "</table>\n",
       "</div>"
      ],
      "text/plain": [
       "      video_id trending_date  \\\n",
       "0  2kyS6SvSYSE      17.14.11   \n",
       "1  1ZAPwfrtAFY      17.14.11   \n",
       "2  5qpjK5DgCt4      17.14.11   \n",
       "3  puqaWrEC7tY      17.14.11   \n",
       "4  d380meD0W0M      17.14.11   \n",
       "\n",
       "                                               title          channel_title  \\\n",
       "0                 WE WANT TO TALK ABOUT OUR MARRIAGE           CaseyNeistat   \n",
       "1  The Trump Presidency: Last Week Tonight with J...        LastWeekTonight   \n",
       "2  Racist Superman | Rudy Mancuso, King Bach & Le...           Rudy Mancuso   \n",
       "3                   Nickelback Lyrics: Real or Fake?  Good Mythical Morning   \n",
       "4                           I Dare You: GOING BALD!?               nigahiga   \n",
       "\n",
       "   category_id              publish_time  \\\n",
       "0           22  2017-11-13T17:13:01.000Z   \n",
       "1           24  2017-11-13T07:30:00.000Z   \n",
       "2           23  2017-11-12T19:05:24.000Z   \n",
       "3           24  2017-11-13T11:00:04.000Z   \n",
       "4           24  2017-11-12T18:01:41.000Z   \n",
       "\n",
       "                                                tags    views   likes  \\\n",
       "0                                    SHANtell martin   748374   57527   \n",
       "1  last week tonight trump presidency|\"last week ...  2418783   97185   \n",
       "2  racist superman|\"rudy\"|\"mancuso\"|\"king\"|\"bach\"...  3191434  146033   \n",
       "3  rhett and link|\"gmm\"|\"good mythical morning\"|\"...   343168   10172   \n",
       "4  ryan|\"higa\"|\"higatv\"|\"nigahiga\"|\"i dare you\"|\"...  2095731  132235   \n",
       "\n",
       "   dislikes  comment_count                                  thumbnail_link  \\\n",
       "0      2966          15954  https://i.ytimg.com/vi/2kyS6SvSYSE/default.jpg   \n",
       "1      6146          12703  https://i.ytimg.com/vi/1ZAPwfrtAFY/default.jpg   \n",
       "2      5339           8181  https://i.ytimg.com/vi/5qpjK5DgCt4/default.jpg   \n",
       "3       666           2146  https://i.ytimg.com/vi/puqaWrEC7tY/default.jpg   \n",
       "4      1989          17518  https://i.ytimg.com/vi/d380meD0W0M/default.jpg   \n",
       "\n",
       "   comments_disabled  ratings_disabled  video_error_or_removed  \\\n",
       "0              False             False                   False   \n",
       "1              False             False                   False   \n",
       "2              False             False                   False   \n",
       "3              False             False                   False   \n",
       "4              False             False                   False   \n",
       "\n",
       "                                         description  \n",
       "0  SHANTELL'S CHANNEL - https://www.youtube.com/s...  \n",
       "1  One year after the presidential election, John...  \n",
       "2  WATCH MY PREVIOUS VIDEO ▶ \\n\\nSUBSCRIBE ► http...  \n",
       "3  Today we find out if Link is a Nickelback amat...  \n",
       "4  I know it's been a while since we did this sho...  "
      ]
     },
     "execution_count": 3,
     "metadata": {},
     "output_type": "execute_result"
    }
   ],
   "source": [
    "video = pd.read_csv(\"USvideos.csv\", header=0)\n",
    "video.head(5)"
   ]
  },
  {
   "cell_type": "code",
   "execution_count": 4,
   "id": "5ecca659",
   "metadata": {},
   "outputs": [],
   "source": [
    "new_columns = ['title', 'category_id']\n",
    "new_video = video[new_columns]\n",
    "new_video.to_csv(\"new_Usvideos.csv\", index=False)\n",
    "new_video = pd.read_csv(\"new_Usvideos.csv\", header=0, names=['Title', 'Category_ID'])"
   ]
  },
  {
   "cell_type": "code",
   "execution_count": 5,
   "id": "27d7c508",
   "metadata": {},
   "outputs": [
    {
     "data": {
      "text/html": [
       "<div>\n",
       "<style scoped>\n",
       "    .dataframe tbody tr th:only-of-type {\n",
       "        vertical-align: middle;\n",
       "    }\n",
       "\n",
       "    .dataframe tbody tr th {\n",
       "        vertical-align: top;\n",
       "    }\n",
       "\n",
       "    .dataframe thead th {\n",
       "        text-align: right;\n",
       "    }\n",
       "</style>\n",
       "<table border=\"1\" class=\"dataframe\">\n",
       "  <thead>\n",
       "    <tr style=\"text-align: right;\">\n",
       "      <th></th>\n",
       "      <th>kind</th>\n",
       "      <th>etag</th>\n",
       "      <th>items</th>\n",
       "    </tr>\n",
       "  </thead>\n",
       "  <tbody>\n",
       "    <tr>\n",
       "      <th>0</th>\n",
       "      <td>youtube#videoCategoryListResponse</td>\n",
       "      <td>\"m2yskBQFythfE4irbTIeOgYYfBU/S730Ilt-Fi-emsQJv...</td>\n",
       "      <td>{'kind': 'youtube#videoCategory', 'etag': '\"m2...</td>\n",
       "    </tr>\n",
       "    <tr>\n",
       "      <th>1</th>\n",
       "      <td>youtube#videoCategoryListResponse</td>\n",
       "      <td>\"m2yskBQFythfE4irbTIeOgYYfBU/S730Ilt-Fi-emsQJv...</td>\n",
       "      <td>{'kind': 'youtube#videoCategory', 'etag': '\"m2...</td>\n",
       "    </tr>\n",
       "    <tr>\n",
       "      <th>2</th>\n",
       "      <td>youtube#videoCategoryListResponse</td>\n",
       "      <td>\"m2yskBQFythfE4irbTIeOgYYfBU/S730Ilt-Fi-emsQJv...</td>\n",
       "      <td>{'kind': 'youtube#videoCategory', 'etag': '\"m2...</td>\n",
       "    </tr>\n",
       "    <tr>\n",
       "      <th>3</th>\n",
       "      <td>youtube#videoCategoryListResponse</td>\n",
       "      <td>\"m2yskBQFythfE4irbTIeOgYYfBU/S730Ilt-Fi-emsQJv...</td>\n",
       "      <td>{'kind': 'youtube#videoCategory', 'etag': '\"m2...</td>\n",
       "    </tr>\n",
       "    <tr>\n",
       "      <th>4</th>\n",
       "      <td>youtube#videoCategoryListResponse</td>\n",
       "      <td>\"m2yskBQFythfE4irbTIeOgYYfBU/S730Ilt-Fi-emsQJv...</td>\n",
       "      <td>{'kind': 'youtube#videoCategory', 'etag': '\"m2...</td>\n",
       "    </tr>\n",
       "  </tbody>\n",
       "</table>\n",
       "</div>"
      ],
      "text/plain": [
       "                                kind  \\\n",
       "0  youtube#videoCategoryListResponse   \n",
       "1  youtube#videoCategoryListResponse   \n",
       "2  youtube#videoCategoryListResponse   \n",
       "3  youtube#videoCategoryListResponse   \n",
       "4  youtube#videoCategoryListResponse   \n",
       "\n",
       "                                                etag  \\\n",
       "0  \"m2yskBQFythfE4irbTIeOgYYfBU/S730Ilt-Fi-emsQJv...   \n",
       "1  \"m2yskBQFythfE4irbTIeOgYYfBU/S730Ilt-Fi-emsQJv...   \n",
       "2  \"m2yskBQFythfE4irbTIeOgYYfBU/S730Ilt-Fi-emsQJv...   \n",
       "3  \"m2yskBQFythfE4irbTIeOgYYfBU/S730Ilt-Fi-emsQJv...   \n",
       "4  \"m2yskBQFythfE4irbTIeOgYYfBU/S730Ilt-Fi-emsQJv...   \n",
       "\n",
       "                                               items  \n",
       "0  {'kind': 'youtube#videoCategory', 'etag': '\"m2...  \n",
       "1  {'kind': 'youtube#videoCategory', 'etag': '\"m2...  \n",
       "2  {'kind': 'youtube#videoCategory', 'etag': '\"m2...  \n",
       "3  {'kind': 'youtube#videoCategory', 'etag': '\"m2...  \n",
       "4  {'kind': 'youtube#videoCategory', 'etag': '\"m2...  "
      ]
     },
     "execution_count": 5,
     "metadata": {},
     "output_type": "execute_result"
    }
   ],
   "source": [
    "category_json = pd.read_json(\"US_category_id.JSON\")\n",
    "category_json.head(5)"
   ]
  },
  {
   "cell_type": "code",
   "execution_count": 6,
   "id": "e58ad153",
   "metadata": {},
   "outputs": [
    {
     "data": {
      "text/plain": [
       "[{'id': '1', 'title': 'Film & Animation'},\n",
       " {'id': '2', 'title': 'Autos & Vehicles'},\n",
       " {'id': '10', 'title': 'Music'},\n",
       " {'id': '15', 'title': 'Pets & Animals'},\n",
       " {'id': '17', 'title': 'Sports'},\n",
       " {'id': '18', 'title': 'Short Movies'},\n",
       " {'id': '19', 'title': 'Travel & Events'},\n",
       " {'id': '20', 'title': 'Gaming'},\n",
       " {'id': '21', 'title': 'Videoblogging'},\n",
       " {'id': '22', 'title': 'People & Blogs'},\n",
       " {'id': '23', 'title': 'Comedy'},\n",
       " {'id': '24', 'title': 'Entertainment'},\n",
       " {'id': '25', 'title': 'News & Politics'},\n",
       " {'id': '26', 'title': 'Howto & Style'},\n",
       " {'id': '27', 'title': 'Education'},\n",
       " {'id': '28', 'title': 'Science & Technology'},\n",
       " {'id': '29', 'title': 'Nonprofits & Activism'},\n",
       " {'id': '30', 'title': 'Movies'},\n",
       " {'id': '31', 'title': 'Anime/Animation'},\n",
       " {'id': '32', 'title': 'Action/Adventure'},\n",
       " {'id': '33', 'title': 'Classics'},\n",
       " {'id': '34', 'title': 'Comedy'},\n",
       " {'id': '35', 'title': 'Documentary'},\n",
       " {'id': '36', 'title': 'Drama'},\n",
       " {'id': '37', 'title': 'Family'},\n",
       " {'id': '38', 'title': 'Foreign'},\n",
       " {'id': '39', 'title': 'Horror'},\n",
       " {'id': '40', 'title': 'Sci-Fi/Fantasy'},\n",
       " {'id': '41', 'title': 'Thriller'},\n",
       " {'id': '42', 'title': 'Shorts'},\n",
       " {'id': '43', 'title': 'Shows'},\n",
       " {'id': '44', 'title': 'Trailers'}]"
      ]
     },
     "execution_count": 6,
     "metadata": {},
     "output_type": "execute_result"
    }
   ],
   "source": [
    "category_dict = [{'id': item['id'], 'title': item['snippet']['title']} for item in category_json['items']]\n",
    "category_dict"
   ]
  },
  {
   "cell_type": "code",
   "execution_count": 7,
   "id": "97ca519c",
   "metadata": {},
   "outputs": [
    {
     "data": {
      "text/html": [
       "<div>\n",
       "<style scoped>\n",
       "    .dataframe tbody tr th:only-of-type {\n",
       "        vertical-align: middle;\n",
       "    }\n",
       "\n",
       "    .dataframe tbody tr th {\n",
       "        vertical-align: top;\n",
       "    }\n",
       "\n",
       "    .dataframe thead th {\n",
       "        text-align: right;\n",
       "    }\n",
       "</style>\n",
       "<table border=\"1\" class=\"dataframe\">\n",
       "  <thead>\n",
       "    <tr style=\"text-align: right;\">\n",
       "      <th></th>\n",
       "      <th>Category_ID</th>\n",
       "      <th>Category</th>\n",
       "    </tr>\n",
       "  </thead>\n",
       "  <tbody>\n",
       "    <tr>\n",
       "      <th>0</th>\n",
       "      <td>1</td>\n",
       "      <td>Film &amp; Animation</td>\n",
       "    </tr>\n",
       "    <tr>\n",
       "      <th>1</th>\n",
       "      <td>2</td>\n",
       "      <td>Autos &amp; Vehicles</td>\n",
       "    </tr>\n",
       "    <tr>\n",
       "      <th>2</th>\n",
       "      <td>10</td>\n",
       "      <td>Music</td>\n",
       "    </tr>\n",
       "    <tr>\n",
       "      <th>3</th>\n",
       "      <td>15</td>\n",
       "      <td>Pets &amp; Animals</td>\n",
       "    </tr>\n",
       "    <tr>\n",
       "      <th>4</th>\n",
       "      <td>17</td>\n",
       "      <td>Sports</td>\n",
       "    </tr>\n",
       "  </tbody>\n",
       "</table>\n",
       "</div>"
      ],
      "text/plain": [
       "  Category_ID          Category\n",
       "0           1  Film & Animation\n",
       "1           2  Autos & Vehicles\n",
       "2          10             Music\n",
       "3          15    Pets & Animals\n",
       "4          17            Sports"
      ]
     },
     "execution_count": 7,
     "metadata": {},
     "output_type": "execute_result"
    }
   ],
   "source": [
    "category_df = pd.DataFrame(category_dict)\n",
    "categories = category_df.rename(index=str, columns = {\"id\":\"Category_ID\",\"title\":\"Category\"})\n",
    "categories.head(5)"
   ]
  },
  {
   "cell_type": "code",
   "execution_count": 8,
   "id": "3dca9cf0",
   "metadata": {},
   "outputs": [],
   "source": [
    "vector = CountVectorizer()\n",
    "counts = vector.fit_transform(new_video['Title'].values)"
   ]
  },
  {
   "cell_type": "code",
   "execution_count": 9,
   "id": "b51450ed",
   "metadata": {},
   "outputs": [],
   "source": [
    "NB_Model = MultinomialNB()\n",
    "RFC_Model = RandomForestClassifier()\n",
    "SVC_Model = SVC()\n",
    "KNC_Model = KNeighborsClassifier()\n",
    "DTC_Model = DecisionTreeClassifier()"
   ]
  },
  {
   "cell_type": "code",
   "execution_count": 10,
   "id": "99353095",
   "metadata": {},
   "outputs": [],
   "source": [
    "output = new_video['Category_ID'].values"
   ]
  },
  {
   "cell_type": "code",
   "execution_count": 11,
   "id": "48758572",
   "metadata": {},
   "outputs": [
    {
     "data": {
      "text/plain": [
       "MultinomialNB()"
      ]
     },
     "execution_count": 11,
     "metadata": {},
     "output_type": "execute_result"
    }
   ],
   "source": [
    "NB_Model.fit(counts,output)"
   ]
  },
  {
   "cell_type": "code",
   "execution_count": 12,
   "id": "ea6237e8",
   "metadata": {},
   "outputs": [
    {
     "data": {
      "text/plain": [
       "RandomForestClassifier()"
      ]
     },
     "execution_count": 12,
     "metadata": {},
     "output_type": "execute_result"
    }
   ],
   "source": [
    "RFC_Model.fit(counts,output)"
   ]
  },
  {
   "cell_type": "code",
   "execution_count": 13,
   "id": "1a6d5329",
   "metadata": {},
   "outputs": [
    {
     "data": {
      "text/plain": [
       "SVC()"
      ]
     },
     "execution_count": 13,
     "metadata": {},
     "output_type": "execute_result"
    }
   ],
   "source": [
    "SVC_Model.fit(counts,output)\n"
   ]
  },
  {
   "cell_type": "code",
   "execution_count": 14,
   "id": "c08df534",
   "metadata": {},
   "outputs": [
    {
     "data": {
      "text/plain": [
       "KNeighborsClassifier()"
      ]
     },
     "execution_count": 14,
     "metadata": {},
     "output_type": "execute_result"
    }
   ],
   "source": [
    "KNC_Model.fit(counts,output)"
   ]
  },
  {
   "cell_type": "code",
   "execution_count": 15,
   "id": "596333f7",
   "metadata": {},
   "outputs": [
    {
     "data": {
      "text/plain": [
       "DecisionTreeClassifier()"
      ]
     },
     "execution_count": 15,
     "metadata": {},
     "output_type": "execute_result"
    }
   ],
   "source": [
    "DTC_Model.fit(counts,output)"
   ]
  },
  {
   "cell_type": "code",
   "execution_count": 16,
   "id": "2aa607e1",
   "metadata": {},
   "outputs": [],
   "source": [
    "X = counts\n",
    "Y = output\n",
    "X_train, X_test, Y_train, Y_test = train_test_split(X, Y, test_size = .1)"
   ]
  },
  {
   "cell_type": "code",
   "execution_count": 17,
   "id": "47884a80",
   "metadata": {},
   "outputs": [
    {
     "name": "stdout",
     "output_type": "stream",
     "text": [
      "The Naive Bayes Algorithm has an accuracy of 0.8964590964590965\n"
     ]
    }
   ],
   "source": [
    "NBtest = MultinomialNB().fit(X_train,Y_train)\n",
    "nb_predictions = NBtest.predict(X_test)\n",
    "acc_nb = NBtest.score(X_test, Y_test)\n",
    "print('The Naive Bayes Algorithm has an accuracy of', acc_nb)"
   ]
  },
  {
   "cell_type": "code",
   "execution_count": 18,
   "id": "5508d85f",
   "metadata": {},
   "outputs": [
    {
     "name": "stdout",
     "output_type": "stream",
     "text": [
      "The Random Forest Algorithm has an accuracy of 0.98998778998779\n"
     ]
    }
   ],
   "source": [
    "RFCtest = RandomForestClassifier().fit(X_train,Y_train)\n",
    "rfc_predictions = RFCtest.predict(X_test)\n",
    "acc_rfc = RFCtest.score(X_test, Y_test)\n",
    "print('The Random Forest Algorithm has an accuracy of', acc_rfc)"
   ]
  },
  {
   "cell_type": "code",
   "execution_count": 19,
   "id": "793c58a3",
   "metadata": {},
   "outputs": [
    {
     "name": "stdout",
     "output_type": "stream",
     "text": [
      "The Support Vector Algorithm has an accuracy of 0.9875457875457876\n"
     ]
    }
   ],
   "source": [
    "SVCtest = SVC().fit(X_train,Y_train)\n",
    "svc_predictions = SVCtest.predict(X_test)\n",
    "acc_svc = SVCtest.score(X_test, Y_test)\n",
    "print('The Support Vector Algorithm has an accuracy of', acc_svc)"
   ]
  },
  {
   "cell_type": "code",
   "execution_count": 20,
   "id": "478c315b",
   "metadata": {},
   "outputs": [
    {
     "name": "stdout",
     "output_type": "stream",
     "text": [
      "The K Neighbors Algorithm has an accuracy of 0.945054945054945\n"
     ]
    }
   ],
   "source": [
    "KNCtest = KNeighborsClassifier().fit(X_train,Y_train)\n",
    "knc_predictions = KNCtest.predict(X_test)\n",
    "acc_knc = KNCtest.score(X_test, Y_test)\n",
    "print('The K Neighbors Algorithm has an accuracy of', acc_knc)"
   ]
  },
  {
   "cell_type": "code",
   "execution_count": 21,
   "id": "8287df19",
   "metadata": {},
   "outputs": [
    {
     "name": "stdout",
     "output_type": "stream",
     "text": [
      "The Decision Tree Algorithm has an accuracy of 0.9882783882783883\n"
     ]
    }
   ],
   "source": [
    "DTCtest = DecisionTreeClassifier().fit(X_train,Y_train)\n",
    "dtc_predictions = DTCtest.predict(X_test)\n",
    "acc_dtc = DTCtest.score(X_test, Y_test)\n",
    "print('The Decision Tree Algorithm has an accuracy of', acc_dtc)"
   ]
  },
  {
   "cell_type": "code",
   "execution_count": 22,
   "id": "ffa0946d",
   "metadata": {},
   "outputs": [],
   "source": [
    "Titles = [\"Hilarious cat plays with toy\",\n",
    "        \"Best fashion looks for Spring 2018\",\n",
    "        \"Olympics opening ceremony highlights\",\n",
    "        \"Warriors basketball game versus the cavs\",\n",
    "        \"CNN world news on donald trump\",\n",
    "        \"Police Chase in Hollywood\",\n",
    "        \"Ed Sheeran - Perfect (Official Music Video)\",\n",
    "        \"how to do eyeshadow\"\n",
    "         ]"
   ]
  },
  {
   "cell_type": "code",
   "execution_count": 23,
   "id": "0a9e9f2a",
   "metadata": {},
   "outputs": [],
   "source": [
    "Titles_counts = vector.transform(Titles)"
   ]
  },
  {
   "cell_type": "code",
   "execution_count": 24,
   "id": "daf2821e",
   "metadata": {},
   "outputs": [
    {
     "data": {
      "text/plain": [
       "array([24, 24, 17, 17, 25, 26, 10, 26])"
      ]
     },
     "execution_count": 24,
     "metadata": {},
     "output_type": "execute_result"
    }
   ],
   "source": [
    "PredictNB = NB_Model.predict(Titles_counts)\n",
    "PredictNB"
   ]
  },
  {
   "cell_type": "code",
   "execution_count": 25,
   "id": "63b66335",
   "metadata": {},
   "outputs": [
    {
     "data": {
      "text/plain": [
       "array([15, 24, 17, 24, 25, 25, 10, 26])"
      ]
     },
     "execution_count": 25,
     "metadata": {},
     "output_type": "execute_result"
    }
   ],
   "source": [
    "PredictRFC = RFC_Model.predict(Titles_counts)\n",
    "PredictRFC"
   ]
  },
  {
   "cell_type": "code",
   "execution_count": 26,
   "id": "9c27bd27",
   "metadata": {},
   "outputs": [
    {
     "data": {
      "text/plain": [
       "array([15, 24, 17, 17, 25, 22, 10, 27])"
      ]
     },
     "execution_count": 26,
     "metadata": {},
     "output_type": "execute_result"
    }
   ],
   "source": [
    "PredictSVC = SVC_Model.predict(Titles_counts)\n",
    "PredictSVC"
   ]
  },
  {
   "cell_type": "code",
   "execution_count": 27,
   "id": "8945f542",
   "metadata": {},
   "outputs": [
    {
     "data": {
      "text/plain": [
       "array([23,  2, 23, 23, 24, 22, 10, 23])"
      ]
     },
     "execution_count": 27,
     "metadata": {},
     "output_type": "execute_result"
    }
   ],
   "source": [
    "PredictKNC = KNC_Model.predict(Titles_counts)\n",
    "PredictKNC"
   ]
  },
  {
   "cell_type": "code",
   "execution_count": 28,
   "id": "069f1a84",
   "metadata": {},
   "outputs": [
    {
     "data": {
      "text/plain": [
       "array([15, 24, 17, 28, 27, 24, 10, 25])"
      ]
     },
     "execution_count": 28,
     "metadata": {},
     "output_type": "execute_result"
    }
   ],
   "source": [
    "PredictDTC = DTC_Model.predict(Titles_counts)\n",
    "PredictDTC"
   ]
  },
  {
   "cell_type": "code",
   "execution_count": 29,
   "id": "a791b8fd",
   "metadata": {},
   "outputs": [],
   "source": [
    "CategoryNamesListNB = []\n",
    "for Category_ID in PredictNB:\n",
    "    MatchingCategoriesNB = [x for x in category_dict if x[\"id\"] == str(Category_ID)]\n",
    "    if MatchingCategoriesNB:\n",
    "        CategoryNamesListNB.append(MatchingCategoriesNB[0][\"title\"])"
   ]
  },
  {
   "cell_type": "code",
   "execution_count": 30,
   "id": "a8f2a122",
   "metadata": {},
   "outputs": [],
   "source": [
    "CategoryNamesListRFC = []\n",
    "for Category_ID in PredictRFC:\n",
    "    MatchingCategoriesRFC = [x for x in category_dict if x[\"id\"] == str(Category_ID)]\n",
    "    if MatchingCategoriesRFC:\n",
    "        CategoryNamesListRFC.append(MatchingCategoriesRFC[0][\"title\"])\n"
   ]
  },
  {
   "cell_type": "code",
   "execution_count": 31,
   "id": "8a565f48",
   "metadata": {},
   "outputs": [],
   "source": [
    "CategoryNamesListSVC = []\n",
    "for Category_ID in PredictSVC:\n",
    "    MatchingCategoriesSVC = [x for x in category_dict if x[\"id\"] == str(Category_ID)]\n",
    "    if MatchingCategoriesSVC:\n",
    "        CategoryNamesListSVC.append(MatchingCategoriesSVC[0][\"title\"])"
   ]
  },
  {
   "cell_type": "code",
   "execution_count": 32,
   "id": "fca7404f",
   "metadata": {},
   "outputs": [],
   "source": [
    "CategoryNamesListKNC = []\n",
    "for Category_ID in PredictKNC:\n",
    "    MatchingCategoriesKNC = [x for x in category_dict if x[\"id\"] == str(Category_ID)]\n",
    "    if MatchingCategoriesKNC:\n",
    "        CategoryNamesListKNC.append(MatchingCategoriesKNC[0][\"title\"])"
   ]
  },
  {
   "cell_type": "code",
   "execution_count": 33,
   "id": "bb33b678",
   "metadata": {},
   "outputs": [],
   "source": [
    "CategoryNamesListDTC = []\n",
    "for Category_ID in PredictDTC:\n",
    "    MatchingCategoriesDTC = [x for x in category_dict if x[\"id\"] == str(Category_ID)]\n",
    "    if MatchingCategoriesDTC:\n",
    "        CategoryNamesListDTC.append(MatchingCategoriesDTC[0][\"title\"])"
   ]
  },
  {
   "cell_type": "code",
   "execution_count": 34,
   "id": "a31e9d43",
   "metadata": {},
   "outputs": [],
   "source": [
    "TitleDataFrameNB = []\n",
    "for i in range(0, len(Titles)):\n",
    "    TitleToCategoriesNB = {'Title': Titles[i],  'Category': CategoryNamesListNB[i]}\n",
    "    TitleDataFrameNB.append(TitleToCategoriesNB)"
   ]
  },
  {
   "cell_type": "code",
   "execution_count": 35,
   "id": "ec2fa1e7",
   "metadata": {},
   "outputs": [],
   "source": [
    "TitleDataFrameRFC = []\n",
    "for i in range(0, len(Titles)):\n",
    "    TitleToCategoriesRFC = {'Title': Titles[i],  'Category': CategoryNamesListRFC[i]}\n",
    "    TitleDataFrameRFC.append(TitleToCategoriesRFC)"
   ]
  },
  {
   "cell_type": "code",
   "execution_count": 36,
   "id": "0429dc54",
   "metadata": {},
   "outputs": [],
   "source": [
    "TitleDataFrameSVC = []\n",
    "for i in range(0, len(Titles)):\n",
    "    TitleToCategoriesSVC = {'Title': Titles[i],  'Category': CategoryNamesListSVC[i]}\n",
    "    TitleDataFrameSVC.append(TitleToCategoriesSVC)"
   ]
  },
  {
   "cell_type": "code",
   "execution_count": 37,
   "id": "a5a6874e",
   "metadata": {},
   "outputs": [],
   "source": [
    "TitleDataFrameKNC = []\n",
    "for i in range(0, len(Titles)):\n",
    "    TitleToCategoriesKNC = {'Title': Titles[i],  'Category': CategoryNamesListKNC[i]}\n",
    "    TitleDataFrameKNC.append(TitleToCategoriesKNC)"
   ]
  },
  {
   "cell_type": "code",
   "execution_count": 38,
   "id": "b4a840d2",
   "metadata": {},
   "outputs": [],
   "source": [
    "TitleDataFrameDTC = []\n",
    "for i in range(0, len(Titles)):\n",
    "    TitleToCategoriesDTC = {'Title': Titles[i],  'Category': CategoryNamesListDTC[i]}\n",
    "    TitleDataFrameDTC.append(TitleToCategoriesDTC)"
   ]
  },
  {
   "cell_type": "code",
   "execution_count": 39,
   "id": "1a2a26eb",
   "metadata": {},
   "outputs": [],
   "source": [
    "PredictDFnb = pd.DataFrame(PredictNB)\n",
    "TitleDFnb = pd.DataFrame(TitleDataFrameNB)\n",
    "PreFinalDFnb = pd.concat([PredictDFnb, TitleDFnb], axis=1)\n",
    "PreFinalDFnb.columns = (['Categ_ID', 'Predicted Category', 'Hypothetical Video Title'])\n",
    "FinalDFnb = PreFinalDFnb.drop(['Categ_ID'],axis=1)\n",
    "colsNB = FinalDFnb.columns.tolist()\n",
    "colsNB = colsNB[-1:] + colsNB[:-1]\n",
    "FinalDFnb= FinalDFnb[colsNB]"
   ]
  },
  {
   "cell_type": "code",
   "execution_count": 40,
   "id": "62519e3e",
   "metadata": {},
   "outputs": [],
   "source": [
    "PredictDFrfc = pd.DataFrame(PredictRFC)\n",
    "TitleDFrfc = pd.DataFrame(TitleDataFrameRFC)\n",
    "PreFinalDFrfc = pd.concat([PredictDFrfc, TitleDFrfc], axis=1)\n",
    "PreFinalDFrfc.columns = (['Categ_ID', 'Predicted Category', 'Hypothetical Video Title'])\n",
    "FinalDFrfc = PreFinalDFrfc.drop(['Categ_ID'],axis=1)\n",
    "colsRFC = FinalDFrfc.columns.tolist()\n",
    "colsRFC = colsRFC[-1:] + colsRFC[:-1]\n",
    "FinalDFrfc= FinalDFrfc[colsRFC]\n"
   ]
  },
  {
   "cell_type": "code",
   "execution_count": 41,
   "id": "33301316",
   "metadata": {},
   "outputs": [],
   "source": [
    "PredictDFsvc = pd.DataFrame(PredictSVC)\n",
    "TitleDFsvc = pd.DataFrame(TitleDataFrameSVC)\n",
    "PreFinalDFsvc = pd.concat([PredictDFsvc, TitleDFsvc], axis=1)\n",
    "PreFinalDFsvc.columns = (['Categ_ID', 'Predicted Category', 'Hypothetical Video Title'])\n",
    "FinalDFsvc = PreFinalDFsvc.drop(['Categ_ID'],axis=1)\n",
    "colsSVC = FinalDFsvc.columns.tolist()\n",
    "colsSVC = colsSVC[-1:] + colsSVC[:-1]\n",
    "FinalDFsvc= FinalDFsvc[colsSVC]\n"
   ]
  },
  {
   "cell_type": "code",
   "execution_count": 42,
   "id": "756cfc88",
   "metadata": {},
   "outputs": [],
   "source": [
    "PredictDFknc = pd.DataFrame(PredictKNC)\n",
    "TitleDFknc = pd.DataFrame(TitleDataFrameKNC)\n",
    "PreFinalDFknc = pd.concat([PredictDFknc, TitleDFknc], axis=1)\n",
    "PreFinalDFknc.columns = (['Categ_ID', 'Predicted Category', 'Hypothetical Video Title'])\n",
    "FinalDFknc = PreFinalDFknc.drop(['Categ_ID'],axis=1)\n",
    "colsKNC = FinalDFknc.columns.tolist()\n",
    "colsKNC = colsKNC[-1:] + colsKNC[:-1]\n",
    "FinalDFknc= FinalDFknc[colsKNC]\n"
   ]
  },
  {
   "cell_type": "code",
   "execution_count": 43,
   "id": "9839ba26",
   "metadata": {},
   "outputs": [],
   "source": [
    "PredictDFdtc = pd.DataFrame(PredictDTC)\n",
    "TitleDFdtc = pd.DataFrame(TitleDataFrameDTC)\n",
    "PreFinalDFdtc = pd.concat([PredictDFdtc, TitleDFdtc], axis=1)\n",
    "PreFinalDFdtc.columns = (['Categ_ID', 'Predicted Category', 'Hypothetical Video Title'])\n",
    "FinalDFdtc = PreFinalDFdtc.drop(['Categ_ID'],axis=1)\n",
    "colsDTC = FinalDFdtc.columns.tolist()\n",
    "colsDTC = colsDTC[-1:] + colsDTC[:-1]\n",
    "FinalDFdtc= FinalDFdtc[colsDTC]"
   ]
  },
  {
   "cell_type": "markdown",
   "id": "1bea2b18",
   "metadata": {},
   "source": [
    "Viewing the Final Prediction Results"
   ]
  },
  {
   "cell_type": "code",
   "execution_count": 44,
   "id": "b6306810",
   "metadata": {},
   "outputs": [],
   "source": [
    "Titles = [\"Hilarious cat plays with toy\",\n",
    "        \"Best fashion looks for Spring 2018\",\n",
    "        \"Olympics opening ceremony highlights\",\n",
    "        \"Warriors basketball game versus the cavs\",\n",
    "        \"CNN world news on donald trump\",\n",
    "        \"Police Chase in Hollywood\",\n",
    "        \"Ed Sheeran - Perfect (Official Music Video)\",\n",
    "        \"how to do eyeshadow\"\n",
    "         ]"
   ]
  },
  {
   "cell_type": "code",
   "execution_count": 46,
   "id": "1394ce74",
   "metadata": {
    "scrolled": false
   },
   "outputs": [
    {
     "data": {
      "text/html": [
       "<div>\n",
       "<style scoped>\n",
       "    .dataframe tbody tr th:only-of-type {\n",
       "        vertical-align: middle;\n",
       "    }\n",
       "\n",
       "    .dataframe tbody tr th {\n",
       "        vertical-align: top;\n",
       "    }\n",
       "\n",
       "    .dataframe thead th {\n",
       "        text-align: right;\n",
       "    }\n",
       "</style>\n",
       "<table border=\"1\" class=\"dataframe\">\n",
       "  <thead>\n",
       "    <tr style=\"text-align: right;\">\n",
       "      <th></th>\n",
       "      <th>Hypothetical Video Title</th>\n",
       "      <th>Predicted Category</th>\n",
       "    </tr>\n",
       "  </thead>\n",
       "  <tbody>\n",
       "    <tr>\n",
       "      <th>0</th>\n",
       "      <td>Pets &amp; Animals</td>\n",
       "      <td>Hilarious cat plays with toy</td>\n",
       "    </tr>\n",
       "    <tr>\n",
       "      <th>1</th>\n",
       "      <td>Entertainment</td>\n",
       "      <td>Best fashion looks for Spring 2018</td>\n",
       "    </tr>\n",
       "    <tr>\n",
       "      <th>2</th>\n",
       "      <td>Sports</td>\n",
       "      <td>Olympics opening ceremony highlights</td>\n",
       "    </tr>\n",
       "    <tr>\n",
       "      <th>3</th>\n",
       "      <td>Science &amp; Technology</td>\n",
       "      <td>Warriors basketball game versus the cavs</td>\n",
       "    </tr>\n",
       "    <tr>\n",
       "      <th>4</th>\n",
       "      <td>Education</td>\n",
       "      <td>CNN world news on donald trump</td>\n",
       "    </tr>\n",
       "    <tr>\n",
       "      <th>5</th>\n",
       "      <td>Entertainment</td>\n",
       "      <td>Police Chase in Hollywood</td>\n",
       "    </tr>\n",
       "    <tr>\n",
       "      <th>6</th>\n",
       "      <td>Music</td>\n",
       "      <td>Ed Sheeran - Perfect (Official Music Video)</td>\n",
       "    </tr>\n",
       "    <tr>\n",
       "      <th>7</th>\n",
       "      <td>News &amp; Politics</td>\n",
       "      <td>how to do eyeshadow</td>\n",
       "    </tr>\n",
       "  </tbody>\n",
       "</table>\n",
       "</div>"
      ],
      "text/plain": [
       "  Hypothetical Video Title                           Predicted Category\n",
       "0           Pets & Animals                 Hilarious cat plays with toy\n",
       "1            Entertainment           Best fashion looks for Spring 2018\n",
       "2                   Sports         Olympics opening ceremony highlights\n",
       "3     Science & Technology     Warriors basketball game versus the cavs\n",
       "4                Education               CNN world news on donald trump\n",
       "5            Entertainment                    Police Chase in Hollywood\n",
       "6                    Music  Ed Sheeran - Perfect (Official Music Video)\n",
       "7          News & Politics                          how to do eyeshadow"
      ]
     },
     "execution_count": 46,
     "metadata": {},
     "output_type": "execute_result"
    }
   ],
   "source": [
    "Titles_counts = vector.transform(Titles)\n",
    "PredictDTC = DTC_Model.predict(Titles_counts)\n",
    "\n",
    "CategoryNamesListDTC = []\n",
    "for Category_ID in PredictDTC:\n",
    "    MatchingCategoriesDTC = [x for x in category_dict if x[\"id\"] == str(Category_ID)]\n",
    "    if MatchingCategoriesDTC:\n",
    "        CategoryNamesListDTC.append(MatchingCategoriesDTC[0][\"title\"])\n",
    "\n",
    "TitleDataFrameDTC = []\n",
    "for i in range(0, len(Titles)):\n",
    "    TitleToCategoriesDTC = {'Title': Titles[i],  'Category': CategoryNamesListDTC[i]}\n",
    "    TitleDataFrameDTC.append(TitleToCategoriesDTC)\n",
    "    \n",
    "PredictDFdtc = pd.DataFrame(PredictDTC)\n",
    "TitleDFdtc = pd.DataFrame(TitleDataFrameDTC)\n",
    "PreFinalDFdtc = pd.concat([PredictDFdtc, TitleDFdtc], axis=1)\n",
    "PreFinalDFdtc.columns = (['Categ_ID', 'Predicted Category', 'Hypothetical Video Title'])\n",
    "FinalDFdtc = PreFinalDFdtc.drop(['Categ_ID'],axis=1)\n",
    "colsDTC = FinalDFdtc.columns.tolist()\n",
    "colsDTC = colsDTC[-1:] + colsDTC[:-1]\n",
    "FinalDFdtc= FinalDFdtc[colsDTC]\n",
    "FinalDFdtc"
   ]
  },
  {
   "cell_type": "code",
   "execution_count": null,
   "id": "2b39b74b",
   "metadata": {},
   "outputs": [],
   "source": [
    "PredictDTC"
   ]
  },
  {
   "cell_type": "code",
   "execution_count": null,
   "id": "12f71650",
   "metadata": {},
   "outputs": [],
   "source": [
    "MatchingCategoriesDTC"
   ]
  },
  {
   "cell_type": "code",
   "execution_count": null,
   "id": "5384208a",
   "metadata": {},
   "outputs": [],
   "source": [
    "MatchingCategoriesDTC = [x for x in category_dict if x[\"id\"] == str(Category_ID)]"
   ]
  },
  {
   "cell_type": "code",
   "execution_count": null,
   "id": "3cadfe76",
   "metadata": {},
   "outputs": [],
   "source": [
    "Category_ID"
   ]
  },
  {
   "cell_type": "code",
   "execution_count": null,
   "id": "87f7dc9d",
   "metadata": {},
   "outputs": [],
   "source": [
    "CategoryNamesListDTC = []\n",
    "for Category_ID in PredictDTC:\n",
    "    MatchingCategoriesDTC = [x for x in category_dict if x[\"id\"] == str(Category_ID)]\n",
    "    if MatchingCategoriesDTC:\n",
    "        CategoryNamesListDTC.append(MatchingCategoriesDTC[0][\"title\"])"
   ]
  },
  {
   "cell_type": "code",
   "execution_count": null,
   "id": "93a7f937",
   "metadata": {},
   "outputs": [],
   "source": [
    "CategoryNamesListDTC"
   ]
  },
  {
   "cell_type": "code",
   "execution_count": null,
   "id": "a58caa8b",
   "metadata": {},
   "outputs": [],
   "source": []
  }
 ],
 "metadata": {
  "kernelspec": {
   "display_name": "Python 3",
   "language": "python",
   "name": "python3"
  },
  "language_info": {
   "codemirror_mode": {
    "name": "ipython",
    "version": 3
   },
   "file_extension": ".py",
   "mimetype": "text/x-python",
   "name": "python",
   "nbconvert_exporter": "python",
   "pygments_lexer": "ipython3",
   "version": "3.8.8"
  }
 },
 "nbformat": 4,
 "nbformat_minor": 5
}
